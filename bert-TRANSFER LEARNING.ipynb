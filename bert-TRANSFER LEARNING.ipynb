{
 "cells": [
  {
   "cell_type": "code",
   "execution_count": 4,
   "id": "c4ed5fcc",
   "metadata": {},
   "outputs": [],
   "source": [
    "import re\n",
    "import torch\n",
    "import pickle\n",
    "import numpy as np\n",
    "import pandas as pd\n",
    "from tqdm import tqdm\n",
    "import torch.nn as nn\n",
    "from transformers import BertModel\n",
    "from transformers import BertTokenizer\n",
    "from sklearn.metrics import accuracy_score\n",
    "from sklearn.preprocessing import LabelEncoder\n",
    "from sklearn.model_selection import train_test_split"
   ]
  },
  {
   "cell_type": "code",
   "execution_count": 5,
   "id": "37420944",
   "metadata": {},
   "outputs": [
    {
     "name": "stdout",
     "output_type": "stream",
     "text": [
      "                  Japanese Sentence   Category\n",
      "0            この製品は動かない！早急に対処してください。  Complaint\n",
      "1          配達が遅すぎる！サービスの質を改善してください。  Complaint\n",
      "2         サポートへの連絡がつながらない。改善してください。  Complaint\n",
      "3    予約した商品が売り切れだった。通知システムを改善してほしい。  Complaint\n",
      "4   注文した商品と異なるものが届いた。返品手続きを教えてください。  Complaint\n",
      "5                 商品の品質が悪い。返金してほしい。  Complaint\n",
      "6            このアプリは使いづらい。改善をお願いします。  Complaint\n",
      "7        店員の態度がひどい。トレーニングを強化してください。  Complaint\n",
      "8           騒音がひどくて眠れない。対策を講じてください。  Complaint\n",
      "9           請求書の金額が間違っている。修正してください。  Complaint\n",
      "10                 商品の在庫状況を教えてください。    Inquiry\n",
      "11          このサービスの料金体系を詳しく教えてください。    Inquiry\n",
      "12               予約のキャンセル方法を知りたいです。    Inquiry\n",
      "13             修理サービスの利用方法を教えてください。    Inquiry\n",
      "14            このイベントの日程と場所を教えてください。    Inquiry\n",
      "15              メニューにアレルギー情報はありますか？    Inquiry\n",
      "16   ホテルのチェックインとチェックアウトの時間を確認したいです。    Inquiry\n",
      "17            オンライン注文の追跡方法を教えてください。    Inquiry\n",
      "18          旅行パッケージに含まれるものを教えてください。    Inquiry\n",
      "19                製品の保証期間はどれくらいですか？    Inquiry\n",
      "20            お祝いのメッセージを送ります！おめでとう！     Others\n",
      "21              明日の会議を確認しました。参加します。     Others\n",
      "22     新商品のお知らせです。詳細はウェブサイトでご覧ください。     Others\n",
      "23     今週末のイベントにご招待いただき、ありがとうございます。     Others\n",
      "24               お会いできるのを楽しみにしています！     Others\n",
      "25             天気予報によると明日は晴れるそうですね。     Others\n",
      "26    プロジェクトの進捗状況を報告します。完成まであと少しです。     Others\n",
      "27                本日は休業日です。ご了承ください。     Others\n",
      "28    お客様の声を大切にしています。アンケートにご協力ください。     Others\n",
      "29     ありがとうございました。またのご利用をお待ちしています。     Others\n"
     ]
    }
   ],
   "source": [
    "\n",
    "data = {\n",
    "    'Japanese Sentence': [\n",
    "        \"この製品は動かない！早急に対処してください。\",\n",
    "        \"配達が遅すぎる！サービスの質を改善してください。\",\n",
    "        \"サポートへの連絡がつながらない。改善してください。\",\n",
    "        \"予約した商品が売り切れだった。通知システムを改善してほしい。\",\n",
    "        \"注文した商品と異なるものが届いた。返品手続きを教えてください。\",\n",
    "        \"商品の品質が悪い。返金してほしい。\",\n",
    "        \"このアプリは使いづらい。改善をお願いします。\",\n",
    "        \"店員の態度がひどい。トレーニングを強化してください。\",\n",
    "        \"騒音がひどくて眠れない。対策を講じてください。\",\n",
    "        \"請求書の金額が間違っている。修正してください。\",\n",
    "        \"商品の在庫状況を教えてください。\",\n",
    "        \"このサービスの料金体系を詳しく教えてください。\",\n",
    "        \"予約のキャンセル方法を知りたいです。\",\n",
    "        \"修理サービスの利用方法を教えてください。\",\n",
    "        \"このイベントの日程と場所を教えてください。\",\n",
    "        \"メニューにアレルギー情報はありますか？\",\n",
    "        \"ホテルのチェックインとチェックアウトの時間を確認したいです。\",\n",
    "        \"オンライン注文の追跡方法を教えてください。\",\n",
    "        \"旅行パッケージに含まれるものを教えてください。\",\n",
    "        \"製品の保証期間はどれくらいですか？\",\n",
    "        \"お祝いのメッセージを送ります！おめでとう！\",\n",
    "        \"明日の会議を確認しました。参加します。\",\n",
    "        \"新商品のお知らせです。詳細はウェブサイトでご覧ください。\",\n",
    "        \"今週末のイベントにご招待いただき、ありがとうございます。\",\n",
    "        \"お会いできるのを楽しみにしています！\",\n",
    "        \"天気予報によると明日は晴れるそうですね。\",\n",
    "        \"プロジェクトの進捗状況を報告します。完成まであと少しです。\",\n",
    "        \"本日は休業日です。ご了承ください。\",\n",
    "        \"お客様の声を大切にしています。アンケートにご協力ください。\",\n",
    "        \"ありがとうございました。またのご利用をお待ちしています。\"\n",
    "    ],\n",
    "    'Category': [\n",
    "        'Complaint', 'Complaint', 'Complaint', 'Complaint', 'Complaint',\n",
    "        'Complaint', 'Complaint', 'Complaint', 'Complaint', 'Complaint',\n",
    "        'Inquiry', 'Inquiry', 'Inquiry', 'Inquiry', 'Inquiry',\n",
    "        'Inquiry', 'Inquiry', 'Inquiry', 'Inquiry', 'Inquiry',\n",
    "        'Others', 'Others', 'Others', 'Others', 'Others',\n",
    "        'Others', 'Others', 'Others', 'Others', 'Others'\n",
    "    ]\n",
    "}\n",
    "\n",
    "df = pd.DataFrame(data)\n",
    "\n",
    "print(df)\n"
   ]
  },
  {
   "cell_type": "code",
   "execution_count": 11,
   "id": "ec697d76",
   "metadata": {},
   "outputs": [],
   "source": [
    "lr = 1e-3\n",
    "seq_len = 20\n",
    "dropout = 0.5\n",
    "\n",
    "#label_col = \"Product\"\n",
    "tokens_path = \"Output/tokens(jap).pkl\"\n",
    "labels_path = \"Output/labels(jap).pkl\"\n",
    "model_path = \"Output/bert_pre_trained(jap).pth\"\n",
    "#text_col_name = \"Consumer complaint narrative\"\n",
    "label_encoder_path = \"Output/label_encoder(jap).pkl\"\n"
   ]
  },
  {
   "cell_type": "code",
   "execution_count": 8,
   "id": "4da2b9ec",
   "metadata": {},
   "outputs": [],
   "source": [
    "def save_file(name, obj):\n",
    "    \"\"\"\n",
    "    Function to save an object as pickle file\n",
    "    \"\"\"\n",
    "    with open(name, 'wb') as f:\n",
    "        pickle.dump(obj, f)\n",
    "\n",
    "\n",
    "def load_file(name):\n",
    "    \"\"\"\n",
    "    Function to load a pickle object\n",
    "    \"\"\"\n",
    "    return pickle.load(open(name, \"rb\"))"
   ]
  },
  {
   "cell_type": "markdown",
   "id": "64246157",
   "metadata": {},
   "source": [
    "## Process text data\n",
    "---"
   ]
  },
  {
   "cell_type": "code",
   "execution_count": 9,
   "id": "ccad4958",
   "metadata": {},
   "outputs": [],
   "source": [
    "data = df"
   ]
  },
  {
   "cell_type": "code",
   "execution_count": 10,
   "id": "6a84b26f",
   "metadata": {},
   "outputs": [
    {
     "data": {
      "text/html": [
       "<div>\n",
       "<style scoped>\n",
       "    .dataframe tbody tr th:only-of-type {\n",
       "        vertical-align: middle;\n",
       "    }\n",
       "\n",
       "    .dataframe tbody tr th {\n",
       "        vertical-align: top;\n",
       "    }\n",
       "\n",
       "    .dataframe thead th {\n",
       "        text-align: right;\n",
       "    }\n",
       "</style>\n",
       "<table border=\"1\" class=\"dataframe\">\n",
       "  <thead>\n",
       "    <tr style=\"text-align: right;\">\n",
       "      <th></th>\n",
       "      <th>Japanese Sentence</th>\n",
       "      <th>Category</th>\n",
       "    </tr>\n",
       "  </thead>\n",
       "  <tbody>\n",
       "    <tr>\n",
       "      <th>0</th>\n",
       "      <td>この製品は動かない！早急に対処してください。</td>\n",
       "      <td>Complaint</td>\n",
       "    </tr>\n",
       "    <tr>\n",
       "      <th>1</th>\n",
       "      <td>配達が遅すぎる！サービスの質を改善してください。</td>\n",
       "      <td>Complaint</td>\n",
       "    </tr>\n",
       "    <tr>\n",
       "      <th>2</th>\n",
       "      <td>サポートへの連絡がつながらない。改善してください。</td>\n",
       "      <td>Complaint</td>\n",
       "    </tr>\n",
       "    <tr>\n",
       "      <th>3</th>\n",
       "      <td>予約した商品が売り切れだった。通知システムを改善してほしい。</td>\n",
       "      <td>Complaint</td>\n",
       "    </tr>\n",
       "    <tr>\n",
       "      <th>4</th>\n",
       "      <td>注文した商品と異なるものが届いた。返品手続きを教えてください。</td>\n",
       "      <td>Complaint</td>\n",
       "    </tr>\n",
       "    <tr>\n",
       "      <th>5</th>\n",
       "      <td>商品の品質が悪い。返金してほしい。</td>\n",
       "      <td>Complaint</td>\n",
       "    </tr>\n",
       "    <tr>\n",
       "      <th>6</th>\n",
       "      <td>このアプリは使いづらい。改善をお願いします。</td>\n",
       "      <td>Complaint</td>\n",
       "    </tr>\n",
       "    <tr>\n",
       "      <th>7</th>\n",
       "      <td>店員の態度がひどい。トレーニングを強化してください。</td>\n",
       "      <td>Complaint</td>\n",
       "    </tr>\n",
       "    <tr>\n",
       "      <th>8</th>\n",
       "      <td>騒音がひどくて眠れない。対策を講じてください。</td>\n",
       "      <td>Complaint</td>\n",
       "    </tr>\n",
       "    <tr>\n",
       "      <th>9</th>\n",
       "      <td>請求書の金額が間違っている。修正してください。</td>\n",
       "      <td>Complaint</td>\n",
       "    </tr>\n",
       "    <tr>\n",
       "      <th>10</th>\n",
       "      <td>商品の在庫状況を教えてください。</td>\n",
       "      <td>Inquiry</td>\n",
       "    </tr>\n",
       "    <tr>\n",
       "      <th>11</th>\n",
       "      <td>このサービスの料金体系を詳しく教えてください。</td>\n",
       "      <td>Inquiry</td>\n",
       "    </tr>\n",
       "    <tr>\n",
       "      <th>12</th>\n",
       "      <td>予約のキャンセル方法を知りたいです。</td>\n",
       "      <td>Inquiry</td>\n",
       "    </tr>\n",
       "    <tr>\n",
       "      <th>13</th>\n",
       "      <td>修理サービスの利用方法を教えてください。</td>\n",
       "      <td>Inquiry</td>\n",
       "    </tr>\n",
       "    <tr>\n",
       "      <th>14</th>\n",
       "      <td>このイベントの日程と場所を教えてください。</td>\n",
       "      <td>Inquiry</td>\n",
       "    </tr>\n",
       "    <tr>\n",
       "      <th>15</th>\n",
       "      <td>メニューにアレルギー情報はありますか？</td>\n",
       "      <td>Inquiry</td>\n",
       "    </tr>\n",
       "    <tr>\n",
       "      <th>16</th>\n",
       "      <td>ホテルのチェックインとチェックアウトの時間を確認したいです。</td>\n",
       "      <td>Inquiry</td>\n",
       "    </tr>\n",
       "    <tr>\n",
       "      <th>17</th>\n",
       "      <td>オンライン注文の追跡方法を教えてください。</td>\n",
       "      <td>Inquiry</td>\n",
       "    </tr>\n",
       "    <tr>\n",
       "      <th>18</th>\n",
       "      <td>旅行パッケージに含まれるものを教えてください。</td>\n",
       "      <td>Inquiry</td>\n",
       "    </tr>\n",
       "    <tr>\n",
       "      <th>19</th>\n",
       "      <td>製品の保証期間はどれくらいですか？</td>\n",
       "      <td>Inquiry</td>\n",
       "    </tr>\n",
       "    <tr>\n",
       "      <th>20</th>\n",
       "      <td>お祝いのメッセージを送ります！おめでとう！</td>\n",
       "      <td>Others</td>\n",
       "    </tr>\n",
       "    <tr>\n",
       "      <th>21</th>\n",
       "      <td>明日の会議を確認しました。参加します。</td>\n",
       "      <td>Others</td>\n",
       "    </tr>\n",
       "    <tr>\n",
       "      <th>22</th>\n",
       "      <td>新商品のお知らせです。詳細はウェブサイトでご覧ください。</td>\n",
       "      <td>Others</td>\n",
       "    </tr>\n",
       "    <tr>\n",
       "      <th>23</th>\n",
       "      <td>今週末のイベントにご招待いただき、ありがとうございます。</td>\n",
       "      <td>Others</td>\n",
       "    </tr>\n",
       "    <tr>\n",
       "      <th>24</th>\n",
       "      <td>お会いできるのを楽しみにしています！</td>\n",
       "      <td>Others</td>\n",
       "    </tr>\n",
       "    <tr>\n",
       "      <th>25</th>\n",
       "      <td>天気予報によると明日は晴れるそうですね。</td>\n",
       "      <td>Others</td>\n",
       "    </tr>\n",
       "    <tr>\n",
       "      <th>26</th>\n",
       "      <td>プロジェクトの進捗状況を報告します。完成まであと少しです。</td>\n",
       "      <td>Others</td>\n",
       "    </tr>\n",
       "    <tr>\n",
       "      <th>27</th>\n",
       "      <td>本日は休業日です。ご了承ください。</td>\n",
       "      <td>Others</td>\n",
       "    </tr>\n",
       "    <tr>\n",
       "      <th>28</th>\n",
       "      <td>お客様の声を大切にしています。アンケートにご協力ください。</td>\n",
       "      <td>Others</td>\n",
       "    </tr>\n",
       "    <tr>\n",
       "      <th>29</th>\n",
       "      <td>ありがとうございました。またのご利用をお待ちしています。</td>\n",
       "      <td>Others</td>\n",
       "    </tr>\n",
       "  </tbody>\n",
       "</table>\n",
       "</div>"
      ],
      "text/plain": [
       "                  Japanese Sentence   Category\n",
       "0            この製品は動かない！早急に対処してください。  Complaint\n",
       "1          配達が遅すぎる！サービスの質を改善してください。  Complaint\n",
       "2         サポートへの連絡がつながらない。改善してください。  Complaint\n",
       "3    予約した商品が売り切れだった。通知システムを改善してほしい。  Complaint\n",
       "4   注文した商品と異なるものが届いた。返品手続きを教えてください。  Complaint\n",
       "5                 商品の品質が悪い。返金してほしい。  Complaint\n",
       "6            このアプリは使いづらい。改善をお願いします。  Complaint\n",
       "7        店員の態度がひどい。トレーニングを強化してください。  Complaint\n",
       "8           騒音がひどくて眠れない。対策を講じてください。  Complaint\n",
       "9           請求書の金額が間違っている。修正してください。  Complaint\n",
       "10                 商品の在庫状況を教えてください。    Inquiry\n",
       "11          このサービスの料金体系を詳しく教えてください。    Inquiry\n",
       "12               予約のキャンセル方法を知りたいです。    Inquiry\n",
       "13             修理サービスの利用方法を教えてください。    Inquiry\n",
       "14            このイベントの日程と場所を教えてください。    Inquiry\n",
       "15              メニューにアレルギー情報はありますか？    Inquiry\n",
       "16   ホテルのチェックインとチェックアウトの時間を確認したいです。    Inquiry\n",
       "17            オンライン注文の追跡方法を教えてください。    Inquiry\n",
       "18          旅行パッケージに含まれるものを教えてください。    Inquiry\n",
       "19                製品の保証期間はどれくらいですか？    Inquiry\n",
       "20            お祝いのメッセージを送ります！おめでとう！     Others\n",
       "21              明日の会議を確認しました。参加します。     Others\n",
       "22     新商品のお知らせです。詳細はウェブサイトでご覧ください。     Others\n",
       "23     今週末のイベントにご招待いただき、ありがとうございます。     Others\n",
       "24               お会いできるのを楽しみにしています！     Others\n",
       "25             天気予報によると明日は晴れるそうですね。     Others\n",
       "26    プロジェクトの進捗状況を報告します。完成まであと少しです。     Others\n",
       "27                本日は休業日です。ご了承ください。     Others\n",
       "28    お客様の声を大切にしています。アンケートにご協力ください。     Others\n",
       "29     ありがとうございました。またのご利用をお待ちしています。     Others"
      ]
     },
     "execution_count": 10,
     "metadata": {},
     "output_type": "execute_result"
    }
   ],
   "source": [
    "df"
   ]
  },
  {
   "cell_type": "code",
   "execution_count": 5,
   "id": "45e6a0e5",
   "metadata": {},
   "outputs": [],
   "source": [
    "#data.dropna(subset=[text_col_name], inplace=True)"
   ]
  },
  {
   "cell_type": "code",
   "execution_count": 6,
   "id": "e64c45ca",
   "metadata": {},
   "outputs": [],
   "source": [
    "#data=data.iloc[:10000]"
   ]
  },
  {
   "cell_type": "code",
   "execution_count": 7,
   "id": "0e14a0c5",
   "metadata": {},
   "outputs": [],
   "source": [
    "#data.replace({label_col: product_map}, inplace=True)"
   ]
  },
  {
   "cell_type": "markdown",
   "id": "7207cee2",
   "metadata": {},
   "source": [
    "### Encode labels"
   ]
  },
  {
   "cell_type": "code",
   "execution_count": 12,
   "id": "49752a60",
   "metadata": {},
   "outputs": [],
   "source": [
    "label_encoder = LabelEncoder()\n",
    "label_encoder.fit(data['Category'])\n",
    "labels = label_encoder.transform(data['Category'])"
   ]
  },
  {
   "cell_type": "code",
   "execution_count": 13,
   "id": "69578215",
   "metadata": {},
   "outputs": [
    {
     "data": {
      "text/plain": [
       "array([0, 0, 0, 0, 0, 0, 0, 0, 0, 0, 1, 1, 1, 1, 1, 1, 1, 1, 1, 1, 2, 2,\n",
       "       2, 2, 2, 2, 2, 2, 2, 2])"
      ]
     },
     "execution_count": 13,
     "metadata": {},
     "output_type": "execute_result"
    }
   ],
   "source": [
    "labels"
   ]
  },
  {
   "cell_type": "code",
   "execution_count": 14,
   "id": "e7b912ad",
   "metadata": {},
   "outputs": [],
   "source": [
    "save_file(labels_path, labels)\n",
    "save_file(label_encoder_path, label_encoder)"
   ]
  },
  {
   "cell_type": "markdown",
   "id": "d53e405c",
   "metadata": {},
   "source": [
    "### Process the text column"
   ]
  },
  {
   "cell_type": "code",
   "execution_count": 15,
   "id": "34ffaab7",
   "metadata": {},
   "outputs": [],
   "source": [
    "input_text = list(data[\"Japanese Sentence\"])"
   ]
  },
  {
   "cell_type": "code",
   "execution_count": 16,
   "id": "14034928",
   "metadata": {},
   "outputs": [
    {
     "data": {
      "text/plain": [
       "30"
      ]
     },
     "execution_count": 16,
     "metadata": {},
     "output_type": "execute_result"
    }
   ],
   "source": [
    "len(input_text)"
   ]
  },
  {
   "cell_type": "markdown",
   "id": "4a867d36",
   "metadata": {},
   "source": [
    "### Convert text to lower case"
   ]
  },
  {
   "cell_type": "code",
   "execution_count": 14,
   "id": "5ad2a95f",
   "metadata": {},
   "outputs": [
    {
     "name": "stderr",
     "output_type": "stream",
     "text": [
      "100%|████████████████████████████████████████████████████████████████████████| 10000/10000 [00:00<00:00, 411989.86it/s]\n"
     ]
    }
   ],
   "source": [
    "#input_text = [i.lower() for i in tqdm(input_text)]"
   ]
  },
  {
   "cell_type": "markdown",
   "id": "51cd359f",
   "metadata": {},
   "source": [
    "### Remove punctuations except apostrophe"
   ]
  },
  {
   "cell_type": "markdown",
   "id": "308757e9",
   "metadata": {},
   "source": [
    "re.sub(r\"[^\\w\\d'\\s]+\", \" \", i)는 re 모듈의 sub 함수를 사용하여 문자열 i에서 [^\\w\\d'\\s]+ 패턴에 매치되는 모든 부분을 공백으로 대체합니다.\n",
    "\n",
    "여기서 정규 표현식 [^\\w\\d'\\s]+은 다음과 같이 구성됩니다:\n",
    "\n",
    "[^\\w\\d'\\s]: \\w는 알파벳과 숫자를 의미하며, \\d는 숫자를 의미합니다. '\\s'는 공백 문자를 의미하고, [^...]는 해당 문자들을 제외한 모든 문자를 의미합니다."
   ]
  },
  {
   "cell_type": "code",
   "execution_count": 17,
   "id": "2e1cde62",
   "metadata": {},
   "outputs": [
    {
     "name": "stderr",
     "output_type": "stream",
     "text": [
      "100%|████████████████████████████████████████████████████████████████████████████████| 30/30 [00:00<00:00, 5697.75it/s]\n"
     ]
    }
   ],
   "source": [
    "input_text = [re.sub(r\"[^\\w\\d'\\s]+\", \" \", i)\n",
    "             for i in tqdm(input_text)]"
   ]
  },
  {
   "cell_type": "code",
   "execution_count": 18,
   "id": "a0b8f34f",
   "metadata": {},
   "outputs": [
    {
     "data": {
      "text/plain": [
       "['この製品は動かない 早急に対処してください ',\n",
       " '配達が遅すぎる サービスの質を改善してください ',\n",
       " 'サポートへの連絡がつながらない 改善してください ',\n",
       " '予約した商品が売り切れだった 通知システムを改善してほしい ',\n",
       " '注文した商品と異なるものが届いた 返品手続きを教えてください ',\n",
       " '商品の品質が悪い 返金してほしい ',\n",
       " 'このアプリは使いづらい 改善をお願いします ',\n",
       " '店員の態度がひどい トレーニングを強化してください ',\n",
       " '騒音がひどくて眠れない 対策を講じてください ',\n",
       " '請求書の金額が間違っている 修正してください ',\n",
       " '商品の在庫状況を教えてください ',\n",
       " 'このサービスの料金体系を詳しく教えてください ',\n",
       " '予約のキャンセル方法を知りたいです ',\n",
       " '修理サービスの利用方法を教えてください ',\n",
       " 'このイベントの日程と場所を教えてください ',\n",
       " 'メニューにアレルギー情報はありますか ',\n",
       " 'ホテルのチェックインとチェックアウトの時間を確認したいです ',\n",
       " 'オンライン注文の追跡方法を教えてください ',\n",
       " '旅行パッケージに含まれるものを教えてください ',\n",
       " '製品の保証期間はどれくらいですか ',\n",
       " 'お祝いのメッセージを送ります おめでとう ',\n",
       " '明日の会議を確認しました 参加します ',\n",
       " '新商品のお知らせです 詳細はウェブサイトでご覧ください ',\n",
       " '今週末のイベントにご招待いただき ありがとうございます ',\n",
       " 'お会いできるのを楽しみにしています ',\n",
       " '天気予報によると明日は晴れるそうですね ',\n",
       " 'プロジェクトの進捗状況を報告します 完成まであと少しです ',\n",
       " '本日は休業日です ご了承ください ',\n",
       " 'お客様の声を大切にしています アンケートにご協力ください ',\n",
       " 'ありがとうございました またのご利用をお待ちしています ']"
      ]
     },
     "execution_count": 18,
     "metadata": {},
     "output_type": "execute_result"
    }
   ],
   "source": [
    "input_text"
   ]
  },
  {
   "cell_type": "markdown",
   "id": "b9f4a1f5",
   "metadata": {},
   "source": [
    "### Remove digits"
   ]
  },
  {
   "cell_type": "code",
   "execution_count": 19,
   "id": "d610a9a8",
   "metadata": {},
   "outputs": [
    {
     "name": "stderr",
     "output_type": "stream",
     "text": [
      "100%|███████████████████████████████████████████████████████████████████████████████| 30/30 [00:00<00:00, 27752.34it/s]\n"
     ]
    }
   ],
   "source": [
    "input_text = [re.sub(\"\\d+\", \"\", i) for i in tqdm(input_text)]"
   ]
  },
  {
   "cell_type": "code",
   "execution_count": 20,
   "id": "49397394",
   "metadata": {},
   "outputs": [
    {
     "data": {
      "text/plain": [
       "['この製品は動かない 早急に対処してください ',\n",
       " '配達が遅すぎる サービスの質を改善してください ',\n",
       " 'サポートへの連絡がつながらない 改善してください ',\n",
       " '予約した商品が売り切れだった 通知システムを改善してほしい ',\n",
       " '注文した商品と異なるものが届いた 返品手続きを教えてください ',\n",
       " '商品の品質が悪い 返金してほしい ',\n",
       " 'このアプリは使いづらい 改善をお願いします ',\n",
       " '店員の態度がひどい トレーニングを強化してください ',\n",
       " '騒音がひどくて眠れない 対策を講じてください ',\n",
       " '請求書の金額が間違っている 修正してください ',\n",
       " '商品の在庫状況を教えてください ',\n",
       " 'このサービスの料金体系を詳しく教えてください ',\n",
       " '予約のキャンセル方法を知りたいです ',\n",
       " '修理サービスの利用方法を教えてください ',\n",
       " 'このイベントの日程と場所を教えてください ',\n",
       " 'メニューにアレルギー情報はありますか ',\n",
       " 'ホテルのチェックインとチェックアウトの時間を確認したいです ',\n",
       " 'オンライン注文の追跡方法を教えてください ',\n",
       " '旅行パッケージに含まれるものを教えてください ',\n",
       " '製品の保証期間はどれくらいですか ',\n",
       " 'お祝いのメッセージを送ります おめでとう ',\n",
       " '明日の会議を確認しました 参加します ',\n",
       " '新商品のお知らせです 詳細はウェブサイトでご覧ください ',\n",
       " '今週末のイベントにご招待いただき ありがとうございます ',\n",
       " 'お会いできるのを楽しみにしています ',\n",
       " '天気予報によると明日は晴れるそうですね ',\n",
       " 'プロジェクトの進捗状況を報告します 完成まであと少しです ',\n",
       " '本日は休業日です ご了承ください ',\n",
       " 'お客様の声を大切にしています アンケートにご協力ください ',\n",
       " 'ありがとうございました またのご利用をお待ちしています ']"
      ]
     },
     "execution_count": 20,
     "metadata": {},
     "output_type": "execute_result"
    }
   ],
   "source": [
    "input_text"
   ]
  },
  {
   "cell_type": "markdown",
   "id": "6157ab6e",
   "metadata": {},
   "source": [
    "### Remove more than one consecutive instance of 'x'"
   ]
  },
  {
   "cell_type": "code",
   "execution_count": 21,
   "id": "8e765d86",
   "metadata": {},
   "outputs": [
    {
     "name": "stderr",
     "output_type": "stream",
     "text": [
      "100%|██████████████████████████████████████████████████████████████████████████████████████████| 30/30 [00:00<?, ?it/s]\n"
     ]
    }
   ],
   "source": [
    "input_text = [re.sub(r'[x]{2,}', \"\", i) for i in tqdm(input_text)]"
   ]
  },
  {
   "cell_type": "markdown",
   "id": "e74b80fc",
   "metadata": {},
   "source": [
    "### Remove multiple spaces with single space"
   ]
  },
  {
   "cell_type": "code",
   "execution_count": 22,
   "id": "68c399a3",
   "metadata": {},
   "outputs": [
    {
     "name": "stderr",
     "output_type": "stream",
     "text": [
      "100%|██████████████████████████████████████████████████████████████████████████████████████████| 30/30 [00:00<?, ?it/s]\n"
     ]
    }
   ],
   "source": [
    "input_text = [re.sub(' +', ' ', i) for i in tqdm(input_text)]"
   ]
  },
  {
   "cell_type": "code",
   "execution_count": 23,
   "id": "ae218235",
   "metadata": {},
   "outputs": [
    {
     "data": {
      "text/plain": [
       "['この製品は動かない 早急に対処してください ',\n",
       " '配達が遅すぎる サービスの質を改善してください ',\n",
       " 'サポートへの連絡がつながらない 改善してください ',\n",
       " '予約した商品が売り切れだった 通知システムを改善してほしい ',\n",
       " '注文した商品と異なるものが届いた 返品手続きを教えてください ',\n",
       " '商品の品質が悪い 返金してほしい ',\n",
       " 'このアプリは使いづらい 改善をお願いします ',\n",
       " '店員の態度がひどい トレーニングを強化してください ',\n",
       " '騒音がひどくて眠れない 対策を講じてください ',\n",
       " '請求書の金額が間違っている 修正してください ',\n",
       " '商品の在庫状況を教えてください ',\n",
       " 'このサービスの料金体系を詳しく教えてください ',\n",
       " '予約のキャンセル方法を知りたいです ',\n",
       " '修理サービスの利用方法を教えてください ',\n",
       " 'このイベントの日程と場所を教えてください ',\n",
       " 'メニューにアレルギー情報はありますか ',\n",
       " 'ホテルのチェックインとチェックアウトの時間を確認したいです ',\n",
       " 'オンライン注文の追跡方法を教えてください ',\n",
       " '旅行パッケージに含まれるものを教えてください ',\n",
       " '製品の保証期間はどれくらいですか ',\n",
       " 'お祝いのメッセージを送ります おめでとう ',\n",
       " '明日の会議を確認しました 参加します ',\n",
       " '新商品のお知らせです 詳細はウェブサイトでご覧ください ',\n",
       " '今週末のイベントにご招待いただき ありがとうございます ',\n",
       " 'お会いできるのを楽しみにしています ',\n",
       " '天気予報によると明日は晴れるそうですね ',\n",
       " 'プロジェクトの進捗状況を報告します 完成まであと少しです ',\n",
       " '本日は休業日です ご了承ください ',\n",
       " 'お客様の声を大切にしています アンケートにご協力ください ',\n",
       " 'ありがとうございました またのご利用をお待ちしています ']"
      ]
     },
     "execution_count": 23,
     "metadata": {},
     "output_type": "execute_result"
    }
   ],
   "source": [
    "input_text"
   ]
  },
  {
   "cell_type": "markdown",
   "id": "46fa09e2",
   "metadata": {},
   "source": [
    "### Tokenize the text"
   ]
  },
  {
   "cell_type": "code",
   "execution_count": 24,
   "id": "5232d10a",
   "metadata": {},
   "outputs": [
    {
     "data": {
      "application/vnd.jupyter.widget-view+json": {
       "model_id": "a6c1dc26cbf24fdbabbbcac079da56c9",
       "version_major": 2,
       "version_minor": 0
      },
      "text/plain": [
       "Downloading:   0%|          | 0.00/258k [00:00<?, ?B/s]"
      ]
     },
     "metadata": {},
     "output_type": "display_data"
    },
    {
     "data": {
      "application/vnd.jupyter.widget-view+json": {
       "model_id": "e0bf2895be974fb7a09d241e68862f43",
       "version_major": 2,
       "version_minor": 0
      },
      "text/plain": [
       "Downloading:   0%|          | 0.00/104 [00:00<?, ?B/s]"
      ]
     },
     "metadata": {},
     "output_type": "display_data"
    }
   ],
   "source": [
    "tokenizer = BertTokenizer.from_pretrained(\"cl-tohoku/bert-base-japanese\")"
   ]
  },
  {
   "cell_type": "code",
   "execution_count": 25,
   "id": "c606d801",
   "metadata": {},
   "outputs": [
    {
     "data": {
      "text/plain": [
       "'この製品は動かない 早急に対処してください '"
      ]
     },
     "execution_count": 25,
     "metadata": {},
     "output_type": "execute_result"
    }
   ],
   "source": [
    "input_text[0]"
   ]
  },
  {
   "cell_type": "code",
   "execution_count": 26,
   "id": "51ba20a4",
   "metadata": {},
   "outputs": [],
   "source": [
    "sample_tokens = tokenizer(input_text[0], padding=\"max_length\",\n",
    "                         max_length=seq_len, truncation=True,\n",
    "                         return_tensors=\"pt\")"
   ]
  },
  {
   "cell_type": "code",
   "execution_count": 27,
   "id": "03334517",
   "metadata": {},
   "outputs": [
    {
     "data": {
      "text/plain": [
       "{'input_ids': tensor([[    2,    70,   338,  1227,     9,   531, 12580, 28457,  1214,  1132,\n",
       "             7,   216,  1106,    15, 28456, 28504, 28565,  7103,     3,     0]]), 'token_type_ids': tensor([[0, 0, 0, 0, 0, 0, 0, 0, 0, 0, 0, 0, 0, 0, 0, 0, 0, 0, 0, 0]]), 'attention_mask': tensor([[1, 1, 1, 1, 1, 1, 1, 1, 1, 1, 1, 1, 1, 1, 1, 1, 1, 1, 1, 0]])}"
      ]
     },
     "execution_count": 27,
     "metadata": {},
     "output_type": "execute_result"
    }
   ],
   "source": [
    "sample_tokens"
   ]
  },
  {
   "cell_type": "code",
   "execution_count": 28,
   "id": "5d7a9ba6",
   "metadata": {},
   "outputs": [
    {
     "data": {
      "text/plain": [
       "tensor([[    2,    70,   338,  1227,     9,   531, 12580, 28457,  1214,  1132,\n",
       "             7,   216,  1106,    15, 28456, 28504, 28565,  7103,     3,     0]])"
      ]
     },
     "execution_count": 28,
     "metadata": {},
     "output_type": "execute_result"
    }
   ],
   "source": [
    "sample_tokens[\"input_ids\"]"
   ]
  },
  {
   "cell_type": "code",
   "execution_count": 29,
   "id": "af51439b",
   "metadata": {},
   "outputs": [
    {
     "data": {
      "text/plain": [
       "tensor([[1, 1, 1, 1, 1, 1, 1, 1, 1, 1, 1, 1, 1, 1, 1, 1, 1, 1, 1, 0]])"
      ]
     },
     "execution_count": 29,
     "metadata": {},
     "output_type": "execute_result"
    }
   ],
   "source": [
    "sample_tokens[\"attention_mask\"]"
   ]
  },
  {
   "cell_type": "code",
   "execution_count": 30,
   "id": "587aa9a4",
   "metadata": {},
   "outputs": [
    {
     "name": "stderr",
     "output_type": "stream",
     "text": [
      "100%|████████████████████████████████████████████████████████████████████████████████| 30/30 [00:00<00:00, 1816.69it/s]\n"
     ]
    }
   ],
   "source": [
    "tokens = [tokenizer(i, padding=\"max_length\", max_length=seq_len, \n",
    "                    truncation=True, return_tensors=\"pt\") \n",
    "         for i in tqdm(input_text)]"
   ]
  },
  {
   "cell_type": "code",
   "execution_count": 31,
   "id": "e1988f46",
   "metadata": {},
   "outputs": [
    {
     "data": {
      "text/plain": [
       "[{'input_ids': tensor([[    2,    70,   338,  1227,     9,   531, 12580, 28457,  1214,  1132,\n",
       "              7,   216,  1106,    15, 28456, 28504, 28565,  7103,     3,     0]]), 'token_type_ids': tensor([[0, 0, 0, 0, 0, 0, 0, 0, 0, 0, 0, 0, 0, 0, 0, 0, 0, 0, 0, 0]]), 'attention_mask': tensor([[1, 1, 1, 1, 1, 1, 1, 1, 1, 1, 1, 1, 1, 1, 1, 1, 1, 1, 1, 0]])},\n",
       " {'input_ids': tensor([[    2,   549,   784,    14,  2333,  8896,  1645, 28444,  2015,    11,\n",
       "            307,  3743,    15, 28456, 28504, 28565,  7103,     3,     0,     0]]), 'token_type_ids': tensor([[0, 0, 0, 0, 0, 0, 0, 0, 0, 0, 0, 0, 0, 0, 0, 0, 0, 0, 0, 0]]), 'attention_mask': tensor([[1, 1, 1, 1, 1, 1, 1, 1, 1, 1, 1, 1, 1, 1, 1, 1, 1, 1, 0, 0]])},\n",
       " {'input_ids': tensor([[    2,  4283, 28647, 28444,   195,  8145,    14, 28532,  4319,  3721,\n",
       "            307,  3743,    15, 28456, 28504, 28565,  7103,     3,     0,     0]]), 'token_type_ids': tensor([[0, 0, 0, 0, 0, 0, 0, 0, 0, 0, 0, 0, 0, 0, 0, 0, 0, 0, 0, 0]]), 'attention_mask': tensor([[1, 1, 1, 1, 1, 1, 1, 1, 1, 1, 1, 1, 1, 1, 1, 1, 1, 1, 0, 0]])},\n",
       " {'input_ids': tensor([[    2,   496,   482,  5160,   638,  1227,    14,  1146,  1582,  1170,\n",
       "             20, 28565,   926,   179,   357,  1179, 28453,   307,  3743,     3]]), 'token_type_ids': tensor([[0, 0, 0, 0, 0, 0, 0, 0, 0, 0, 0, 0, 0, 0, 0, 0, 0, 0, 0, 0]]), 'attention_mask': tensor([[1, 1, 1, 1, 1, 1, 1, 1, 1, 1, 1, 1, 1, 1, 1, 1, 1, 1, 1, 1]])},\n",
       " {'input_ids': tensor([[    2,  1211,   214,  5160,   638,  1227,    13,   532,   139,  3744,\n",
       "          28458,  3550,  6785,  2434,  1227,   319,   438,   322, 28453,     3]]), 'token_type_ids': tensor([[0, 0, 0, 0, 0, 0, 0, 0, 0, 0, 0, 0, 0, 0, 0, 0, 0, 0, 0, 0]]), 'attention_mask': tensor([[1, 1, 1, 1, 1, 1, 1, 1, 1, 1, 1, 1, 1, 1, 1, 1, 1, 1, 1, 1]])},\n",
       " {'input_ids': tensor([[    2,   638,  1227,     5,  1227,  2015,    14,  1181,    21,  2434,\n",
       "            412,    15, 28456, 28761,   485,     3,     0,     0,     0,     0]]), 'token_type_ids': tensor([[0, 0, 0, 0, 0, 0, 0, 0, 0, 0, 0, 0, 0, 0, 0, 0, 0, 0, 0, 0]]), 'attention_mask': tensor([[1, 1, 1, 1, 1, 1, 1, 1, 1, 1, 1, 1, 1, 1, 1, 1, 0, 0, 0, 0]])},\n",
       " {'input_ids': tensor([[    2,    70, 16422, 28450,   196, 25394,  3000,   307,  3743,    11,\n",
       "          28525,  4568,  9251, 11665,     3,     0,     0,     0,     0,     0]]), 'token_type_ids': tensor([[0, 0, 0, 0, 0, 0, 0, 0, 0, 0, 0, 0, 0, 0, 0, 0, 0, 0, 0, 0]]), 'attention_mask': tensor([[1, 1, 1, 1, 1, 1, 1, 1, 1, 1, 1, 1, 1, 1, 1, 0, 0, 0, 0, 0]])},\n",
       " {'input_ids': tensor([[    2,   805,  1151,     5,  5600,   559,    14, 29065, 28536, 28457,\n",
       "           6594, 28453,   427,   237,    15, 28456, 28504, 28565,  7103,     3]]), 'token_type_ids': tensor([[0, 0, 0, 0, 0, 0, 0, 0, 0, 0, 0, 0, 0, 0, 0, 0, 0, 0, 0, 0]]), 'attention_mask': tensor([[1, 1, 1, 1, 1, 1, 1, 1, 1, 1, 1, 1, 1, 1, 1, 1, 1, 1, 1, 1]])},\n",
       " {'input_ids': tensor([[    2,  3919,   419,    14, 29065, 28536, 28504, 28456,  8263,    20,\n",
       "           3721,   216,  3714,    11,  1290,  1173, 28456, 28504, 28565,     3]]), 'token_type_ids': tensor([[0, 0, 0, 0, 0, 0, 0, 0, 0, 0, 0, 0, 0, 0, 0, 0, 0, 0, 0, 0]]), 'attention_mask': tensor([[1, 1, 1, 1, 1, 1, 1, 1, 1, 1, 1, 1, 1, 1, 1, 1, 1, 1, 1, 1]])},\n",
       " {'input_ids': tensor([[    2,  3332,  1354,   395,     5,   412,  3703,    14,   284,  1236,\n",
       "           6172, 28355,   842,   371,    15, 28456, 28504, 28565,  7103,     3]]), 'token_type_ids': tensor([[0, 0, 0, 0, 0, 0, 0, 0, 0, 0, 0, 0, 0, 0, 0, 0, 0, 0, 0, 0]]), 'attention_mask': tensor([[1, 1, 1, 1, 1, 1, 1, 1, 1, 1, 1, 1, 1, 1, 1, 1, 1, 1, 1, 1]])},\n",
       " {'input_ids': tensor([[    2,   638,  1227,     5,   946,  9124,   514,     1,    11,   207,\n",
       "           1723, 28456, 28504, 28565,  7103,     3,     0,     0,     0,     0]]), 'token_type_ids': tensor([[0, 0, 0, 0, 0, 0, 0, 0, 0, 0, 0, 0, 0, 0, 0, 0, 0, 0, 0, 0]]), 'attention_mask': tensor([[1, 1, 1, 1, 1, 1, 1, 1, 1, 1, 1, 1, 1, 1, 1, 1, 0, 0, 0, 0]])},\n",
       " {'input_ids': tensor([[    2,    70, 10380, 28444,  1436,   412,   397,   384,    11,  2165,\n",
       "             15, 28504,   207,  1723, 28456, 28504, 28565,  7103,     3,     0]]), 'token_type_ids': tensor([[0, 0, 0, 0, 0, 0, 0, 0, 0, 0, 0, 0, 0, 0, 0, 0, 0, 0, 0, 0]]), 'attention_mask': tensor([[1, 1, 1, 1, 1, 1, 1, 1, 1, 1, 1, 1, 1, 1, 1, 1, 1, 1, 1, 0]])},\n",
       " {'input_ids': tensor([[    2,   496,   482,     5,  9904,  3543,   283,   253,    11,   357,\n",
       "           1582,  4541, 28455, 28484,     3,     0,     0,     0,     0,     0]]), 'token_type_ids': tensor([[0, 0, 0, 0, 0, 0, 0, 0, 0, 0, 0, 0, 0, 0, 0, 0, 0, 0, 0, 0]]), 'attention_mask': tensor([[1, 1, 1, 1, 1, 1, 1, 1, 1, 1, 1, 1, 1, 1, 1, 0, 0, 0, 0, 0]])},\n",
       " {'input_ids': tensor([[    2,   842,   493,  1645, 28444,   468,   241,   283,   253,    11,\n",
       "            207,  1723, 28456, 28504, 28565,  7103,     3,     0,     0,     0]]), 'token_type_ids': tensor([[0, 0, 0, 0, 0, 0, 0, 0, 0, 0, 0, 0, 0, 0, 0, 0, 0, 0, 0, 0]]), 'attention_mask': tensor([[1, 1, 1, 1, 1, 1, 1, 1, 1, 1, 1, 1, 1, 1, 1, 1, 1, 0, 0, 0]])},\n",
       " {'input_ids': tensor([[    2,    70, 25173, 28444,    32,  1404,    13,   173,   233,    11,\n",
       "            207,  1723, 28456, 28504, 28565,  7103,     3,     0,     0,     0]]), 'token_type_ids': tensor([[0, 0, 0, 0, 0, 0, 0, 0, 0, 0, 0, 0, 0, 0, 0, 0, 0, 0, 0, 0]]), 'attention_mask': tensor([[1, 1, 1, 1, 1, 1, 1, 1, 1, 1, 1, 1, 1, 1, 1, 1, 1, 0, 0, 0]])},\n",
       " {'input_ids': tensor([[    2, 10494, 28446, 18284, 28467,  1500,   806,   874,     9, 28474,\n",
       "          28477, 11665, 28470,     3,     0,     0,     0,     0,     0,     0]]), 'token_type_ids': tensor([[0, 0, 0, 0, 0, 0, 0, 0, 0, 0, 0, 0, 0, 0, 0, 0, 0, 0, 0, 0]]), 'attention_mask': tensor([[1, 1, 1, 1, 1, 1, 1, 1, 1, 1, 1, 1, 1, 1, 0, 0, 0, 0, 0, 0]])},\n",
       " {'input_ids': tensor([[    2,  3228, 28444,  1612,    93,   217, 28452,  1612,    93,  7416,\n",
       "          28444,    72,   284,    11,   675,   661,  5160, 28457, 28455,     3]]), 'token_type_ids': tensor([[0, 0, 0, 0, 0, 0, 0, 0, 0, 0, 0, 0, 0, 0, 0, 0, 0, 0, 0, 0]]), 'attention_mask': tensor([[1, 1, 1, 1, 1, 1, 1, 1, 1, 1, 1, 1, 1, 1, 1, 1, 1, 1, 1, 1]])},\n",
       " {'input_ids': tensor([[    2,  6465,  1211,   214,     5,   671,  2355,   283,   253,    11,\n",
       "            207,  1723, 28456, 28504, 28565,  7103,     3,     0,     0,     0]]), 'token_type_ids': tensor([[0, 0, 0, 0, 0, 0, 0, 0, 0, 0, 0, 0, 0, 0, 0, 0, 0, 0, 0, 0]]), 'attention_mask': tensor([[1, 1, 1, 1, 1, 1, 1, 1, 1, 1, 1, 1, 1, 1, 1, 1, 1, 0, 0, 0]])},\n",
       " {'input_ids': tensor([[    2,  1144,    77,  6756, 28446,   490, 11148, 28449,  3744, 28453,\n",
       "            207,  1723, 28456, 28504, 28565,  7103,     3,     0,     0,     0]]), 'token_type_ids': tensor([[0, 0, 0, 0, 0, 0, 0, 0, 0, 0, 0, 0, 0, 0, 0, 0, 0, 0, 0, 0]]), 'attention_mask': tensor([[1, 1, 1, 1, 1, 1, 1, 1, 1, 1, 1, 1, 1, 1, 1, 1, 1, 0, 0, 0]])},\n",
       " {'input_ids': tensor([[    2,   338,  1227,     5,   394,  1349,   453,   284,     9, 28536,\n",
       "          28461, 19692, 28457, 28455, 28484, 28470,     3,     0,     0,     0]]), 'token_type_ids': tensor([[0, 0, 0, 0, 0, 0, 0, 0, 0, 0, 0, 0, 0, 0, 0, 0, 0, 0, 0, 0]]), 'attention_mask': tensor([[1, 1, 1, 1, 1, 1, 1, 1, 1, 1, 1, 1, 1, 1, 1, 1, 1, 0, 0, 0]])},\n",
       " {'input_ids': tensor([[    2,    73,  3897, 25580, 22101,   321, 28453,  1104,  1582, 11665,\n",
       "             73, 28506, 28455,  3671,     3,     0,     0,     0,     0,     0]]), 'token_type_ids': tensor([[0, 0, 0, 0, 0, 0, 0, 0, 0, 0, 0, 0, 0, 0, 0, 0, 0, 0, 0, 0]]), 'attention_mask': tensor([[1, 1, 1, 1, 1, 1, 1, 1, 1, 1, 1, 1, 1, 1, 1, 0, 0, 0, 0, 0]])},\n",
       " {'input_ids': tensor([[    2,   313,    32,     5,   136,   499,    11,   675,   661,  1084,\n",
       "           2239,   289,   381,  1084, 28484,     3,     0,     0,     0,     0]]), 'token_type_ids': tensor([[0, 0, 0, 0, 0, 0, 0, 0, 0, 0, 0, 0, 0, 0, 0, 0, 0, 0, 0, 0]]), 'attention_mask': tensor([[1, 1, 1, 1, 1, 1, 1, 1, 1, 1, 1, 1, 1, 1, 1, 1, 0, 0, 0, 0]])},\n",
       " {'input_ids': tensor([[    2,   147,   638,  1227,     5, 28525,   357,    60, 28616, 28455,\n",
       "          28484,  2165,  1051,     9, 26180,  5006, 28455, 29066,     1,     3]]), 'token_type_ids': tensor([[0, 0, 0, 0, 0, 0, 0, 0, 0, 0, 0, 0, 0, 0, 0, 0, 0, 0, 0, 0]]), 'attention_mask': tensor([[1, 1, 1, 1, 1, 1, 1, 1, 1, 1, 1, 1, 1, 1, 1, 1, 1, 1, 1, 1]])},\n",
       " {'input_ids': tensor([[    2,   744,  1361,  1107,     5, 25173, 28446, 29066,  1955,  2323,\n",
       "          23466, 28512, 21670, 29066, 18526, 11665,     3,     0,     0,     0]]), 'token_type_ids': tensor([[0, 0, 0, 0, 0, 0, 0, 0, 0, 0, 0, 0, 0, 0, 0, 0, 0, 0, 0, 0]]), 'attention_mask': tensor([[1, 1, 1, 1, 1, 1, 1, 1, 1, 1, 1, 1, 1, 1, 1, 1, 1, 0, 0, 0]])},\n",
       " {'input_ids': tensor([[    2,    73,   136,    21, 28455, 28512, 28449, 28444, 28453,   820,\n",
       "          22313, 28446,    46, 28457, 11665,     3,     0,     0,     0,     0]]), 'token_type_ids': tensor([[0, 0, 0, 0, 0, 0, 0, 0, 0, 0, 0, 0, 0, 0, 0, 0, 0, 0, 0, 0]]), 'attention_mask': tensor([[1, 1, 1, 1, 1, 1, 1, 1, 1, 1, 1, 1, 1, 1, 1, 1, 0, 0, 0, 0]])},\n",
       " {'input_ids': tensor([[    2,   372,   704,   496,   874,   250, 28452,   313,    32,     9,\n",
       "           4798,    62,  8946, 28455, 28484, 29124,     3,     0,     0,     0]]), 'token_type_ids': tensor([[0, 0, 0, 0, 0, 0, 0, 0, 0, 0, 0, 0, 0, 0, 0, 0, 0, 0, 0, 0]]), 'attention_mask': tensor([[1, 1, 1, 1, 1, 1, 1, 1, 1, 1, 1, 1, 1, 1, 1, 1, 1, 0, 0, 0]])},\n",
       " {'input_ids': tensor([[    2,  2818, 28444,   364,     1,   514,     1,    11,   874,  2567,\n",
       "           1084, 28484,   610,   293,   126, 28474, 28452,   475,    15,     3]]), 'token_type_ids': tensor([[0, 0, 0, 0, 0, 0, 0, 0, 0, 0, 0, 0, 0, 0, 0, 0, 0, 0, 0, 0]]), 'attention_mask': tensor([[1, 1, 1, 1, 1, 1, 1, 1, 1, 1, 1, 1, 1, 1, 1, 1, 1, 1, 1, 1]])},\n",
       " {'input_ids': tensor([[    2,   108,    32,     9,  1541,   809,    32,  2992,   802,  8048,\n",
       "           2302, 16546,     3,     0,     0,     0,     0,     0,     0,     0]]), 'token_type_ids': tensor([[0, 0, 0, 0, 0, 0, 0, 0, 0, 0, 0, 0, 0, 0, 0, 0, 0, 0, 0, 0]]), 'attention_mask': tensor([[1, 1, 1, 1, 1, 1, 1, 1, 1, 1, 1, 1, 1, 0, 0, 0, 0, 0, 0, 0]])},\n",
       " {'input_ids': tensor([[    2,    73,  1466,   741,     5,  1295,    11,    42,  1170,     7,\n",
       "             46, 28457, 11665, 15285, 28446, 29066,   538,   691, 16546,     3]]), 'token_type_ids': tensor([[0, 0, 0, 0, 0, 0, 0, 0, 0, 0, 0, 0, 0, 0, 0, 0, 0, 0, 0, 0]]), 'attention_mask': tensor([[1, 1, 1, 1, 1, 1, 1, 1, 1, 1, 1, 1, 1, 1, 1, 1, 1, 1, 1, 1]])},\n",
       " {'input_ids': tensor([[    2, 21670, 29066, 18526, 11214, 28447,   106, 28444, 29066,   468,\n",
       "            241,    11, 28525,  2323,   728,    46, 28457, 11665,     3,     0]]), 'token_type_ids': tensor([[0, 0, 0, 0, 0, 0, 0, 0, 0, 0, 0, 0, 0, 0, 0, 0, 0, 0, 0, 0]]), 'attention_mask': tensor([[1, 1, 1, 1, 1, 1, 1, 1, 1, 1, 1, 1, 1, 1, 1, 1, 1, 1, 1, 0]])}]"
      ]
     },
     "execution_count": 31,
     "metadata": {},
     "output_type": "execute_result"
    }
   ],
   "source": [
    "tokens"
   ]
  },
  {
   "cell_type": "markdown",
   "id": "1271b5c2",
   "metadata": {},
   "source": [
    "### Save the tokens"
   ]
  },
  {
   "cell_type": "code",
   "execution_count": 32,
   "id": "4b51be73",
   "metadata": {},
   "outputs": [],
   "source": [
    "save_file(tokens_path, tokens)"
   ]
  },
  {
   "cell_type": "markdown",
   "id": "323823d5",
   "metadata": {},
   "source": [
    "## Create Bert model\n",
    "---"
   ]
  },
  {
   "cell_type": "code",
   "execution_count": 63,
   "id": "0243148b",
   "metadata": {},
   "outputs": [],
   "source": [
    "class BertForClassification(nn.Module):\n",
    "    def __init__(self, num_classes):\n",
    "        super(BertForClassification, self).__init__()\n",
    "        self.bert = BertModel.from_pretrained(\"cl-tohoku/bert-base-japanese\")\n",
    "        self.dropout = nn.Dropout(0.1)\n",
    "        self.fc = nn.Linear(self.bert.config.hidden_size, num_classes)\n",
    "    \n",
    "    def forward(self, input_ids, attention_mask):\n",
    "        outputs = self.bert(input_ids, attention_mask=attention_mask)\n",
    "        pooled_output = outputs['pooler_output']\n",
    "        pooled_output = self.dropout(pooled_output)\n",
    "        logits = self.fc(pooled_output)\n",
    "        return logits"
   ]
  },
  {
   "cell_type": "code",
   "execution_count": 64,
   "id": "08ca0c33",
   "metadata": {},
   "outputs": [],
   "source": [
    "train_texts, test_texts, train_labels, test_labels = train_test_split(input_text, labels, test_size=0.2, random_state=42)"
   ]
  },
  {
   "cell_type": "code",
   "execution_count": 65,
   "id": "7706b22a",
   "metadata": {},
   "outputs": [],
   "source": [
    "tokenizer = BertTokenizer.from_pretrained(\"cl-tohoku/bert-base-japanese\")\n",
    "train_encodings = tokenizer(train_texts, padding=True, truncation=True, return_tensors='pt', max_length=seq_len)\n",
    "test_encodings = tokenizer(test_texts, padding=True, truncation=True, return_tensors='pt', max_length=seq_len)"
   ]
  },
  {
   "cell_type": "code",
   "execution_count": 66,
   "id": "62da5c65",
   "metadata": {},
   "outputs": [],
   "source": [
    "train_labels = torch.tensor(train_labels)\n",
    "test_labels = torch.tensor(test_labels)"
   ]
  },
  {
   "cell_type": "code",
   "execution_count": 67,
   "id": "465f99d1",
   "metadata": {},
   "outputs": [],
   "source": [
    "train_dataset = torch.utils.data.TensorDataset(train_encodings['input_ids'], train_encodings['attention_mask'], train_labels)\n",
    "test_dataset = torch.utils.data.TensorDataset(test_encodings['input_ids'], test_encodings['attention_mask'], test_labels)"
   ]
  },
  {
   "cell_type": "code",
   "execution_count": 68,
   "id": "0f5e4d05",
   "metadata": {},
   "outputs": [],
   "source": [
    "train_loader = torch.utils.data.DataLoader(train_dataset, batch_size=16, shuffle=True)\n",
    "test_loader = torch.utils.data.DataLoader(test_dataset, batch_size=16)"
   ]
  },
  {
   "cell_type": "code",
   "execution_count": 69,
   "id": "55d1c10e",
   "metadata": {},
   "outputs": [],
   "source": [
    "model = BertForClassification(num_classes=len(label_encoder.classes_))"
   ]
  },
  {
   "cell_type": "code",
   "execution_count": 70,
   "id": "4853d232",
   "metadata": {},
   "outputs": [],
   "source": [
    "criterion = nn.CrossEntropyLoss()\n",
    "optimizer = torch.optim.AdamW(model.parameters(), lr=1e-5)"
   ]
  },
  {
   "cell_type": "code",
   "execution_count": 90,
   "id": "d06bcf5d",
   "metadata": {},
   "outputs": [
    {
     "name": "stderr",
     "output_type": "stream",
     "text": [
      "Epoch [1/10]: 100%|██████████████████████████████████████████████████████████| 2/2 [00:07<00:00,  3.51s/it, loss=0.741]\n"
     ]
    },
    {
     "name": "stdout",
     "output_type": "stream",
     "text": [
      "Epoch [1/10] - Train Loss: 0.7305 - Train Accuracy: 0.9583 - Validation Accuracy: 0.3333\n"
     ]
    },
    {
     "name": "stderr",
     "output_type": "stream",
     "text": [
      "Epoch [2/10]: 100%|██████████████████████████████████████████████████████████| 2/2 [00:06<00:00,  3.38s/it, loss=0.636]\n"
     ]
    },
    {
     "name": "stdout",
     "output_type": "stream",
     "text": [
      "Epoch [2/10] - Train Loss: 0.6811 - Train Accuracy: 1.0000 - Validation Accuracy: 0.3333\n"
     ]
    },
    {
     "name": "stderr",
     "output_type": "stream",
     "text": [
      "Epoch [3/10]: 100%|████████████████████████████████████████████████████████████| 2/2 [00:06<00:00,  3.38s/it, loss=0.7]\n"
     ]
    },
    {
     "name": "stdout",
     "output_type": "stream",
     "text": [
      "Epoch [3/10] - Train Loss: 0.7034 - Train Accuracy: 0.9167 - Validation Accuracy: 0.5000\n"
     ]
    },
    {
     "name": "stderr",
     "output_type": "stream",
     "text": [
      "Epoch [4/10]: 100%|██████████████████████████████████████████████████████████| 2/2 [00:06<00:00,  3.30s/it, loss=0.577]\n"
     ]
    },
    {
     "name": "stdout",
     "output_type": "stream",
     "text": [
      "Epoch [4/10] - Train Loss: 0.6004 - Train Accuracy: 1.0000 - Validation Accuracy: 0.6667\n"
     ]
    },
    {
     "name": "stderr",
     "output_type": "stream",
     "text": [
      "Epoch [5/10]: 100%|██████████████████████████████████████████████████████████| 2/2 [00:06<00:00,  3.32s/it, loss=0.654]\n"
     ]
    },
    {
     "name": "stdout",
     "output_type": "stream",
     "text": [
      "Epoch [5/10] - Train Loss: 0.5915 - Train Accuracy: 1.0000 - Validation Accuracy: 0.6667\n"
     ]
    },
    {
     "name": "stderr",
     "output_type": "stream",
     "text": [
      "Epoch [6/10]: 100%|██████████████████████████████████████████████████████████| 2/2 [00:05<00:00,  2.97s/it, loss=0.577]\n"
     ]
    },
    {
     "name": "stdout",
     "output_type": "stream",
     "text": [
      "Epoch [6/10] - Train Loss: 0.5755 - Train Accuracy: 1.0000 - Validation Accuracy: 0.6667\n"
     ]
    },
    {
     "name": "stderr",
     "output_type": "stream",
     "text": [
      "Epoch [7/10]: 100%|██████████████████████████████████████████████████████████| 2/2 [00:06<00:00,  3.33s/it, loss=0.492]\n"
     ]
    },
    {
     "name": "stdout",
     "output_type": "stream",
     "text": [
      "Epoch [7/10] - Train Loss: 0.4813 - Train Accuracy: 1.0000 - Validation Accuracy: 0.6667\n"
     ]
    },
    {
     "name": "stderr",
     "output_type": "stream",
     "text": [
      "Epoch [8/10]: 100%|██████████████████████████████████████████████████████████| 2/2 [00:06<00:00,  3.37s/it, loss=0.427]\n"
     ]
    },
    {
     "name": "stdout",
     "output_type": "stream",
     "text": [
      "Epoch [8/10] - Train Loss: 0.4384 - Train Accuracy: 1.0000 - Validation Accuracy: 0.6667\n"
     ]
    },
    {
     "name": "stderr",
     "output_type": "stream",
     "text": [
      "Epoch [9/10]: 100%|██████████████████████████████████████████████████████████| 2/2 [00:06<00:00,  3.37s/it, loss=0.466]\n"
     ]
    },
    {
     "name": "stdout",
     "output_type": "stream",
     "text": [
      "Epoch [9/10] - Train Loss: 0.4390 - Train Accuracy: 1.0000 - Validation Accuracy: 0.6667\n"
     ]
    },
    {
     "name": "stderr",
     "output_type": "stream",
     "text": [
      "Epoch [10/10]: 100%|█████████████████████████████████████████████████████████| 2/2 [00:06<00:00,  3.35s/it, loss=0.371]\n"
     ]
    },
    {
     "name": "stdout",
     "output_type": "stream",
     "text": [
      "Epoch [10/10] - Train Loss: 0.3773 - Train Accuracy: 1.0000 - Validation Accuracy: 0.8333\n"
     ]
    }
   ],
   "source": [
    "from tqdm import tqdm\n",
    "num_epochs = 10\n",
    "for epoch in range(num_epochs):\n",
    "    model.train()\n",
    "    total_loss = 0\n",
    "    correct_predictions = 0\n",
    "    total_predictions = 0\n",
    "    \n",
    "    progress_bar = tqdm(train_loader, desc=f\"Epoch [{epoch+1}/{num_epochs}]\")\n",
    "    \n",
    "    for batch in progress_bar:\n",
    "        optimizer.zero_grad()\n",
    "        input_ids, attention_mask, labels = batch\n",
    "        outputs = model(input_ids, attention_mask=attention_mask)\n",
    "        loss = criterion(outputs, labels.long())\n",
    "        loss.backward()\n",
    "        optimizer.step()\n",
    "        \n",
    "        total_loss += loss.item()\n",
    "        _, predicted_labels = torch.max(outputs, dim=1)\n",
    "        correct_predictions += (predicted_labels == labels).sum().item()\n",
    "        total_predictions += labels.size(0)\n",
    "        \n",
    "        progress_bar.set_postfix(loss=loss.item(), refresh=True)\n",
    "    \n",
    "    train_loss = total_loss / len(train_loader)\n",
    "    train_accuracy = correct_predictions / total_predictions\n",
    "    \n",
    "    # Evaluate the model on the validation set\n",
    "    model.eval()\n",
    "    with torch.no_grad():\n",
    "        correct_predictions = 0\n",
    "        total_predictions = 0\n",
    "        \n",
    "        for batch in test_loader:\n",
    "            input_ids, attention_mask, labels = batch\n",
    "            outputs = model(input_ids, attention_mask=attention_mask)\n",
    "            _, predicted_labels = torch.max(outputs, dim=1)\n",
    "            correct_predictions += (predicted_labels == labels).sum().item()\n",
    "            total_predictions += labels.size(0)\n",
    "        \n",
    "        val_accuracy = correct_predictions / total_predictions\n",
    "    \n",
    "    progress_bar.set_postfix(loss=train_loss, train_acc=train_accuracy, val_acc=val_accuracy)\n",
    "    progress_bar.close()  # Close the progress bar for this epoch\n",
    "    print(f\"Epoch [{epoch+1}/{num_epochs}] - \"\n",
    "          f\"Train Loss: {train_loss:.4f} - \"\n",
    "          f\"Train Accuracy: {train_accuracy:.4f} - \"\n",
    "          f\"Validation Accuracy: {val_accuracy:.4f}\")\n",
    "\n"
   ]
  },
  {
   "cell_type": "code",
   "execution_count": 86,
   "id": "febef579",
   "metadata": {},
   "outputs": [
    {
     "name": "stdout",
     "output_type": "stream",
     "text": [
      "Model saved!\n"
     ]
    }
   ],
   "source": [
    "torch.save(model.state_dict(), model_path)\n",
    "print(\"Model saved!\")"
   ]
  },
  {
   "cell_type": "code",
   "execution_count": 87,
   "id": "c9e4e2a8",
   "metadata": {},
   "outputs": [
    {
     "data": {
      "text/plain": [
       "BertForClassification(\n",
       "  (bert): BertModel(\n",
       "    (embeddings): BertEmbeddings(\n",
       "      (word_embeddings): Embedding(32000, 768, padding_idx=0)\n",
       "      (position_embeddings): Embedding(512, 768)\n",
       "      (token_type_embeddings): Embedding(2, 768)\n",
       "      (LayerNorm): LayerNorm((768,), eps=1e-12, elementwise_affine=True)\n",
       "      (dropout): Dropout(p=0.1, inplace=False)\n",
       "    )\n",
       "    (encoder): BertEncoder(\n",
       "      (layer): ModuleList(\n",
       "        (0): BertLayer(\n",
       "          (attention): BertAttention(\n",
       "            (self): BertSelfAttention(\n",
       "              (query): Linear(in_features=768, out_features=768, bias=True)\n",
       "              (key): Linear(in_features=768, out_features=768, bias=True)\n",
       "              (value): Linear(in_features=768, out_features=768, bias=True)\n",
       "              (dropout): Dropout(p=0.1, inplace=False)\n",
       "            )\n",
       "            (output): BertSelfOutput(\n",
       "              (dense): Linear(in_features=768, out_features=768, bias=True)\n",
       "              (LayerNorm): LayerNorm((768,), eps=1e-12, elementwise_affine=True)\n",
       "              (dropout): Dropout(p=0.1, inplace=False)\n",
       "            )\n",
       "          )\n",
       "          (intermediate): BertIntermediate(\n",
       "            (dense): Linear(in_features=768, out_features=3072, bias=True)\n",
       "          )\n",
       "          (output): BertOutput(\n",
       "            (dense): Linear(in_features=3072, out_features=768, bias=True)\n",
       "            (LayerNorm): LayerNorm((768,), eps=1e-12, elementwise_affine=True)\n",
       "            (dropout): Dropout(p=0.1, inplace=False)\n",
       "          )\n",
       "        )\n",
       "        (1): BertLayer(\n",
       "          (attention): BertAttention(\n",
       "            (self): BertSelfAttention(\n",
       "              (query): Linear(in_features=768, out_features=768, bias=True)\n",
       "              (key): Linear(in_features=768, out_features=768, bias=True)\n",
       "              (value): Linear(in_features=768, out_features=768, bias=True)\n",
       "              (dropout): Dropout(p=0.1, inplace=False)\n",
       "            )\n",
       "            (output): BertSelfOutput(\n",
       "              (dense): Linear(in_features=768, out_features=768, bias=True)\n",
       "              (LayerNorm): LayerNorm((768,), eps=1e-12, elementwise_affine=True)\n",
       "              (dropout): Dropout(p=0.1, inplace=False)\n",
       "            )\n",
       "          )\n",
       "          (intermediate): BertIntermediate(\n",
       "            (dense): Linear(in_features=768, out_features=3072, bias=True)\n",
       "          )\n",
       "          (output): BertOutput(\n",
       "            (dense): Linear(in_features=3072, out_features=768, bias=True)\n",
       "            (LayerNorm): LayerNorm((768,), eps=1e-12, elementwise_affine=True)\n",
       "            (dropout): Dropout(p=0.1, inplace=False)\n",
       "          )\n",
       "        )\n",
       "        (2): BertLayer(\n",
       "          (attention): BertAttention(\n",
       "            (self): BertSelfAttention(\n",
       "              (query): Linear(in_features=768, out_features=768, bias=True)\n",
       "              (key): Linear(in_features=768, out_features=768, bias=True)\n",
       "              (value): Linear(in_features=768, out_features=768, bias=True)\n",
       "              (dropout): Dropout(p=0.1, inplace=False)\n",
       "            )\n",
       "            (output): BertSelfOutput(\n",
       "              (dense): Linear(in_features=768, out_features=768, bias=True)\n",
       "              (LayerNorm): LayerNorm((768,), eps=1e-12, elementwise_affine=True)\n",
       "              (dropout): Dropout(p=0.1, inplace=False)\n",
       "            )\n",
       "          )\n",
       "          (intermediate): BertIntermediate(\n",
       "            (dense): Linear(in_features=768, out_features=3072, bias=True)\n",
       "          )\n",
       "          (output): BertOutput(\n",
       "            (dense): Linear(in_features=3072, out_features=768, bias=True)\n",
       "            (LayerNorm): LayerNorm((768,), eps=1e-12, elementwise_affine=True)\n",
       "            (dropout): Dropout(p=0.1, inplace=False)\n",
       "          )\n",
       "        )\n",
       "        (3): BertLayer(\n",
       "          (attention): BertAttention(\n",
       "            (self): BertSelfAttention(\n",
       "              (query): Linear(in_features=768, out_features=768, bias=True)\n",
       "              (key): Linear(in_features=768, out_features=768, bias=True)\n",
       "              (value): Linear(in_features=768, out_features=768, bias=True)\n",
       "              (dropout): Dropout(p=0.1, inplace=False)\n",
       "            )\n",
       "            (output): BertSelfOutput(\n",
       "              (dense): Linear(in_features=768, out_features=768, bias=True)\n",
       "              (LayerNorm): LayerNorm((768,), eps=1e-12, elementwise_affine=True)\n",
       "              (dropout): Dropout(p=0.1, inplace=False)\n",
       "            )\n",
       "          )\n",
       "          (intermediate): BertIntermediate(\n",
       "            (dense): Linear(in_features=768, out_features=3072, bias=True)\n",
       "          )\n",
       "          (output): BertOutput(\n",
       "            (dense): Linear(in_features=3072, out_features=768, bias=True)\n",
       "            (LayerNorm): LayerNorm((768,), eps=1e-12, elementwise_affine=True)\n",
       "            (dropout): Dropout(p=0.1, inplace=False)\n",
       "          )\n",
       "        )\n",
       "        (4): BertLayer(\n",
       "          (attention): BertAttention(\n",
       "            (self): BertSelfAttention(\n",
       "              (query): Linear(in_features=768, out_features=768, bias=True)\n",
       "              (key): Linear(in_features=768, out_features=768, bias=True)\n",
       "              (value): Linear(in_features=768, out_features=768, bias=True)\n",
       "              (dropout): Dropout(p=0.1, inplace=False)\n",
       "            )\n",
       "            (output): BertSelfOutput(\n",
       "              (dense): Linear(in_features=768, out_features=768, bias=True)\n",
       "              (LayerNorm): LayerNorm((768,), eps=1e-12, elementwise_affine=True)\n",
       "              (dropout): Dropout(p=0.1, inplace=False)\n",
       "            )\n",
       "          )\n",
       "          (intermediate): BertIntermediate(\n",
       "            (dense): Linear(in_features=768, out_features=3072, bias=True)\n",
       "          )\n",
       "          (output): BertOutput(\n",
       "            (dense): Linear(in_features=3072, out_features=768, bias=True)\n",
       "            (LayerNorm): LayerNorm((768,), eps=1e-12, elementwise_affine=True)\n",
       "            (dropout): Dropout(p=0.1, inplace=False)\n",
       "          )\n",
       "        )\n",
       "        (5): BertLayer(\n",
       "          (attention): BertAttention(\n",
       "            (self): BertSelfAttention(\n",
       "              (query): Linear(in_features=768, out_features=768, bias=True)\n",
       "              (key): Linear(in_features=768, out_features=768, bias=True)\n",
       "              (value): Linear(in_features=768, out_features=768, bias=True)\n",
       "              (dropout): Dropout(p=0.1, inplace=False)\n",
       "            )\n",
       "            (output): BertSelfOutput(\n",
       "              (dense): Linear(in_features=768, out_features=768, bias=True)\n",
       "              (LayerNorm): LayerNorm((768,), eps=1e-12, elementwise_affine=True)\n",
       "              (dropout): Dropout(p=0.1, inplace=False)\n",
       "            )\n",
       "          )\n",
       "          (intermediate): BertIntermediate(\n",
       "            (dense): Linear(in_features=768, out_features=3072, bias=True)\n",
       "          )\n",
       "          (output): BertOutput(\n",
       "            (dense): Linear(in_features=3072, out_features=768, bias=True)\n",
       "            (LayerNorm): LayerNorm((768,), eps=1e-12, elementwise_affine=True)\n",
       "            (dropout): Dropout(p=0.1, inplace=False)\n",
       "          )\n",
       "        )\n",
       "        (6): BertLayer(\n",
       "          (attention): BertAttention(\n",
       "            (self): BertSelfAttention(\n",
       "              (query): Linear(in_features=768, out_features=768, bias=True)\n",
       "              (key): Linear(in_features=768, out_features=768, bias=True)\n",
       "              (value): Linear(in_features=768, out_features=768, bias=True)\n",
       "              (dropout): Dropout(p=0.1, inplace=False)\n",
       "            )\n",
       "            (output): BertSelfOutput(\n",
       "              (dense): Linear(in_features=768, out_features=768, bias=True)\n",
       "              (LayerNorm): LayerNorm((768,), eps=1e-12, elementwise_affine=True)\n",
       "              (dropout): Dropout(p=0.1, inplace=False)\n",
       "            )\n",
       "          )\n",
       "          (intermediate): BertIntermediate(\n",
       "            (dense): Linear(in_features=768, out_features=3072, bias=True)\n",
       "          )\n",
       "          (output): BertOutput(\n",
       "            (dense): Linear(in_features=3072, out_features=768, bias=True)\n",
       "            (LayerNorm): LayerNorm((768,), eps=1e-12, elementwise_affine=True)\n",
       "            (dropout): Dropout(p=0.1, inplace=False)\n",
       "          )\n",
       "        )\n",
       "        (7): BertLayer(\n",
       "          (attention): BertAttention(\n",
       "            (self): BertSelfAttention(\n",
       "              (query): Linear(in_features=768, out_features=768, bias=True)\n",
       "              (key): Linear(in_features=768, out_features=768, bias=True)\n",
       "              (value): Linear(in_features=768, out_features=768, bias=True)\n",
       "              (dropout): Dropout(p=0.1, inplace=False)\n",
       "            )\n",
       "            (output): BertSelfOutput(\n",
       "              (dense): Linear(in_features=768, out_features=768, bias=True)\n",
       "              (LayerNorm): LayerNorm((768,), eps=1e-12, elementwise_affine=True)\n",
       "              (dropout): Dropout(p=0.1, inplace=False)\n",
       "            )\n",
       "          )\n",
       "          (intermediate): BertIntermediate(\n",
       "            (dense): Linear(in_features=768, out_features=3072, bias=True)\n",
       "          )\n",
       "          (output): BertOutput(\n",
       "            (dense): Linear(in_features=3072, out_features=768, bias=True)\n",
       "            (LayerNorm): LayerNorm((768,), eps=1e-12, elementwise_affine=True)\n",
       "            (dropout): Dropout(p=0.1, inplace=False)\n",
       "          )\n",
       "        )\n",
       "        (8): BertLayer(\n",
       "          (attention): BertAttention(\n",
       "            (self): BertSelfAttention(\n",
       "              (query): Linear(in_features=768, out_features=768, bias=True)\n",
       "              (key): Linear(in_features=768, out_features=768, bias=True)\n",
       "              (value): Linear(in_features=768, out_features=768, bias=True)\n",
       "              (dropout): Dropout(p=0.1, inplace=False)\n",
       "            )\n",
       "            (output): BertSelfOutput(\n",
       "              (dense): Linear(in_features=768, out_features=768, bias=True)\n",
       "              (LayerNorm): LayerNorm((768,), eps=1e-12, elementwise_affine=True)\n",
       "              (dropout): Dropout(p=0.1, inplace=False)\n",
       "            )\n",
       "          )\n",
       "          (intermediate): BertIntermediate(\n",
       "            (dense): Linear(in_features=768, out_features=3072, bias=True)\n",
       "          )\n",
       "          (output): BertOutput(\n",
       "            (dense): Linear(in_features=3072, out_features=768, bias=True)\n",
       "            (LayerNorm): LayerNorm((768,), eps=1e-12, elementwise_affine=True)\n",
       "            (dropout): Dropout(p=0.1, inplace=False)\n",
       "          )\n",
       "        )\n",
       "        (9): BertLayer(\n",
       "          (attention): BertAttention(\n",
       "            (self): BertSelfAttention(\n",
       "              (query): Linear(in_features=768, out_features=768, bias=True)\n",
       "              (key): Linear(in_features=768, out_features=768, bias=True)\n",
       "              (value): Linear(in_features=768, out_features=768, bias=True)\n",
       "              (dropout): Dropout(p=0.1, inplace=False)\n",
       "            )\n",
       "            (output): BertSelfOutput(\n",
       "              (dense): Linear(in_features=768, out_features=768, bias=True)\n",
       "              (LayerNorm): LayerNorm((768,), eps=1e-12, elementwise_affine=True)\n",
       "              (dropout): Dropout(p=0.1, inplace=False)\n",
       "            )\n",
       "          )\n",
       "          (intermediate): BertIntermediate(\n",
       "            (dense): Linear(in_features=768, out_features=3072, bias=True)\n",
       "          )\n",
       "          (output): BertOutput(\n",
       "            (dense): Linear(in_features=3072, out_features=768, bias=True)\n",
       "            (LayerNorm): LayerNorm((768,), eps=1e-12, elementwise_affine=True)\n",
       "            (dropout): Dropout(p=0.1, inplace=False)\n",
       "          )\n",
       "        )\n",
       "        (10): BertLayer(\n",
       "          (attention): BertAttention(\n",
       "            (self): BertSelfAttention(\n",
       "              (query): Linear(in_features=768, out_features=768, bias=True)\n",
       "              (key): Linear(in_features=768, out_features=768, bias=True)\n",
       "              (value): Linear(in_features=768, out_features=768, bias=True)\n",
       "              (dropout): Dropout(p=0.1, inplace=False)\n",
       "            )\n",
       "            (output): BertSelfOutput(\n",
       "              (dense): Linear(in_features=768, out_features=768, bias=True)\n",
       "              (LayerNorm): LayerNorm((768,), eps=1e-12, elementwise_affine=True)\n",
       "              (dropout): Dropout(p=0.1, inplace=False)\n",
       "            )\n",
       "          )\n",
       "          (intermediate): BertIntermediate(\n",
       "            (dense): Linear(in_features=768, out_features=3072, bias=True)\n",
       "          )\n",
       "          (output): BertOutput(\n",
       "            (dense): Linear(in_features=3072, out_features=768, bias=True)\n",
       "            (LayerNorm): LayerNorm((768,), eps=1e-12, elementwise_affine=True)\n",
       "            (dropout): Dropout(p=0.1, inplace=False)\n",
       "          )\n",
       "        )\n",
       "        (11): BertLayer(\n",
       "          (attention): BertAttention(\n",
       "            (self): BertSelfAttention(\n",
       "              (query): Linear(in_features=768, out_features=768, bias=True)\n",
       "              (key): Linear(in_features=768, out_features=768, bias=True)\n",
       "              (value): Linear(in_features=768, out_features=768, bias=True)\n",
       "              (dropout): Dropout(p=0.1, inplace=False)\n",
       "            )\n",
       "            (output): BertSelfOutput(\n",
       "              (dense): Linear(in_features=768, out_features=768, bias=True)\n",
       "              (LayerNorm): LayerNorm((768,), eps=1e-12, elementwise_affine=True)\n",
       "              (dropout): Dropout(p=0.1, inplace=False)\n",
       "            )\n",
       "          )\n",
       "          (intermediate): BertIntermediate(\n",
       "            (dense): Linear(in_features=768, out_features=3072, bias=True)\n",
       "          )\n",
       "          (output): BertOutput(\n",
       "            (dense): Linear(in_features=3072, out_features=768, bias=True)\n",
       "            (LayerNorm): LayerNorm((768,), eps=1e-12, elementwise_affine=True)\n",
       "            (dropout): Dropout(p=0.1, inplace=False)\n",
       "          )\n",
       "        )\n",
       "      )\n",
       "    )\n",
       "    (pooler): BertPooler(\n",
       "      (dense): Linear(in_features=768, out_features=768, bias=True)\n",
       "      (activation): Tanh()\n",
       "    )\n",
       "  )\n",
       "  (dropout): Dropout(p=0.1, inplace=False)\n",
       "  (fc): Linear(in_features=768, out_features=3, bias=True)\n",
       ")"
      ]
     },
     "execution_count": 87,
     "metadata": {},
     "output_type": "execute_result"
    }
   ],
   "source": [
    "model.load_state_dict(torch.load(model_path))\n",
    "model.eval()"
   ]
  },
  {
   "cell_type": "code",
   "execution_count": 88,
   "id": "6b1c7657",
   "metadata": {},
   "outputs": [],
   "source": [
    "def predict(texts):\n",
    "    encodings = tokenizer(texts, padding=True, truncation=True, return_tensors='pt', max_length=seq_len)\n",
    "    with torch.no_grad():\n",
    "        outputs = model(encodings['input_ids'], attention_mask=encodings['attention_mask'])\n",
    "        _, predicted_labels = torch.max(outputs, dim=1)\n",
    "        predicted_labels = predicted_labels.cpu().numpy()\n",
    "        predicted_classes = label_encoder.inverse_transform(predicted_labels)\n",
    "        return predicted_classes"
   ]
  },
  {
   "cell_type": "code",
   "execution_count": 89,
   "id": "4ca1c020",
   "metadata": {},
   "outputs": [
    {
     "name": "stdout",
     "output_type": "stream",
     "text": [
      "Predicted Classes: ['Inquiry' 'Inquiry']\n"
     ]
    }
   ],
   "source": [
    "example_texts = [\"製品の不具合について問い合わせです。\", \"イベントの詳細を教えてください。\"]\n",
    "predicted_classes = predict(example_texts)\n",
    "print(\"Predicted Classes:\", predicted_classes)"
   ]
  },
  {
   "cell_type": "code",
   "execution_count": null,
   "id": "41bf8790",
   "metadata": {},
   "outputs": [],
   "source": []
  }
 ],
 "metadata": {
  "kernelspec": {
   "display_name": "Python 3 (ipykernel)",
   "language": "python",
   "name": "python3"
  },
  "language_info": {
   "codemirror_mode": {
    "name": "ipython",
    "version": 3
   },
   "file_extension": ".py",
   "mimetype": "text/x-python",
   "name": "python",
   "nbconvert_exporter": "python",
   "pygments_lexer": "ipython3",
   "version": "3.9.12"
  }
 },
 "nbformat": 4,
 "nbformat_minor": 5
}
