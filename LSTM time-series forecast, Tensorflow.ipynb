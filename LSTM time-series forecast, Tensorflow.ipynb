{
 "cells": [
  {
   "cell_type": "code",
   "execution_count": 1,
   "id": "d6931a66",
   "metadata": {},
   "outputs": [],
   "source": [
    "import tensorflow as tf\n",
    "from tensorflow import keras as ks\n",
    "import os\n",
    "import pandas as pd\n",
    "import numpy as np"
   ]
  },
  {
   "cell_type": "code",
   "execution_count": 2,
   "id": "1cd701b1",
   "metadata": {},
   "outputs": [],
   "source": [
    "df=pd.read_excel(r'C:\\Users\\LGPC\\Downloads\\kawaba prediction (1).xlsx')"
   ]
  },
  {
   "cell_type": "code",
   "execution_count": 3,
   "id": "936aa8ac",
   "metadata": {},
   "outputs": [
    {
     "data": {
      "text/html": [
       "<div>\n",
       "<style scoped>\n",
       "    .dataframe tbody tr th:only-of-type {\n",
       "        vertical-align: middle;\n",
       "    }\n",
       "\n",
       "    .dataframe tbody tr th {\n",
       "        vertical-align: top;\n",
       "    }\n",
       "\n",
       "    .dataframe thead th {\n",
       "        text-align: right;\n",
       "    }\n",
       "</style>\n",
       "<table border=\"1\" class=\"dataframe\">\n",
       "  <thead>\n",
       "    <tr style=\"text-align: right;\">\n",
       "      <th></th>\n",
       "      <th>date</th>\n",
       "      <th>Number of visitor</th>\n",
       "      <th>Snow</th>\n",
       "      <th>Sunny Hours</th>\n",
       "      <th>Corona Infection</th>\n",
       "      <th>Temperature</th>\n",
       "      <th>Holiday Rank</th>\n",
       "      <th>Total Underage</th>\n",
       "    </tr>\n",
       "  </thead>\n",
       "  <tbody>\n",
       "    <tr>\n",
       "      <th>0</th>\n",
       "      <td>2019-01-01</td>\n",
       "      <td>1171</td>\n",
       "      <td>0</td>\n",
       "      <td>9.2</td>\n",
       "      <td>0</td>\n",
       "      <td>4.4</td>\n",
       "      <td>2400</td>\n",
       "      <td>412</td>\n",
       "    </tr>\n",
       "    <tr>\n",
       "      <th>1</th>\n",
       "      <td>2019-01-02</td>\n",
       "      <td>2158</td>\n",
       "      <td>0</td>\n",
       "      <td>7.8</td>\n",
       "      <td>0</td>\n",
       "      <td>4.7</td>\n",
       "      <td>3000</td>\n",
       "      <td>789</td>\n",
       "    </tr>\n",
       "    <tr>\n",
       "      <th>2</th>\n",
       "      <td>2019-01-03</td>\n",
       "      <td>2422</td>\n",
       "      <td>0</td>\n",
       "      <td>7.0</td>\n",
       "      <td>0</td>\n",
       "      <td>3.0</td>\n",
       "      <td>3000</td>\n",
       "      <td>879</td>\n",
       "    </tr>\n",
       "    <tr>\n",
       "      <th>3</th>\n",
       "      <td>2019-01-04</td>\n",
       "      <td>2730</td>\n",
       "      <td>0</td>\n",
       "      <td>9.3</td>\n",
       "      <td>0</td>\n",
       "      <td>4.2</td>\n",
       "      <td>3000</td>\n",
       "      <td>768</td>\n",
       "    </tr>\n",
       "    <tr>\n",
       "      <th>4</th>\n",
       "      <td>2019-01-05</td>\n",
       "      <td>2500</td>\n",
       "      <td>0</td>\n",
       "      <td>8.5</td>\n",
       "      <td>0</td>\n",
       "      <td>6.1</td>\n",
       "      <td>3000</td>\n",
       "      <td>656</td>\n",
       "    </tr>\n",
       "    <tr>\n",
       "      <th>...</th>\n",
       "      <td>...</td>\n",
       "      <td>...</td>\n",
       "      <td>...</td>\n",
       "      <td>...</td>\n",
       "      <td>...</td>\n",
       "      <td>...</td>\n",
       "      <td>...</td>\n",
       "      <td>...</td>\n",
       "    </tr>\n",
       "    <tr>\n",
       "      <th>522</th>\n",
       "      <td>2022-04-15</td>\n",
       "      <td>85</td>\n",
       "      <td>0</td>\n",
       "      <td>0.0</td>\n",
       "      <td>555</td>\n",
       "      <td>10.7</td>\n",
       "      <td>800</td>\n",
       "      <td>1</td>\n",
       "    </tr>\n",
       "    <tr>\n",
       "      <th>523</th>\n",
       "      <td>2022-04-16</td>\n",
       "      <td>730</td>\n",
       "      <td>0</td>\n",
       "      <td>9.3</td>\n",
       "      <td>476</td>\n",
       "      <td>11.7</td>\n",
       "      <td>2400</td>\n",
       "      <td>28</td>\n",
       "    </tr>\n",
       "    <tr>\n",
       "      <th>524</th>\n",
       "      <td>2022-04-17</td>\n",
       "      <td>1205</td>\n",
       "      <td>0</td>\n",
       "      <td>5.4</td>\n",
       "      <td>513</td>\n",
       "      <td>12.0</td>\n",
       "      <td>3000</td>\n",
       "      <td>70</td>\n",
       "    </tr>\n",
       "    <tr>\n",
       "      <th>525</th>\n",
       "      <td>2022-04-23</td>\n",
       "      <td>448</td>\n",
       "      <td>0</td>\n",
       "      <td>7.8</td>\n",
       "      <td>349</td>\n",
       "      <td>20.1</td>\n",
       "      <td>3000</td>\n",
       "      <td>10</td>\n",
       "    </tr>\n",
       "    <tr>\n",
       "      <th>526</th>\n",
       "      <td>2022-04-24</td>\n",
       "      <td>447</td>\n",
       "      <td>0</td>\n",
       "      <td>0.0</td>\n",
       "      <td>507</td>\n",
       "      <td>17.1</td>\n",
       "      <td>2400</td>\n",
       "      <td>25</td>\n",
       "    </tr>\n",
       "  </tbody>\n",
       "</table>\n",
       "<p>527 rows × 8 columns</p>\n",
       "</div>"
      ],
      "text/plain": [
       "          date  Number of visitor  Snow  Sunny Hours  Corona Infection  \\\n",
       "0   2019-01-01               1171     0          9.2                 0   \n",
       "1   2019-01-02               2158     0          7.8                 0   \n",
       "2   2019-01-03               2422     0          7.0                 0   \n",
       "3   2019-01-04               2730     0          9.3                 0   \n",
       "4   2019-01-05               2500     0          8.5                 0   \n",
       "..         ...                ...   ...          ...               ...   \n",
       "522 2022-04-15                 85     0          0.0               555   \n",
       "523 2022-04-16                730     0          9.3               476   \n",
       "524 2022-04-17               1205     0          5.4               513   \n",
       "525 2022-04-23                448     0          7.8               349   \n",
       "526 2022-04-24                447     0          0.0               507   \n",
       "\n",
       "     Temperature  Holiday Rank  Total Underage  \n",
       "0            4.4          2400             412  \n",
       "1            4.7          3000             789  \n",
       "2            3.0          3000             879  \n",
       "3            4.2          3000             768  \n",
       "4            6.1          3000             656  \n",
       "..           ...           ...             ...  \n",
       "522         10.7           800               1  \n",
       "523         11.7          2400              28  \n",
       "524         12.0          3000              70  \n",
       "525         20.1          3000              10  \n",
       "526         17.1          2400              25  \n",
       "\n",
       "[527 rows x 8 columns]"
      ]
     },
     "execution_count": 3,
     "metadata": {},
     "output_type": "execute_result"
    }
   ],
   "source": [
    "df"
   ]
  },
  {
   "cell_type": "code",
   "execution_count": 4,
   "id": "c4f2c4b4",
   "metadata": {},
   "outputs": [],
   "source": [
    "df.index=pd.to_datetime(df['date'])"
   ]
  },
  {
   "cell_type": "code",
   "execution_count": 5,
   "id": "f46c0168",
   "metadata": {},
   "outputs": [
    {
     "data": {
      "text/html": [
       "<div>\n",
       "<style scoped>\n",
       "    .dataframe tbody tr th:only-of-type {\n",
       "        vertical-align: middle;\n",
       "    }\n",
       "\n",
       "    .dataframe tbody tr th {\n",
       "        vertical-align: top;\n",
       "    }\n",
       "\n",
       "    .dataframe thead th {\n",
       "        text-align: right;\n",
       "    }\n",
       "</style>\n",
       "<table border=\"1\" class=\"dataframe\">\n",
       "  <thead>\n",
       "    <tr style=\"text-align: right;\">\n",
       "      <th></th>\n",
       "      <th>date</th>\n",
       "      <th>Number of visitor</th>\n",
       "      <th>Snow</th>\n",
       "      <th>Sunny Hours</th>\n",
       "      <th>Corona Infection</th>\n",
       "      <th>Temperature</th>\n",
       "      <th>Holiday Rank</th>\n",
       "      <th>Total Underage</th>\n",
       "    </tr>\n",
       "    <tr>\n",
       "      <th>date</th>\n",
       "      <th></th>\n",
       "      <th></th>\n",
       "      <th></th>\n",
       "      <th></th>\n",
       "      <th></th>\n",
       "      <th></th>\n",
       "      <th></th>\n",
       "      <th></th>\n",
       "    </tr>\n",
       "  </thead>\n",
       "  <tbody>\n",
       "    <tr>\n",
       "      <th>2019-01-01</th>\n",
       "      <td>2019-01-01</td>\n",
       "      <td>1171</td>\n",
       "      <td>0</td>\n",
       "      <td>9.2</td>\n",
       "      <td>0</td>\n",
       "      <td>4.4</td>\n",
       "      <td>2400</td>\n",
       "      <td>412</td>\n",
       "    </tr>\n",
       "    <tr>\n",
       "      <th>2019-01-02</th>\n",
       "      <td>2019-01-02</td>\n",
       "      <td>2158</td>\n",
       "      <td>0</td>\n",
       "      <td>7.8</td>\n",
       "      <td>0</td>\n",
       "      <td>4.7</td>\n",
       "      <td>3000</td>\n",
       "      <td>789</td>\n",
       "    </tr>\n",
       "    <tr>\n",
       "      <th>2019-01-03</th>\n",
       "      <td>2019-01-03</td>\n",
       "      <td>2422</td>\n",
       "      <td>0</td>\n",
       "      <td>7.0</td>\n",
       "      <td>0</td>\n",
       "      <td>3.0</td>\n",
       "      <td>3000</td>\n",
       "      <td>879</td>\n",
       "    </tr>\n",
       "    <tr>\n",
       "      <th>2019-01-04</th>\n",
       "      <td>2019-01-04</td>\n",
       "      <td>2730</td>\n",
       "      <td>0</td>\n",
       "      <td>9.3</td>\n",
       "      <td>0</td>\n",
       "      <td>4.2</td>\n",
       "      <td>3000</td>\n",
       "      <td>768</td>\n",
       "    </tr>\n",
       "    <tr>\n",
       "      <th>2019-01-05</th>\n",
       "      <td>2019-01-05</td>\n",
       "      <td>2500</td>\n",
       "      <td>0</td>\n",
       "      <td>8.5</td>\n",
       "      <td>0</td>\n",
       "      <td>6.1</td>\n",
       "      <td>3000</td>\n",
       "      <td>656</td>\n",
       "    </tr>\n",
       "    <tr>\n",
       "      <th>2019-01-06</th>\n",
       "      <td>2019-01-06</td>\n",
       "      <td>1879</td>\n",
       "      <td>0</td>\n",
       "      <td>5.6</td>\n",
       "      <td>0</td>\n",
       "      <td>3.4</td>\n",
       "      <td>2400</td>\n",
       "      <td>375</td>\n",
       "    </tr>\n",
       "  </tbody>\n",
       "</table>\n",
       "</div>"
      ],
      "text/plain": [
       "                 date  Number of visitor  Snow  Sunny Hours  Corona Infection  \\\n",
       "date                                                                            \n",
       "2019-01-01 2019-01-01               1171     0          9.2                 0   \n",
       "2019-01-02 2019-01-02               2158     0          7.8                 0   \n",
       "2019-01-03 2019-01-03               2422     0          7.0                 0   \n",
       "2019-01-04 2019-01-04               2730     0          9.3                 0   \n",
       "2019-01-05 2019-01-05               2500     0          8.5                 0   \n",
       "2019-01-06 2019-01-06               1879     0          5.6                 0   \n",
       "\n",
       "            Temperature  Holiday Rank  Total Underage  \n",
       "date                                                   \n",
       "2019-01-01          4.4          2400             412  \n",
       "2019-01-02          4.7          3000             789  \n",
       "2019-01-03          3.0          3000             879  \n",
       "2019-01-04          4.2          3000             768  \n",
       "2019-01-05          6.1          3000             656  \n",
       "2019-01-06          3.4          2400             375  "
      ]
     },
     "execution_count": 5,
     "metadata": {},
     "output_type": "execute_result"
    }
   ],
   "source": [
    "df.head(6)"
   ]
  },
  {
   "cell_type": "code",
   "execution_count": 6,
   "id": "62c53d94",
   "metadata": {},
   "outputs": [
    {
     "data": {
      "text/plain": [
       "<AxesSubplot:xlabel='date'>"
      ]
     },
     "execution_count": 6,
     "metadata": {},
     "output_type": "execute_result"
    },
    {
     "data": {
      "image/png": "[encoded data removed]",
      "text/plain": [
       "<Figure size 432x288 with 1 Axes>"
      ]
     },
     "metadata": {
      "needs_background": "light"
     },
     "output_type": "display_data"
    }
   ],
   "source": [
    "NOV=df['Number of visitor']\n",
    "NOV.plot()"
   ]
  },
  {
   "cell_type": "code",
   "execution_count": 7,
   "id": "618e94ab",
   "metadata": {},
   "outputs": [],
   "source": [
    "def df_to_X_y(df, window_size=8):\n",
    "  df_as_np = df.to_numpy()\n",
    "  X = []\n",
    "  y = []\n",
    "  for i in range(len(df_as_np)-window_size):\n",
    "    row = [[a] for a in df_as_np[i:i+window_size]]\n",
    "    X.append(row)\n",
    "    label = df_as_np[i+window_size]\n",
    "    y.append(label)\n",
    "  return np.array(X), np.array(y)"
   ]
  },
  {
   "cell_type": "code",
   "execution_count": 8,
   "id": "cfed5886",
   "metadata": {},
   "outputs": [
    {
     "data": {
      "text/plain": [
       "((519, 8, 1), (519,))"
      ]
     },
     "execution_count": 8,
     "metadata": {},
     "output_type": "execute_result"
    }
   ],
   "source": [
    "WINDOW_SIZE=8\n",
    "X,y=df_to_X_y(NOV, WINDOW_SIZE)\n",
    "X.shape, y.shape"
   ]
  },
  {
   "cell_type": "code",
   "execution_count": 9,
   "id": "f8e829c2",
   "metadata": {},
   "outputs": [
    {
     "data": {
      "text/plain": [
       "((400, 8, 1), (400,), (90, 8, 1), (90,))"
      ]
     },
     "execution_count": 9,
     "metadata": {},
     "output_type": "execute_result"
    }
   ],
   "source": [
    "X_train, y_train = X[:400], y[:400]\n",
    "X_val, y_val=X[400:490],y[400:490]\n",
    "X_test, y_test=X[490:527],y[490:527]\n",
    "X_train.shape, y_train.shape, X_val.shape, y_val.shape"
   ]
  },
  {
   "cell_type": "code",
   "execution_count": 10,
   "id": "172e98af",
   "metadata": {},
   "outputs": [
    {
     "name": "stdout",
     "output_type": "stream",
     "text": [
      "Model: \"sequential\"\n",
      "_________________________________________________________________\n",
      " Layer (type)                Output Shape              Param #   \n",
      "=================================================================\n",
      " lstm (LSTM)                 (None, 8, 100)            40800     \n",
      "                                                                 \n",
      " dropout (Dropout)           (None, 8, 100)            0         \n",
      "                                                                 \n",
      " lstm_1 (LSTM)               (None, 8, 50)             30200     \n",
      "                                                                 \n",
      " dropout_1 (Dropout)         (None, 8, 50)             0         \n",
      "                                                                 \n",
      " lstm_2 (LSTM)               (None, 36)                12528     \n",
      "                                                                 \n",
      " dropout_2 (Dropout)         (None, 36)                0         \n",
      "                                                                 \n",
      " dense (Dense)               (None, 80)                2960      \n",
      "                                                                 \n",
      " dense_1 (Dense)             (None, 1)                 81        \n",
      "                                                                 \n",
      "=================================================================\n",
      "Total params: 86,569\n",
      "Trainable params: 86,569\n",
      "Non-trainable params: 0\n",
      "_________________________________________________________________\n"
     ]
    }
   ],
   "source": [
    "from tensorflow.keras.models import Sequential\n",
    "from tensorflow.keras.layers import *\n",
    "from tensorflow.keras.callbacks import ModelCheckpoint\n",
    "from tensorflow.keras.losses import MeanSquaredError\n",
    "from tensorflow.keras.metrics import RootMeanSquaredError\n",
    "from tensorflow.keras.optimizers import Adam\n",
    "\n",
    "model = Sequential()\n",
    "model.add(InputLayer((8, 1)))\n",
    "model.add(LSTM(100,return_sequences=True))\n",
    "model.add(Dropout(0.2))\n",
    "model.add(LSTM(50,return_sequences=True))\n",
    "model.add(Dropout(0.2))\n",
    "model.add(LSTM(36))\n",
    "model.add(Dropout(0.2))\n",
    "model.add(Dense(80, 'relu'))\n",
    "model.add(Dense(1, 'relu'))\n",
    "\n",
    "model.summary()"
   ]
  },
  {
   "cell_type": "code",
   "execution_count": 11,
   "id": "61798ee3",
   "metadata": {},
   "outputs": [],
   "source": [
    "cp1 = ModelCheckpoint('model.hdf5', save_best_only=True)\n",
    "model.compile(loss=MeanSquaredError(), optimizer=Adam(learning_rate=0.01), metrics=[RootMeanSquaredError()])"
   ]
  },
  {
   "cell_type": "code",
   "execution_count": 12,
   "id": "76ee36e7",
   "metadata": {},
   "outputs": [
    {
     "name": "stdout",
     "output_type": "stream",
     "text": [
      "Epoch 1/30\n",
      "13/13 [==============================] - 8s 139ms/step - loss: 2542737.0000 - root_mean_squared_error: 1594.5962 - val_loss: 3129131.7500 - val_root_mean_squared_error: 1768.9352\n",
      "Epoch 2/30\n",
      "13/13 [==============================] - 0s 21ms/step - loss: 2387821.5000 - root_mean_squared_error: 1545.2577 - val_loss: 2834877.7500 - val_root_mean_squared_error: 1683.7095\n",
      "Epoch 3/30\n",
      "13/13 [==============================] - 0s 23ms/step - loss: 2100270.5000 - root_mean_squared_error: 1449.2310 - val_loss: 2358352.2500 - val_root_mean_squared_error: 1535.6927\n",
      "Epoch 4/30\n",
      "13/13 [==============================] - 0s 23ms/step - loss: 1726577.5000 - root_mean_squared_error: 1313.9929 - val_loss: 1783503.6250 - val_root_mean_squared_error: 1335.4788\n",
      "Epoch 5/30\n",
      "13/13 [==============================] - 0s 22ms/step - loss: 1356676.7500 - root_mean_squared_error: 1164.7646 - val_loss: 1289613.1250 - val_root_mean_squared_error: 1135.6113\n",
      "Epoch 6/30\n",
      "13/13 [==============================] - 0s 22ms/step - loss: 1138821.1250 - root_mean_squared_error: 1067.1556 - val_loss: 1015946.1250 - val_root_mean_squared_error: 1007.9415\n",
      "Epoch 7/30\n",
      "13/13 [==============================] - 0s 23ms/step - loss: 1081973.6250 - root_mean_squared_error: 1040.1796 - val_loss: 926604.1875 - val_root_mean_squared_error: 962.6028\n",
      "Epoch 8/30\n",
      "13/13 [==============================] - 0s 23ms/step - loss: 1082389.3750 - root_mean_squared_error: 1040.3794 - val_loss: 919937.7500 - val_root_mean_squared_error: 959.1339\n",
      "Epoch 9/30\n",
      "13/13 [==============================] - 0s 19ms/step - loss: 1083536.3750 - root_mean_squared_error: 1040.9305 - val_loss: 944283.6250 - val_root_mean_squared_error: 971.7426\n",
      "Epoch 10/30\n",
      "13/13 [==============================] - 0s 19ms/step - loss: 1089651.5000 - root_mean_squared_error: 1043.8638 - val_loss: 959997.1250 - val_root_mean_squared_error: 979.7944\n",
      "Epoch 11/30\n",
      "13/13 [==============================] - 0s 19ms/step - loss: 1074297.7500 - root_mean_squared_error: 1036.4834 - val_loss: 951981.6875 - val_root_mean_squared_error: 975.6955\n",
      "Epoch 12/30\n",
      "13/13 [==============================] - 0s 19ms/step - loss: 1071292.3750 - root_mean_squared_error: 1035.0326 - val_loss: 940854.7500 - val_root_mean_squared_error: 969.9767\n",
      "Epoch 13/30\n",
      "13/13 [==============================] - 0s 19ms/step - loss: 1082866.1250 - root_mean_squared_error: 1040.6085 - val_loss: 941510.9375 - val_root_mean_squared_error: 970.3149\n",
      "Epoch 14/30\n",
      "13/13 [==============================] - 0s 27ms/step - loss: 1072612.7500 - root_mean_squared_error: 1035.6702 - val_loss: 940314.1250 - val_root_mean_squared_error: 969.6979\n",
      "Epoch 15/30\n",
      "13/13 [==============================] - 0s 19ms/step - loss: 1077014.1250 - root_mean_squared_error: 1037.7930 - val_loss: 955872.2500 - val_root_mean_squared_error: 977.6872\n",
      "Epoch 16/30\n",
      "13/13 [==============================] - 0s 18ms/step - loss: 1066293.5000 - root_mean_squared_error: 1032.6149 - val_loss: 939594.5000 - val_root_mean_squared_error: 969.3268\n",
      "Epoch 17/30\n",
      "13/13 [==============================] - 0s 19ms/step - loss: 1067326.5000 - root_mean_squared_error: 1033.1150 - val_loss: 945803.1875 - val_root_mean_squared_error: 972.5241\n",
      "Epoch 18/30\n",
      "13/13 [==============================] - 0s 20ms/step - loss: 1074240.1250 - root_mean_squared_error: 1036.4556 - val_loss: 962293.7500 - val_root_mean_squared_error: 980.9657\n",
      "Epoch 19/30\n",
      "13/13 [==============================] - 0s 18ms/step - loss: 1078976.2500 - root_mean_squared_error: 1038.7378 - val_loss: 954920.5625 - val_root_mean_squared_error: 977.2004\n",
      "Epoch 20/30\n",
      "13/13 [==============================] - 0s 17ms/step - loss: 1077540.8750 - root_mean_squared_error: 1038.0466 - val_loss: 932162.3125 - val_root_mean_squared_error: 965.4855\n",
      "Epoch 21/30\n",
      "13/13 [==============================] - 0s 19ms/step - loss: 1100591.5000 - root_mean_squared_error: 1049.0908 - val_loss: 956162.9375 - val_root_mean_squared_error: 977.8358\n",
      "Epoch 22/30\n",
      "13/13 [==============================] - 0s 19ms/step - loss: 1610074.1250 - root_mean_squared_error: 1268.8870 - val_loss: 3239653.7500 - val_root_mean_squared_error: 1799.9038\n",
      "Epoch 23/30\n",
      "13/13 [==============================] - 0s 19ms/step - loss: 1327087.6250 - root_mean_squared_error: 1151.9929 - val_loss: 965665.2500 - val_root_mean_squared_error: 982.6827\n",
      "Epoch 24/30\n",
      "13/13 [==============================] - 0s 23ms/step - loss: 991469.2500 - root_mean_squared_error: 995.7255 - val_loss: 1075411.2500 - val_root_mean_squared_error: 1037.0204\n",
      "Epoch 25/30\n",
      "13/13 [==============================] - 0s 27ms/step - loss: 897637.1875 - root_mean_squared_error: 947.4372 - val_loss: 839325.0000 - val_root_mean_squared_error: 916.1469\n",
      "Epoch 26/30\n",
      "13/13 [==============================] - 0s 19ms/step - loss: 894597.4375 - root_mean_squared_error: 945.8316 - val_loss: 840505.6250 - val_root_mean_squared_error: 916.7910\n",
      "Epoch 27/30\n",
      "13/13 [==============================] - 0s 17ms/step - loss: 932907.0625 - root_mean_squared_error: 965.8712 - val_loss: 840148.1875 - val_root_mean_squared_error: 916.5960\n",
      "Epoch 28/30\n",
      "13/13 [==============================] - 0s 19ms/step - loss: 948516.7500 - root_mean_squared_error: 973.9183 - val_loss: 893711.0000 - val_root_mean_squared_error: 945.3629\n",
      "Epoch 29/30\n",
      "13/13 [==============================] - 0s 18ms/step - loss: 901984.8125 - root_mean_squared_error: 949.7288 - val_loss: 871664.5625 - val_root_mean_squared_error: 933.6298\n",
      "Epoch 30/30\n",
      "13/13 [==============================] - 0s 18ms/step - loss: 850729.9375 - root_mean_squared_error: 922.3502 - val_loss: 841160.1875 - val_root_mean_squared_error: 917.1478\n"
     ]
    }
   ],
   "source": [
    "history=model.fit(X_train, y_train, validation_data=(X_val, y_val), epochs=30, callbacks=[cp1])"
   ]
  },
  {
   "cell_type": "code",
   "execution_count": 13,
   "id": "2a9c95a4",
   "metadata": {},
   "outputs": [
    {
     "name": "stdout",
     "output_type": "stream",
     "text": [
      "13/13 [==============================] - 0s 6ms/step - loss: 841926.5000 - root_mean_squared_error: 917.5656\n"
     ]
    },
    {
     "data": {
      "text/plain": [
       "[841926.5, 917.5655517578125]"
      ]
     },
     "execution_count": 13,
     "metadata": {},
     "output_type": "execute_result"
    }
   ],
   "source": [
    "model.evaluate(X_train, y_train)"
   ]
  },
  {
   "cell_type": "code",
   "execution_count": 14,
   "id": "59183880",
   "metadata": {
    "scrolled": true
   },
   "outputs": [
    {
     "data": {
      "text/plain": [
       "[<matplotlib.lines.Line2D at 0x205946549a0>]"
      ]
     },
     "execution_count": 14,
     "metadata": {},
     "output_type": "execute_result"
    },
    {
     "data": {
      "image/png": "[encoded data removed]",
      "text/plain": [
       "<Figure size 432x288 with 1 Axes>"
      ]
     },
     "metadata": {
      "needs_background": "light"
     },
     "output_type": "display_data"
    }
   ],
   "source": [
    "import matplotlib.pyplot as plt\n",
    "loss_per_epoch = history.history['loss']\n",
    "plt.plot(range(len(loss_per_epoch)),loss_per_epoch)"
   ]
  },
  {
   "cell_type": "code",
   "execution_count": 358,
   "id": "509150fa",
   "metadata": {},
   "outputs": [],
   "source": [
    "from tensorflow.keras.models import load_model\n",
    "model = load_model('model.hdf5')"
   ]
  },
  {
   "cell_type": "code",
   "execution_count": 359,
   "id": "8fc3562c",
   "metadata": {},
   "outputs": [
    {
     "name": "stdout",
     "output_type": "stream",
     "text": [
      "13/13 [==============================] - 1s 10ms/step\n"
     ]
    },
    {
     "data": {
      "text/html": [
       "<div>\n",
       "<style scoped>\n",
       "    .dataframe tbody tr th:only-of-type {\n",
       "        vertical-align: middle;\n",
       "    }\n",
       "\n",
       "    .dataframe tbody tr th {\n",
       "        vertical-align: top;\n",
       "    }\n",
       "\n",
       "    .dataframe thead th {\n",
       "        text-align: right;\n",
       "    }\n",
       "</style>\n",
       "<table border=\"1\" class=\"dataframe\">\n",
       "  <thead>\n",
       "    <tr style=\"text-align: right;\">\n",
       "      <th></th>\n",
       "      <th>Train Predictions</th>\n",
       "      <th>Actuals</th>\n",
       "    </tr>\n",
       "  </thead>\n",
       "  <tbody>\n",
       "    <tr>\n",
       "      <th>0</th>\n",
       "      <td>1368.361816</td>\n",
       "      <td>443</td>\n",
       "    </tr>\n",
       "    <tr>\n",
       "      <th>1</th>\n",
       "      <td>1603.317261</td>\n",
       "      <td>554</td>\n",
       "    </tr>\n",
       "    <tr>\n",
       "      <th>2</th>\n",
       "      <td>1937.212280</td>\n",
       "      <td>450</td>\n",
       "    </tr>\n",
       "    <tr>\n",
       "      <th>3</th>\n",
       "      <td>2015.706421</td>\n",
       "      <td>2442</td>\n",
       "    </tr>\n",
       "    <tr>\n",
       "      <th>4</th>\n",
       "      <td>2652.013184</td>\n",
       "      <td>3948</td>\n",
       "    </tr>\n",
       "    <tr>\n",
       "      <th>...</th>\n",
       "      <td>...</td>\n",
       "      <td>...</td>\n",
       "    </tr>\n",
       "    <tr>\n",
       "      <th>395</th>\n",
       "      <td>380.239990</td>\n",
       "      <td>378</td>\n",
       "    </tr>\n",
       "    <tr>\n",
       "      <th>396</th>\n",
       "      <td>1441.011353</td>\n",
       "      <td>1591</td>\n",
       "    </tr>\n",
       "    <tr>\n",
       "      <th>397</th>\n",
       "      <td>2555.450684</td>\n",
       "      <td>2323</td>\n",
       "    </tr>\n",
       "    <tr>\n",
       "      <th>398</th>\n",
       "      <td>991.952698</td>\n",
       "      <td>748</td>\n",
       "    </tr>\n",
       "    <tr>\n",
       "      <th>399</th>\n",
       "      <td>750.498352</td>\n",
       "      <td>857</td>\n",
       "    </tr>\n",
       "  </tbody>\n",
       "</table>\n",
       "<p>400 rows × 2 columns</p>\n",
       "</div>"
      ],
      "text/plain": [
       "     Train Predictions  Actuals\n",
       "0          1368.361816      443\n",
       "1          1603.317261      554\n",
       "2          1937.212280      450\n",
       "3          2015.706421     2442\n",
       "4          2652.013184     3948\n",
       "..                 ...      ...\n",
       "395         380.239990      378\n",
       "396        1441.011353     1591\n",
       "397        2555.450684     2323\n",
       "398         991.952698      748\n",
       "399         750.498352      857\n",
       "\n",
       "[400 rows x 2 columns]"
      ]
     },
     "execution_count": 359,
     "metadata": {},
     "output_type": "execute_result"
    }
   ],
   "source": [
    "train_predictions = model.predict(X_train).flatten()\n",
    "train_results = pd.DataFrame(data={'Train Predictions':train_predictions, 'Actuals':y_train})\n",
    "train_results"
   ]
  },
  {
   "cell_type": "code",
   "execution_count": 360,
   "id": "4d0dd638",
   "metadata": {},
   "outputs": [
    {
     "data": {
      "text/plain": [
       "[<matplotlib.lines.Line2D at 0x201e41fe1f0>]"
      ]
     },
     "execution_count": 360,
     "metadata": {},
     "output_type": "execute_result"
    },
    {
     "data": {
      "image/png": "[encoded data removed]",
      "text/plain": [
       "<Figure size 432x288 with 1 Axes>"
      ]
     },
     "metadata": {
      "needs_background": "light"
     },
     "output_type": "display_data"
    }
   ],
   "source": [
    "import matplotlib.pyplot as plt\n",
    "plt.plot(train_results['Train Predictions'][:100])\n",
    "plt.plot(train_results['Actuals'][:100])"
   ]
  },
  {
   "cell_type": "code",
   "execution_count": 361,
   "id": "39764ef7",
   "metadata": {
    "scrolled": true
   },
   "outputs": [
    {
     "name": "stdout",
     "output_type": "stream",
     "text": [
      "1/1 [==============================] - 0s 24ms/step\n"
     ]
    },
    {
     "data": {
      "text/html": [
       "<div>\n",
       "<style scoped>\n",
       "    .dataframe tbody tr th:only-of-type {\n",
       "        vertical-align: middle;\n",
       "    }\n",
       "\n",
       "    .dataframe tbody tr th {\n",
       "        vertical-align: top;\n",
       "    }\n",
       "\n",
       "    .dataframe thead th {\n",
       "        text-align: right;\n",
       "    }\n",
       "</style>\n",
       "<table border=\"1\" class=\"dataframe\">\n",
       "  <thead>\n",
       "    <tr style=\"text-align: right;\">\n",
       "      <th></th>\n",
       "      <th>Train Predictions</th>\n",
       "      <th>Actuals</th>\n",
       "    </tr>\n",
       "  </thead>\n",
       "  <tbody>\n",
       "    <tr>\n",
       "      <th>0</th>\n",
       "      <td>1264.087280</td>\n",
       "      <td>862</td>\n",
       "    </tr>\n",
       "    <tr>\n",
       "      <th>1</th>\n",
       "      <td>939.337708</td>\n",
       "      <td>697</td>\n",
       "    </tr>\n",
       "    <tr>\n",
       "      <th>2</th>\n",
       "      <td>862.171875</td>\n",
       "      <td>820</td>\n",
       "    </tr>\n",
       "    <tr>\n",
       "      <th>3</th>\n",
       "      <td>856.624695</td>\n",
       "      <td>611</td>\n",
       "    </tr>\n",
       "    <tr>\n",
       "      <th>4</th>\n",
       "      <td>2279.964111</td>\n",
       "      <td>1512</td>\n",
       "    </tr>\n",
       "    <tr>\n",
       "      <th>5</th>\n",
       "      <td>2736.280762</td>\n",
       "      <td>1877</td>\n",
       "    </tr>\n",
       "    <tr>\n",
       "      <th>6</th>\n",
       "      <td>1874.472778</td>\n",
       "      <td>827</td>\n",
       "    </tr>\n",
       "    <tr>\n",
       "      <th>7</th>\n",
       "      <td>813.829834</td>\n",
       "      <td>817</td>\n",
       "    </tr>\n",
       "    <tr>\n",
       "      <th>8</th>\n",
       "      <td>776.089966</td>\n",
       "      <td>948</td>\n",
       "    </tr>\n",
       "    <tr>\n",
       "      <th>9</th>\n",
       "      <td>790.975342</td>\n",
       "      <td>609</td>\n",
       "    </tr>\n",
       "    <tr>\n",
       "      <th>10</th>\n",
       "      <td>664.597656</td>\n",
       "      <td>548</td>\n",
       "    </tr>\n",
       "    <tr>\n",
       "      <th>11</th>\n",
       "      <td>2260.145508</td>\n",
       "      <td>1813</td>\n",
       "    </tr>\n",
       "    <tr>\n",
       "      <th>12</th>\n",
       "      <td>2686.540039</td>\n",
       "      <td>1783</td>\n",
       "    </tr>\n",
       "    <tr>\n",
       "      <th>13</th>\n",
       "      <td>900.641357</td>\n",
       "      <td>464</td>\n",
       "    </tr>\n",
       "    <tr>\n",
       "      <th>14</th>\n",
       "      <td>743.528625</td>\n",
       "      <td>653</td>\n",
       "    </tr>\n",
       "    <tr>\n",
       "      <th>15</th>\n",
       "      <td>695.681519</td>\n",
       "      <td>500</td>\n",
       "    </tr>\n",
       "    <tr>\n",
       "      <th>16</th>\n",
       "      <td>596.747009</td>\n",
       "      <td>387</td>\n",
       "    </tr>\n",
       "    <tr>\n",
       "      <th>17</th>\n",
       "      <td>554.342529</td>\n",
       "      <td>355</td>\n",
       "    </tr>\n",
       "    <tr>\n",
       "      <th>18</th>\n",
       "      <td>1854.982544</td>\n",
       "      <td>1536</td>\n",
       "    </tr>\n",
       "    <tr>\n",
       "      <th>19</th>\n",
       "      <td>2576.068359</td>\n",
       "      <td>1573</td>\n",
       "    </tr>\n",
       "    <tr>\n",
       "      <th>20</th>\n",
       "      <td>705.708557</td>\n",
       "      <td>412</td>\n",
       "    </tr>\n",
       "    <tr>\n",
       "      <th>21</th>\n",
       "      <td>633.489319</td>\n",
       "      <td>349</td>\n",
       "    </tr>\n",
       "    <tr>\n",
       "      <th>22</th>\n",
       "      <td>537.795532</td>\n",
       "      <td>357</td>\n",
       "    </tr>\n",
       "    <tr>\n",
       "      <th>23</th>\n",
       "      <td>482.617615</td>\n",
       "      <td>72</td>\n",
       "    </tr>\n",
       "    <tr>\n",
       "      <th>24</th>\n",
       "      <td>389.771057</td>\n",
       "      <td>85</td>\n",
       "    </tr>\n",
       "    <tr>\n",
       "      <th>25</th>\n",
       "      <td>876.617371</td>\n",
       "      <td>730</td>\n",
       "    </tr>\n",
       "    <tr>\n",
       "      <th>26</th>\n",
       "      <td>926.703674</td>\n",
       "      <td>1205</td>\n",
       "    </tr>\n",
       "    <tr>\n",
       "      <th>27</th>\n",
       "      <td>505.621155</td>\n",
       "      <td>448</td>\n",
       "    </tr>\n",
       "    <tr>\n",
       "      <th>28</th>\n",
       "      <td>366.879517</td>\n",
       "      <td>447</td>\n",
       "    </tr>\n",
       "  </tbody>\n",
       "</table>\n",
       "</div>"
      ],
      "text/plain": [
       "    Train Predictions  Actuals\n",
       "0         1264.087280      862\n",
       "1          939.337708      697\n",
       "2          862.171875      820\n",
       "3          856.624695      611\n",
       "4         2279.964111     1512\n",
       "5         2736.280762     1877\n",
       "6         1874.472778      827\n",
       "7          813.829834      817\n",
       "8          776.089966      948\n",
       "9          790.975342      609\n",
       "10         664.597656      548\n",
       "11        2260.145508     1813\n",
       "12        2686.540039     1783\n",
       "13         900.641357      464\n",
       "14         743.528625      653\n",
       "15         695.681519      500\n",
       "16         596.747009      387\n",
       "17         554.342529      355\n",
       "18        1854.982544     1536\n",
       "19        2576.068359     1573\n",
       "20         705.708557      412\n",
       "21         633.489319      349\n",
       "22         537.795532      357\n",
       "23         482.617615       72\n",
       "24         389.771057       85\n",
       "25         876.617371      730\n",
       "26         926.703674     1205\n",
       "27         505.621155      448\n",
       "28         366.879517      447"
      ]
     },
     "execution_count": 361,
     "metadata": {},
     "output_type": "execute_result"
    }
   ],
   "source": [
    "train_predictions = model.predict(X_test).flatten()\n",
    "train_results = pd.DataFrame(data={'Train Predictions':train_predictions, 'Actuals':y_test})\n",
    "train_results"
   ]
  },
  {
   "cell_type": "code",
   "execution_count": 362,
   "id": "9f8465e4",
   "metadata": {},
   "outputs": [
    {
     "data": {
      "text/plain": [
       "[<matplotlib.lines.Line2D at 0x20183b5b9a0>]"
      ]
     },
     "execution_count": 362,
     "metadata": {},
     "output_type": "execute_result"
    },
    {
     "data": {
      "image/png": "[encoded data removed]",
      "text/plain": [
       "<Figure size 432x288 with 1 Axes>"
      ]
     },
     "metadata": {
      "needs_background": "light"
     },
     "output_type": "display_data"
    }
   ],
   "source": [
    "plt.plot(train_results['Train Predictions'][:200])\n",
    "plt.plot(train_results['Actuals'][:200])"
   ]
  },
  {
   "cell_type": "code",
   "execution_count": null,
   "id": "41e5879e",
   "metadata": {},
   "outputs": [],
   "source": []
  },
  {
   "cell_type": "code",
   "execution_count": null,
   "id": "03280341",
   "metadata": {},
   "outputs": [],
   "source": []
  },
  {
   "cell_type": "code",
   "execution_count": null,
   "id": "20a0e58c",
   "metadata": {},
   "outputs": [],
   "source": []
  },
  {
   "cell_type": "code",
   "execution_count": null,
   "id": "2ff3d052",
   "metadata": {},
   "outputs": [],
   "source": []
  }
 ],
 "metadata": {
  "kernelspec": {
   "display_name": "Python 3 (ipykernel)",
   "language": "python",
   "name": "python3"
  },
  "language_info": {
   "codemirror_mode": {
    "name": "ipython",
    "version": 3
   },
   "file_extension": ".py",
   "mimetype": "text/x-python",
   "name": "python",
   "nbconvert_exporter": "python",
   "pygments_lexer": "ipython3",
   "version": "3.9.12"
  }
 },
 "nbformat": 4,
 "nbformat_minor": 5
}
