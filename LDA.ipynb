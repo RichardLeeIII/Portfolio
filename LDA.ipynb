{
 "cells": [
  {
   "cell_type": "code",
   "execution_count": 5,
   "id": "a8b1c682",
   "metadata": {},
   "outputs": [
    {
     "name": "stderr",
     "output_type": "stream",
     "text": [
      "C:\\Users\\LGPC\\anaconda3\\lib\\site-packages\\seaborn\\rcmod.py:82: DeprecationWarning: distutils Version classes are deprecated. Use packaging.version instead.\n",
      "  if LooseVersion(mpl.__version__) >= \"3.0\":\n",
      "C:\\Users\\LGPC\\anaconda3\\lib\\site-packages\\setuptools\\_distutils\\version.py:351: DeprecationWarning: distutils Version classes are deprecated. Use packaging.version instead.\n",
      "  other = LooseVersion(other)\n"
     ]
    }
   ],
   "source": [
    "import pandas as pd\n",
    "import numpy as np\n",
    "\n",
    "import re\n",
    "import string\n",
    "\n",
    "import spacy\n",
    "\n",
    "import gensim\n",
    "from gensim import corpora\n",
    "\n",
    "import pyLDAvis\n",
    "import pyLDAvis.gensim\n",
    "import matplotlib.pyplot as plt\n",
    "import seaborn as sns\n",
    "%matplotlib inline"
   ]
  },
  {
   "cell_type": "code",
   "execution_count": 6,
   "id": "f5a727dd",
   "metadata": {},
   "outputs": [
    {
     "name": "stdout",
     "output_type": "stream",
     "text": [
      "   Id   ProductId          UserId ProfileName  HelpfulnessNumerator  \\\n",
      "0   1  B001E4KFG0  A3SGXH7AUHU8GW  delmartian                     1   \n",
      "1   2  B00813GRG4  A1D87F6ZCVE5NK      dll pa                     0   \n",
      "\n",
      "   HelpfulnessDenominator  Score        Time                Summary  \\\n",
      "0                       1      5  1303862400  Good Quality Dog Food   \n",
      "1                       0      1  1346976000      Not as Advertised   \n",
      "\n",
      "                                                Text  \n",
      "0  I have bought several of the Vitality canned d...  \n",
      "1  Product arrived labeled as Jumbo Salted Peanut...  \n",
      "568454\n",
      "Unique Products\n",
      "74258\n",
      "Unique Users\n",
      "256059\n"
     ]
    }
   ],
   "source": [
    "review_data= pd.read_csv(\"Reviews.csv\")\n",
    "print(review_data.head(2))\n",
    "print(len(review_data))\n",
    "print('Unique Products')\n",
    "print(len(review_data.groupby('ProductId')))\n",
    "print('Unique Users')\n",
    "print(len(review_data.groupby('UserId')))"
   ]
  },
  {
   "cell_type": "code",
   "execution_count": 7,
   "id": "4f2b2bc7",
   "metadata": {},
   "outputs": [],
   "source": [
    "def clean_text(text ): \n",
    "    delete_dict = {sp_character: '' for sp_character in string.punctuation} \n",
    "    delete_dict[' '] = ' ' \n",
    "    table = str.maketrans(delete_dict)\n",
    "    text1 = text.translate(table)\n",
    "    #print('cleaned:'+text1)\n",
    "    textArr= text1.split()\n",
    "    text2 = ' '.join([w for w in textArr if ( not w.isdigit() and  ( not w.isdigit() and len(w)>3))]) \n",
    "    \n",
    "    return text2.lower()"
   ]
  },
  {
   "cell_type": "code",
   "execution_count": 8,
   "id": "d1d7ea1e",
   "metadata": {},
   "outputs": [
    {
     "name": "stderr",
     "output_type": "stream",
     "text": [
      "[nltk_data] Downloading package stopwords to\n",
      "[nltk_data]     C:\\Users\\LGPC\\AppData\\Roaming\\nltk_data...\n",
      "[nltk_data]   Package stopwords is already up-to-date!\n"
     ]
    },
    {
     "data": {
      "text/plain": [
       "True"
      ]
     },
     "execution_count": 8,
     "metadata": {},
     "output_type": "execute_result"
    }
   ],
   "source": [
    "import nltk\n",
    "nltk.download('stopwords') # run this one time"
   ]
  },
  {
   "cell_type": "code",
   "execution_count": 9,
   "id": "5ce328da",
   "metadata": {},
   "outputs": [
    {
     "name": "stdout",
     "output_type": "stream",
     "text": [
      "-------Dataset --------\n",
      "5    363111\n",
      "4     80655\n",
      "1     52264\n",
      "3     42638\n",
      "2     29743\n",
      "Name: Score, dtype: int64\n",
      "568411\n",
      "-------------------------\n",
      "No of Short reviews\n",
      "373281\n"
     ]
    }
   ],
   "source": [
    "review_data.dropna(axis = 0, how ='any',inplace=True) \n",
    "\n",
    "\n",
    "\n",
    "\n",
    "\n",
    "\n",
    "review_data['Text'] = review_data['Text'].apply(clean_text)\n",
    "review_data['Num_words_text'] = review_data['Text'].apply(lambda x:len(str(x).split())) \n",
    "\n",
    "print('-------Dataset --------')\n",
    "print(review_data['Score'].value_counts())\n",
    "print(len(review_data))\n",
    "print('-------------------------')\n",
    "max_review_data_sentence_length  = review_data['Num_words_text'].max()\n",
    "\n",
    "mask = (review_data['Num_words_text'] < 100) & (review_data['Num_words_text'] >=20)\n",
    "df_short_reviews = review_data[mask]\n",
    "df_sampled = df_short_reviews.groupby('Score').apply(lambda x: x.sample(n=20000)).reset_index(drop = True)\n",
    "\n",
    "print('No of Short reviews')\n",
    "print(len(df_short_reviews))\n",
    "\n",
    "\n",
    "\n",
    "#all_sentences = train_data['text'].tolist() + test_data['text'].tolist()"
   ]
  },
  {
   "cell_type": "markdown",
   "id": "520f9057",
   "metadata": {},
   "source": [
    "결측값이 있는 모든 행을 삭제합니다.\n",
    "'clean_text' 함수를 사용하여 'Text' 열을 정리합니다.\n",
    "'Num_words_text'라는 새 열을 DataFrame에 추가하고 각 정리된 텍스트의 단어 수를 포함시킵니다.\n",
    "'Score' 열의 각 점수 값에 대한 리뷰 수, 데이터셋의 총 리뷰 수 및 구분자 몇 개를 출력합니다.\n",
    "'Num_words_text' 열의 최대 문장 길이(단어 수)를 결정합니다.\n",
    "짧은 리뷰(20~100 단어)를 필터링하기 위한 마스크를 생성합니다.\n",
    "마스크를 기반으로 'df_short_reviews' DataFrame을 생성하고, 짧은 리뷰만 포함시킵니다.\n",
    "'groupby' 및 'sample' 함수를 사용하여 'df_short_reviews' DataFrame에서 각 점수 범주에서 2만 개의 리뷰를 무작위로 추출합니다.\n",
    "'df_short_reviews' 내의 짧은 리뷰 수를 출력합니다."
   ]
  },
  {
   "cell_type": "code",
   "execution_count": 10,
   "id": "f15d0daf",
   "metadata": {},
   "outputs": [
    {
     "data": {
      "text/html": [
       "<div>\n",
       "<style scoped>\n",
       "    .dataframe tbody tr th:only-of-type {\n",
       "        vertical-align: middle;\n",
       "    }\n",
       "\n",
       "    .dataframe tbody tr th {\n",
       "        vertical-align: top;\n",
       "    }\n",
       "\n",
       "    .dataframe thead th {\n",
       "        text-align: right;\n",
       "    }\n",
       "</style>\n",
       "<table border=\"1\" class=\"dataframe\">\n",
       "  <thead>\n",
       "    <tr style=\"text-align: right;\">\n",
       "      <th></th>\n",
       "      <th>Id</th>\n",
       "      <th>ProductId</th>\n",
       "      <th>UserId</th>\n",
       "      <th>ProfileName</th>\n",
       "      <th>HelpfulnessNumerator</th>\n",
       "      <th>HelpfulnessDenominator</th>\n",
       "      <th>Score</th>\n",
       "      <th>Time</th>\n",
       "      <th>Summary</th>\n",
       "      <th>Text</th>\n",
       "      <th>Num_words_text</th>\n",
       "    </tr>\n",
       "  </thead>\n",
       "  <tbody>\n",
       "    <tr>\n",
       "      <th>0</th>\n",
       "      <td>115371</td>\n",
       "      <td>B000F4F952</td>\n",
       "      <td>A30423CYQA2EKZ</td>\n",
       "      <td>Bluewater cruiser</td>\n",
       "      <td>1</td>\n",
       "      <td>7</td>\n",
       "      <td>1</td>\n",
       "      <td>1192233600</td>\n",
       "      <td>Poor taste compared to Ceylon Orange Pekoe</td>\n",
       "      <td>bought this before reading reviews here unfort...</td>\n",
       "      <td>38</td>\n",
       "    </tr>\n",
       "    <tr>\n",
       "      <th>1</th>\n",
       "      <td>419061</td>\n",
       "      <td>B000PZQUZO</td>\n",
       "      <td>A2XJV8WWLH4XX</td>\n",
       "      <td>Dee from Gary, Indiana</td>\n",
       "      <td>3</td>\n",
       "      <td>3</td>\n",
       "      <td>1</td>\n",
       "      <td>1282608000</td>\n",
       "      <td>Terrible</td>\n",
       "      <td>calorie free carb free tell tried this twice w...</td>\n",
       "      <td>31</td>\n",
       "    </tr>\n",
       "    <tr>\n",
       "      <th>2</th>\n",
       "      <td>487236</td>\n",
       "      <td>B000PDWBKO</td>\n",
       "      <td>A3QGWIBB2M6D05</td>\n",
       "      <td>Erica Peterson</td>\n",
       "      <td>0</td>\n",
       "      <td>3</td>\n",
       "      <td>1</td>\n",
       "      <td>1318291200</td>\n",
       "      <td>popcorn is too salty</td>\n",
       "      <td>premeasured bags quick convenient popcorn salt...</td>\n",
       "      <td>53</td>\n",
       "    </tr>\n",
       "    <tr>\n",
       "      <th>3</th>\n",
       "      <td>273730</td>\n",
       "      <td>B002CJO8T6</td>\n",
       "      <td>ASFSYWVKD8NHZ</td>\n",
       "      <td>Paul Sturgis \"paulsrealm\"</td>\n",
       "      <td>1</td>\n",
       "      <td>5</td>\n",
       "      <td>1</td>\n",
       "      <td>1305504000</td>\n",
       "      <td>Amazon bait and switch</td>\n",
       "      <td>after only shipments part their automatic mont...</td>\n",
       "      <td>29</td>\n",
       "    </tr>\n",
       "    <tr>\n",
       "      <th>4</th>\n",
       "      <td>103816</td>\n",
       "      <td>B001EQ4IG6</td>\n",
       "      <td>A136FID8RG4INP</td>\n",
       "      <td>Elizabeth \"gturner1\"</td>\n",
       "      <td>0</td>\n",
       "      <td>1</td>\n",
       "      <td>1</td>\n",
       "      <td>1264032000</td>\n",
       "      <td>coffee values</td>\n",
       "      <td>because failed check over ounces store sells t...</td>\n",
       "      <td>34</td>\n",
       "    </tr>\n",
       "    <tr>\n",
       "      <th>...</th>\n",
       "      <td>...</td>\n",
       "      <td>...</td>\n",
       "      <td>...</td>\n",
       "      <td>...</td>\n",
       "      <td>...</td>\n",
       "      <td>...</td>\n",
       "      <td>...</td>\n",
       "      <td>...</td>\n",
       "      <td>...</td>\n",
       "      <td>...</td>\n",
       "      <td>...</td>\n",
       "    </tr>\n",
       "    <tr>\n",
       "      <th>99995</th>\n",
       "      <td>459008</td>\n",
       "      <td>B0031QKZO6</td>\n",
       "      <td>A27DHWJ275D678</td>\n",
       "      <td>Rev. George T. Cox</td>\n",
       "      <td>0</td>\n",
       "      <td>0</td>\n",
       "      <td>5</td>\n",
       "      <td>1329091200</td>\n",
       "      <td>Great Tasting Anti-Oxidant Tea</td>\n",
       "      <td>this outrageously great found green pomegranat...</td>\n",
       "      <td>21</td>\n",
       "    </tr>\n",
       "    <tr>\n",
       "      <th>99996</th>\n",
       "      <td>90914</td>\n",
       "      <td>B000FBM3PO</td>\n",
       "      <td>A2PF32UUERJXB8</td>\n",
       "      <td>Susan Swan \"reads-curled-in-covers\"</td>\n",
       "      <td>0</td>\n",
       "      <td>0</td>\n",
       "      <td>5</td>\n",
       "      <td>1187913600</td>\n",
       "      <td>Oh, so very very very VERY good</td>\n",
       "      <td>love these cookies most cookies sweet these ho...</td>\n",
       "      <td>35</td>\n",
       "    </tr>\n",
       "    <tr>\n",
       "      <th>99997</th>\n",
       "      <td>540583</td>\n",
       "      <td>B001D0GV90</td>\n",
       "      <td>AU0GJWWEVFI4</td>\n",
       "      <td>Eric B. Brownstein</td>\n",
       "      <td>8</td>\n",
       "      <td>8</td>\n",
       "      <td>5</td>\n",
       "      <td>1203984000</td>\n",
       "      <td>The search is over</td>\n",
       "      <td>enjoy rich aromatic full bodied coffee with tr...</td>\n",
       "      <td>30</td>\n",
       "    </tr>\n",
       "    <tr>\n",
       "      <th>99998</th>\n",
       "      <td>471849</td>\n",
       "      <td>B000FPVLAS</td>\n",
       "      <td>A3IZQOD9Z3X707</td>\n",
       "      <td>T. D. Bourque</td>\n",
       "      <td>0</td>\n",
       "      <td>0</td>\n",
       "      <td>5</td>\n",
       "      <td>1350518400</td>\n",
       "      <td>Bob's Cherry Lumps</td>\n",
       "      <td>purchased these hard candies online because ca...</td>\n",
       "      <td>35</td>\n",
       "    </tr>\n",
       "    <tr>\n",
       "      <th>99999</th>\n",
       "      <td>333642</td>\n",
       "      <td>B00188S3PM</td>\n",
       "      <td>A2FI6DQJG4BYPO</td>\n",
       "      <td>Worldofbooks</td>\n",
       "      <td>2</td>\n",
       "      <td>3</td>\n",
       "      <td>5</td>\n",
       "      <td>1326326400</td>\n",
       "      <td>Saw this on Dr. OZ for eliminating crows feet</td>\n",
       "      <td>watched television explaining minimize andor a...</td>\n",
       "      <td>47</td>\n",
       "    </tr>\n",
       "  </tbody>\n",
       "</table>\n",
       "<p>100000 rows × 11 columns</p>\n",
       "</div>"
      ],
      "text/plain": [
       "           Id   ProductId          UserId  \\\n",
       "0      115371  B000F4F952  A30423CYQA2EKZ   \n",
       "1      419061  B000PZQUZO   A2XJV8WWLH4XX   \n",
       "2      487236  B000PDWBKO  A3QGWIBB2M6D05   \n",
       "3      273730  B002CJO8T6   ASFSYWVKD8NHZ   \n",
       "4      103816  B001EQ4IG6  A136FID8RG4INP   \n",
       "...       ...         ...             ...   \n",
       "99995  459008  B0031QKZO6  A27DHWJ275D678   \n",
       "99996   90914  B000FBM3PO  A2PF32UUERJXB8   \n",
       "99997  540583  B001D0GV90    AU0GJWWEVFI4   \n",
       "99998  471849  B000FPVLAS  A3IZQOD9Z3X707   \n",
       "99999  333642  B00188S3PM  A2FI6DQJG4BYPO   \n",
       "\n",
       "                               ProfileName  HelpfulnessNumerator  \\\n",
       "0                        Bluewater cruiser                     1   \n",
       "1                   Dee from Gary, Indiana                     3   \n",
       "2                           Erica Peterson                     0   \n",
       "3                Paul Sturgis \"paulsrealm\"                     1   \n",
       "4                     Elizabeth \"gturner1\"                     0   \n",
       "...                                    ...                   ...   \n",
       "99995                   Rev. George T. Cox                     0   \n",
       "99996  Susan Swan \"reads-curled-in-covers\"                     0   \n",
       "99997                   Eric B. Brownstein                     8   \n",
       "99998                        T. D. Bourque                     0   \n",
       "99999                         Worldofbooks                     2   \n",
       "\n",
       "       HelpfulnessDenominator  Score        Time  \\\n",
       "0                           7      1  1192233600   \n",
       "1                           3      1  1282608000   \n",
       "2                           3      1  1318291200   \n",
       "3                           5      1  1305504000   \n",
       "4                           1      1  1264032000   \n",
       "...                       ...    ...         ...   \n",
       "99995                       0      5  1329091200   \n",
       "99996                       0      5  1187913600   \n",
       "99997                       8      5  1203984000   \n",
       "99998                       0      5  1350518400   \n",
       "99999                       3      5  1326326400   \n",
       "\n",
       "                                             Summary  \\\n",
       "0         Poor taste compared to Ceylon Orange Pekoe   \n",
       "1                                           Terrible   \n",
       "2                               popcorn is too salty   \n",
       "3                             Amazon bait and switch   \n",
       "4                                      coffee values   \n",
       "...                                              ...   \n",
       "99995                 Great Tasting Anti-Oxidant Tea   \n",
       "99996                Oh, so very very very VERY good   \n",
       "99997                             The search is over   \n",
       "99998                             Bob's Cherry Lumps   \n",
       "99999  Saw this on Dr. OZ for eliminating crows feet   \n",
       "\n",
       "                                                    Text  Num_words_text  \n",
       "0      bought this before reading reviews here unfort...              38  \n",
       "1      calorie free carb free tell tried this twice w...              31  \n",
       "2      premeasured bags quick convenient popcorn salt...              53  \n",
       "3      after only shipments part their automatic mont...              29  \n",
       "4      because failed check over ounces store sells t...              34  \n",
       "...                                                  ...             ...  \n",
       "99995  this outrageously great found green pomegranat...              21  \n",
       "99996  love these cookies most cookies sweet these ho...              35  \n",
       "99997  enjoy rich aromatic full bodied coffee with tr...              30  \n",
       "99998  purchased these hard candies online because ca...              35  \n",
       "99999  watched television explaining minimize andor a...              47  \n",
       "\n",
       "[100000 rows x 11 columns]"
      ]
     },
     "execution_count": 10,
     "metadata": {},
     "output_type": "execute_result"
    }
   ],
   "source": [
    "df_sampled"
   ]
  },
  {
   "cell_type": "code",
   "execution_count": 11,
   "id": "1ff2dde2",
   "metadata": {},
   "outputs": [],
   "source": [
    "from nltk.corpus import stopwords\n",
    "stop_words = stopwords.words('english')\n",
    "# function to remove stopwords\n",
    "def remove_stopwords(text):\n",
    "    textArr = text.split(' ')\n",
    "    rem_text = \" \".join([i for i in textArr if i not in stop_words])\n",
    "    return rem_text\n",
    "\n",
    "# remove stopwords from the text\n",
    "df_sampled['Text']=df_sampled['Text'].apply(remove_stopwords)\n",
    "    "
   ]
  },
  {
   "cell_type": "code",
   "execution_count": 12,
   "id": "f84768b1",
   "metadata": {},
   "outputs": [
    {
     "data": {
      "text/plain": [
       "0        bought reading reviews unfortunately teas blen...\n",
       "1        calorie free carb free tell tried twice wanted...\n",
       "2        premeasured bags quick convenient popcorn salt...\n",
       "3        shipments part automatic monthly subscription ...\n",
       "4        failed check ounces store sells coffee less ha...\n",
       "                               ...                        \n",
       "99995    outrageously great found green pomegranate com...\n",
       "99996    love cookies cookies sweet however since follo...\n",
       "99997    enjoy rich aromatic full bodied coffee truly b...\n",
       "99998    purchased hard candies online cant find locall...\n",
       "99999    watched television explaining minimize andor a...\n",
       "Name: Text, Length: 100000, dtype: object"
      ]
     },
     "execution_count": 12,
     "metadata": {},
     "output_type": "execute_result"
    }
   ],
   "source": [
    "df_sampled['Text']"
   ]
  },
  {
   "cell_type": "code",
   "execution_count": 15,
   "id": "e224bda0",
   "metadata": {},
   "outputs": [
    {
     "name": "stdout",
     "output_type": "stream",
     "text": [
      "Requirement already satisfied: spacy in c:\\users\\lgpc\\anaconda3\\lib\\site-packages (3.6.1)\n",
      "Requirement already satisfied: pydantic!=1.8,!=1.8.1,<3.0.0,>=1.7.4 in c:\\users\\lgpc\\anaconda3\\lib\\site-packages (from spacy) (2.1.1)\n",
      "Requirement already satisfied: tqdm<5.0.0,>=4.38.0 in c:\\users\\lgpc\\anaconda3\\lib\\site-packages (from spacy) (4.64.0)\n",
      "Requirement already satisfied: pathy>=0.10.0 in c:\\users\\lgpc\\anaconda3\\lib\\site-packages (from spacy) (0.10.2)\n",
      "Requirement already satisfied: thinc<8.2.0,>=8.1.8 in c:\\users\\lgpc\\anaconda3\\lib\\site-packages (from spacy) (8.1.11)\n",
      "Requirement already satisfied: catalogue<2.1.0,>=2.0.6 in c:\\users\\lgpc\\anaconda3\\lib\\site-packages (from spacy) (2.0.9)\n",
      "Requirement already satisfied: spacy-loggers<2.0.0,>=1.0.0 in c:\\users\\lgpc\\anaconda3\\lib\\site-packages (from spacy) (1.0.4)\n",
      "Requirement already satisfied: packaging>=20.0 in c:\\users\\lgpc\\anaconda3\\lib\\site-packages (from spacy) (21.3)\n",
      "Requirement already satisfied: preshed<3.1.0,>=3.0.2 in c:\\users\\lgpc\\anaconda3\\lib\\site-packages (from spacy) (3.0.8)\n",
      "Requirement already satisfied: wasabi<1.2.0,>=0.9.1 in c:\\users\\lgpc\\anaconda3\\lib\\site-packages (from spacy) (1.1.2)\n",
      "Requirement already satisfied: typer<0.10.0,>=0.3.0 in c:\\users\\lgpc\\anaconda3\\lib\\site-packages (from spacy) (0.9.0)\n",
      "Requirement already satisfied: srsly<3.0.0,>=2.4.3 in c:\\users\\lgpc\\anaconda3\\lib\\site-packages (from spacy) (2.4.7)\n",
      "Requirement already satisfied: jinja2 in c:\\users\\lgpc\\anaconda3\\lib\\site-packages (from spacy) (2.11.3)\n",
      "Requirement already satisfied: setuptools in c:\\users\\lgpc\\anaconda3\\lib\\site-packages (from spacy) (61.2.0)\n",
      "Requirement already satisfied: cymem<2.1.0,>=2.0.2 in c:\\users\\lgpc\\anaconda3\\lib\\site-packages (from spacy) (2.0.7)\n",
      "Requirement already satisfied: smart-open<7.0.0,>=5.2.1 in c:\\users\\lgpc\\anaconda3\\lib\\site-packages (from spacy) (6.3.0)\n",
      "Requirement already satisfied: murmurhash<1.1.0,>=0.28.0 in c:\\users\\lgpc\\anaconda3\\lib\\site-packages (from spacy) (1.0.9)\n",
      "Requirement already satisfied: requests<3.0.0,>=2.13.0 in c:\\users\\lgpc\\anaconda3\\lib\\site-packages (from spacy) (2.27.1)\n",
      "Requirement already satisfied: langcodes<4.0.0,>=3.2.0 in c:\\users\\lgpc\\anaconda3\\lib\\site-packages (from spacy) (3.3.0)\n",
      "Requirement already satisfied: spacy-legacy<3.1.0,>=3.0.11 in c:\\users\\lgpc\\anaconda3\\lib\\site-packages (from spacy) (3.0.12)\n",
      "Requirement already satisfied: numpy>=1.15.0 in c:\\users\\lgpc\\anaconda3\\lib\\site-packages (from spacy) (1.24.3)\n",
      "Requirement already satisfied: pyparsing!=3.0.5,>=2.0.2 in c:\\users\\lgpc\\anaconda3\\lib\\site-packages (from packaging>=20.0->spacy) (3.0.4)\n",
      "Requirement already satisfied: pydantic-core==2.4.0 in c:\\users\\lgpc\\anaconda3\\lib\\site-packages (from pydantic!=1.8,!=1.8.1,<3.0.0,>=1.7.4->spacy) (2.4.0)\n",
      "Requirement already satisfied: typing-extensions>=4.6.1 in c:\\users\\lgpc\\anaconda3\\lib\\site-packages (from pydantic!=1.8,!=1.8.1,<3.0.0,>=1.7.4->spacy) (4.7.1)\n",
      "Requirement already satisfied: annotated-types>=0.4.0 in c:\\users\\lgpc\\anaconda3\\lib\\site-packages (from pydantic!=1.8,!=1.8.1,<3.0.0,>=1.7.4->spacy) (0.5.0)\n",
      "Requirement already satisfied: urllib3<1.27,>=1.21.1 in c:\\users\\lgpc\\anaconda3\\lib\\site-packages (from requests<3.0.0,>=2.13.0->spacy) (1.26.9)\n",
      "Requirement already satisfied: idna<4,>=2.5 in c:\\users\\lgpc\\anaconda3\\lib\\site-packages (from requests<3.0.0,>=2.13.0->spacy) (3.3)\n",
      "Requirement already satisfied: certifi>=2017.4.17 in c:\\users\\lgpc\\anaconda3\\lib\\site-packages (from requests<3.0.0,>=2.13.0->spacy) (2021.10.8)\n",
      "Requirement already satisfied: charset-normalizer~=2.0.0 in c:\\users\\lgpc\\anaconda3\\lib\\site-packages (from requests<3.0.0,>=2.13.0->spacy) (2.0.4)\n",
      "Requirement already satisfied: confection<1.0.0,>=0.0.1 in c:\\users\\lgpc\\anaconda3\\lib\\site-packages (from thinc<8.2.0,>=8.1.8->spacy) (0.1.1)\n",
      "Requirement already satisfied: blis<0.8.0,>=0.7.8 in c:\\users\\lgpc\\anaconda3\\lib\\site-packages (from thinc<8.2.0,>=8.1.8->spacy) (0.7.10)\n",
      "Requirement already satisfied: colorama in c:\\users\\lgpc\\anaconda3\\lib\\site-packages (from tqdm<5.0.0,>=4.38.0->spacy) (0.4.6)\n",
      "Requirement already satisfied: click<9.0.0,>=7.1.1 in c:\\users\\lgpc\\anaconda3\\lib\\site-packages (from typer<0.10.0,>=0.3.0->spacy) (8.0.4)\n",
      "Requirement already satisfied: MarkupSafe>=0.23 in c:\\users\\lgpc\\anaconda3\\lib\\site-packages (from jinja2->spacy) (2.0.1)\n",
      "Collecting en-core-web-md==3.6.0\n",
      "  Downloading https://github.com/explosion/spacy-models/releases/download/en_core_web_md-3.6.0/en_core_web_md-3.6.0-py3-none-any.whl (42.8 MB)\n",
      "Requirement already satisfied: spacy<3.7.0,>=3.6.0 in c:\\users\\lgpc\\anaconda3\\lib\\site-packages (from en-core-web-md==3.6.0) (3.6.1)\n",
      "Requirement already satisfied: typer<0.10.0,>=0.3.0 in c:\\users\\lgpc\\anaconda3\\lib\\site-packages (from spacy<3.7.0,>=3.6.0->en-core-web-md==3.6.0) (0.9.0)\n",
      "Requirement already satisfied: numpy>=1.15.0 in c:\\users\\lgpc\\anaconda3\\lib\\site-packages (from spacy<3.7.0,>=3.6.0->en-core-web-md==3.6.0) (1.24.3)\n",
      "Requirement already satisfied: tqdm<5.0.0,>=4.38.0 in c:\\users\\lgpc\\anaconda3\\lib\\site-packages (from spacy<3.7.0,>=3.6.0->en-core-web-md==3.6.0) (4.64.0)\n",
      "Requirement already satisfied: langcodes<4.0.0,>=3.2.0 in c:\\users\\lgpc\\anaconda3\\lib\\site-packages (from spacy<3.7.0,>=3.6.0->en-core-web-md==3.6.0) (3.3.0)\n",
      "Requirement already satisfied: thinc<8.2.0,>=8.1.8 in c:\\users\\lgpc\\anaconda3\\lib\\site-packages (from spacy<3.7.0,>=3.6.0->en-core-web-md==3.6.0) (8.1.11)\n",
      "Requirement already satisfied: preshed<3.1.0,>=3.0.2 in c:\\users\\lgpc\\anaconda3\\lib\\site-packages (from spacy<3.7.0,>=3.6.0->en-core-web-md==3.6.0) (3.0.8)\n",
      "Requirement already satisfied: requests<3.0.0,>=2.13.0 in c:\\users\\lgpc\\anaconda3\\lib\\site-packages (from spacy<3.7.0,>=3.6.0->en-core-web-md==3.6.0) (2.27.1)\n",
      "Requirement already satisfied: jinja2 in c:\\users\\lgpc\\anaconda3\\lib\\site-packages (from spacy<3.7.0,>=3.6.0->en-core-web-md==3.6.0) (2.11.3)\n",
      "Requirement already satisfied: murmurhash<1.1.0,>=0.28.0 in c:\\users\\lgpc\\anaconda3\\lib\\site-packages (from spacy<3.7.0,>=3.6.0->en-core-web-md==3.6.0) (1.0.9)\n",
      "Requirement already satisfied: srsly<3.0.0,>=2.4.3 in c:\\users\\lgpc\\anaconda3\\lib\\site-packages (from spacy<3.7.0,>=3.6.0->en-core-web-md==3.6.0) (2.4.7)\n",
      "Requirement already satisfied: catalogue<2.1.0,>=2.0.6 in c:\\users\\lgpc\\anaconda3\\lib\\site-packages (from spacy<3.7.0,>=3.6.0->en-core-web-md==3.6.0) (2.0.9)\n",
      "Requirement already satisfied: smart-open<7.0.0,>=5.2.1 in c:\\users\\lgpc\\anaconda3\\lib\\site-packages (from spacy<3.7.0,>=3.6.0->en-core-web-md==3.6.0) (6.3.0)\n",
      "Requirement already satisfied: spacy-legacy<3.1.0,>=3.0.11 in c:\\users\\lgpc\\anaconda3\\lib\\site-packages (from spacy<3.7.0,>=3.6.0->en-core-web-md==3.6.0) (3.0.12)\n",
      "Requirement already satisfied: wasabi<1.2.0,>=0.9.1 in c:\\users\\lgpc\\anaconda3\\lib\\site-packages (from spacy<3.7.0,>=3.6.0->en-core-web-md==3.6.0) (1.1.2)\n",
      "Requirement already satisfied: pathy>=0.10.0 in c:\\users\\lgpc\\anaconda3\\lib\\site-packages (from spacy<3.7.0,>=3.6.0->en-core-web-md==3.6.0) (0.10.2)\n",
      "Requirement already satisfied: pydantic!=1.8,!=1.8.1,<3.0.0,>=1.7.4 in c:\\users\\lgpc\\anaconda3\\lib\\site-packages (from spacy<3.7.0,>=3.6.0->en-core-web-md==3.6.0) (2.1.1)\n",
      "Requirement already satisfied: cymem<2.1.0,>=2.0.2 in c:\\users\\lgpc\\anaconda3\\lib\\site-packages (from spacy<3.7.0,>=3.6.0->en-core-web-md==3.6.0) (2.0.7)\n",
      "Requirement already satisfied: setuptools in c:\\users\\lgpc\\anaconda3\\lib\\site-packages (from spacy<3.7.0,>=3.6.0->en-core-web-md==3.6.0) (61.2.0)\n",
      "Requirement already satisfied: spacy-loggers<2.0.0,>=1.0.0 in c:\\users\\lgpc\\anaconda3\\lib\\site-packages (from spacy<3.7.0,>=3.6.0->en-core-web-md==3.6.0) (1.0.4)\n",
      "Requirement already satisfied: packaging>=20.0 in c:\\users\\lgpc\\anaconda3\\lib\\site-packages (from spacy<3.7.0,>=3.6.0->en-core-web-md==3.6.0) (21.3)\n",
      "Requirement already satisfied: pyparsing!=3.0.5,>=2.0.2 in c:\\users\\lgpc\\anaconda3\\lib\\site-packages (from packaging>=20.0->spacy<3.7.0,>=3.6.0->en-core-web-md==3.6.0) (3.0.4)\n",
      "Requirement already satisfied: annotated-types>=0.4.0 in c:\\users\\lgpc\\anaconda3\\lib\\site-packages (from pydantic!=1.8,!=1.8.1,<3.0.0,>=1.7.4->spacy<3.7.0,>=3.6.0->en-core-web-md==3.6.0) (0.5.0)\n",
      "Requirement already satisfied: typing-extensions>=4.6.1 in c:\\users\\lgpc\\anaconda3\\lib\\site-packages (from pydantic!=1.8,!=1.8.1,<3.0.0,>=1.7.4->spacy<3.7.0,>=3.6.0->en-core-web-md==3.6.0) (4.7.1)\n",
      "Requirement already satisfied: pydantic-core==2.4.0 in c:\\users\\lgpc\\anaconda3\\lib\\site-packages (from pydantic!=1.8,!=1.8.1,<3.0.0,>=1.7.4->spacy<3.7.0,>=3.6.0->en-core-web-md==3.6.0) (2.4.0)\n",
      "Requirement already satisfied: idna<4,>=2.5 in c:\\users\\lgpc\\anaconda3\\lib\\site-packages (from requests<3.0.0,>=2.13.0->spacy<3.7.0,>=3.6.0->en-core-web-md==3.6.0) (3.3)\n",
      "Requirement already satisfied: urllib3<1.27,>=1.21.1 in c:\\users\\lgpc\\anaconda3\\lib\\site-packages (from requests<3.0.0,>=2.13.0->spacy<3.7.0,>=3.6.0->en-core-web-md==3.6.0) (1.26.9)\n",
      "Requirement already satisfied: certifi>=2017.4.17 in c:\\users\\lgpc\\anaconda3\\lib\\site-packages (from requests<3.0.0,>=2.13.0->spacy<3.7.0,>=3.6.0->en-core-web-md==3.6.0) (2021.10.8)\n",
      "Requirement already satisfied: charset-normalizer~=2.0.0 in c:\\users\\lgpc\\anaconda3\\lib\\site-packages (from requests<3.0.0,>=2.13.0->spacy<3.7.0,>=3.6.0->en-core-web-md==3.6.0) (2.0.4)\n",
      "Requirement already satisfied: blis<0.8.0,>=0.7.8 in c:\\users\\lgpc\\anaconda3\\lib\\site-packages (from thinc<8.2.0,>=8.1.8->spacy<3.7.0,>=3.6.0->en-core-web-md==3.6.0) (0.7.10)\n",
      "Requirement already satisfied: confection<1.0.0,>=0.0.1 in c:\\users\\lgpc\\anaconda3\\lib\\site-packages (from thinc<8.2.0,>=8.1.8->spacy<3.7.0,>=3.6.0->en-core-web-md==3.6.0) (0.1.1)\n",
      "Requirement already satisfied: colorama in c:\\users\\lgpc\\anaconda3\\lib\\site-packages (from tqdm<5.0.0,>=4.38.0->spacy<3.7.0,>=3.6.0->en-core-web-md==3.6.0) (0.4.6)\n",
      "Requirement already satisfied: click<9.0.0,>=7.1.1 in c:\\users\\lgpc\\anaconda3\\lib\\site-packages (from typer<0.10.0,>=0.3.0->spacy<3.7.0,>=3.6.0->en-core-web-md==3.6.0) (8.0.4)\n",
      "Requirement already satisfied: MarkupSafe>=0.23 in c:\\users\\lgpc\\anaconda3\\lib\\site-packages (from jinja2->spacy<3.7.0,>=3.6.0->en-core-web-md==3.6.0) (2.0.1)\n",
      "Installing collected packages: en-core-web-md\n",
      "Successfully installed en-core-web-md-3.6.0\n",
      "\u001b[38;5;2m[+] Download and installation successful\u001b[0m\n",
      "You can now load the package via spacy.load('en_core_web_md')\n"
     ]
    }
   ],
   "source": [
    "!pip install spacy\n",
    "!python -m spacy download en_core_web_md\n",
    "\n",
    "\n"
   ]
  },
  {
   "cell_type": "code",
   "execution_count": 16,
   "id": "1bf65663",
   "metadata": {},
   "outputs": [],
   "source": [
    "nlp = spacy.load('en_core_web_md', disable=['parser', 'ner'])\n",
    "\n",
    "def lemmatization(texts,allowed_postags=['NOUN', 'ADJ']): \n",
    "       output = []\n",
    "       for sent in texts:\n",
    "             doc = nlp(sent) \n",
    "             output.append([token.lemma_ for token in doc if token.pos_ in allowed_postags ])\n",
    "       return output"
   ]
  },
  {
   "cell_type": "code",
   "execution_count": 17,
   "id": "8cb716c0",
   "metadata": {},
   "outputs": [],
   "source": [
    "nlp = spacy.load('en_core_web_md', disable=['parser', 'ner'])\n",
    "\n",
    "def lemmatization(texts,allowed_postags=['NOUN', 'ADJ']): \n",
    "       output = []\n",
    "       for sent in texts:\n",
    "             doc = nlp(sent) \n",
    "             output.append([token.lemma_ for token in doc if token.pos_ in allowed_postags ])\n",
    "       return output"
   ]
  },
  {
   "cell_type": "code",
   "execution_count": 18,
   "id": "4ffe9603",
   "metadata": {},
   "outputs": [
    {
     "name": "stdout",
     "output_type": "stream",
     "text": [
      "calorie free carb free tell tried twice wanted really like horrible threw guess want sauce thats really going taste good youll take calories carbs stuff awful wasted money\n",
      "['calorie', 'free', 'carb', 'free', 'tell', 'horrible', 'threw', 'guess', 'sauce', 'good', 'calorie', 'carb', 'stuff', 'awful', 'money']\n"
     ]
    }
   ],
   "source": [
    " \n",
    "text_list=df_sampled['Text'].tolist()\n",
    "print(text_list[1])\n",
    "tokenized_reviews = lemmatization(text_list)\n",
    "print(tokenized_reviews[1])"
   ]
  },
  {
   "cell_type": "code",
   "execution_count": 19,
   "id": "7e476af3",
   "metadata": {},
   "outputs": [],
   "source": [
    "dictionary = corpora.Dictionary(tokenized_reviews)\n",
    "doc_term_matrix = [dictionary.doc2bow(rev) for rev in tokenized_reviews]"
   ]
  },
  {
   "cell_type": "code",
   "execution_count": 20,
   "id": "3dfeeb71",
   "metadata": {},
   "outputs": [],
   "source": [
    "# Creating the object for LDA model using gensim library\n",
    "LDA = gensim.models.ldamodel.LdaModel\n",
    "\n",
    "# Build LDA model\n",
    "lda_model = LDA(corpus=doc_term_matrix, id2word=dictionary, num_topics=10, random_state=100,\n",
    "                chunksize=1000, passes=50,iterations=100)"
   ]
  },
  {
   "cell_type": "code",
   "execution_count": 21,
   "id": "0bb061fd",
   "metadata": {},
   "outputs": [
    {
     "data": {
      "text/plain": [
       "[(0,\n",
       "  '0.041*\"time\" + 0.021*\"candy\" + 0.021*\"product\" + 0.021*\"great\" + 0.019*\"year\" + 0.016*\"month\" + 0.015*\"last\" + 0.014*\"bread\" + 0.014*\"order\" + 0.013*\"good\"'),\n",
       " (1,\n",
       "  '0.041*\"butter\" + 0.036*\"peanut\" + 0.034*\"cereal\" + 0.025*\"milk\" + 0.022*\"honey\" + 0.017*\"breakfast\" + 0.016*\"cake\" + 0.010*\"vitamin\" + 0.010*\"sugar\" + 0.010*\"crunchy\"'),\n",
       " (2,\n",
       "  '0.137*\"coffee\" + 0.034*\"flavor\" + 0.028*\"good\" + 0.022*\"strong\" + 0.018*\"taste\" + 0.017*\"dark\" + 0.016*\"bean\" + 0.016*\"blend\" + 0.015*\"vanilla\" + 0.013*\"roast\"'),\n",
       " (3,\n",
       "  '0.084*\"treat\" + 0.063*\"dog\" + 0.046*\"cat\" + 0.043*\"chicken\" + 0.017*\"pill\" + 0.016*\"small\" + 0.014*\"little\" + 0.011*\"training\" + 0.010*\"night\" + 0.009*\"dessert\"'),\n",
       " (4,\n",
       "  '0.077*\"chocolate\" + 0.044*\"snack\" + 0.028*\"rice\" + 0.027*\"bar\" + 0.023*\"great\" + 0.018*\"good\" + 0.018*\"almond\" + 0.016*\"protein\" + 0.015*\"perfect\" + 0.015*\"cracker\"'),\n",
       " (5,\n",
       "  '0.112*\"food\" + 0.025*\"product\" + 0.024*\"good\" + 0.018*\"organic\" + 0.017*\"ingredient\" + 0.017*\"year\" + 0.015*\"healthy\" + 0.014*\"brand\" + 0.013*\"baby\" + 0.011*\"diet\"'),\n",
       " (6,\n",
       "  '0.055*\"cookie\" + 0.040*\"calorie\" + 0.037*\"sugar\" + 0.033*\"sweet\" + 0.032*\"fruit\" + 0.029*\"good\" + 0.023*\"flavor\" + 0.020*\"taste\" + 0.019*\"little\" + 0.016*\"soft\"'),\n",
       " (7,\n",
       "  '0.046*\"flavor\" + 0.034*\"good\" + 0.026*\"chip\" + 0.025*\"great\" + 0.020*\"salt\" + 0.018*\"sauce\" + 0.018*\"taste\" + 0.012*\"little\" + 0.011*\"love\" + 0.011*\"snack\"'),\n",
       " (8,\n",
       "  '0.044*\"price\" + 0.042*\"store\" + 0.038*\"product\" + 0.036*\"amazon\" + 0.030*\"great\" + 0.029*\"good\" + 0.018*\"local\" + 0.014*\"grocery\" + 0.012*\"shipping\" + 0.011*\"order\"'),\n",
       " (9,\n",
       "  '0.033*\"taste\" + 0.031*\"flavor\" + 0.031*\"water\" + 0.025*\"good\" + 0.023*\"drink\" + 0.016*\"product\" + 0.014*\"bottle\" + 0.013*\"great\" + 0.011*\"green\" + 0.011*\"coconut\"')]"
      ]
     },
     "execution_count": 21,
     "metadata": {},
     "output_type": "execute_result"
    }
   ],
   "source": [
    "lda_model.print_topics()"
   ]
  },
  {
   "cell_type": "code",
   "execution_count": 23,
   "id": "37895a39",
   "metadata": {},
   "outputs": [
    {
     "name": "stdout",
     "output_type": "stream",
     "text": [
      "Requirement already satisfied: gensim in c:\\users\\lgpc\\anaconda3\\lib\\site-packages (4.1.2)\n",
      "Collecting gensim\n",
      "  Downloading gensim-4.3.1-cp39-cp39-win_amd64.whl (24.0 MB)\n",
      "Requirement already satisfied: pyLDAvis in c:\\users\\lgpc\\anaconda3\\lib\\site-packages (3.4.1)\n",
      "Requirement already satisfied: pandas in c:\\users\\lgpc\\anaconda3\\lib\\site-packages (2.0.3)\n",
      "Requirement already satisfied: smart-open>=1.8.1 in c:\\users\\lgpc\\anaconda3\\lib\\site-packages (from gensim) (6.3.0)\n",
      "Requirement already satisfied: scipy>=1.7.0 in c:\\users\\lgpc\\anaconda3\\lib\\site-packages (from gensim) (1.10.1)\n",
      "Requirement already satisfied: numpy>=1.18.5 in c:\\users\\lgpc\\anaconda3\\lib\\site-packages (from gensim) (1.24.3)\n",
      "Requirement already satisfied: joblib>=1.2.0 in c:\\users\\lgpc\\anaconda3\\lib\\site-packages (from pyLDAvis) (1.2.0)\n",
      "Requirement already satisfied: jinja2 in c:\\users\\lgpc\\anaconda3\\lib\\site-packages (from pyLDAvis) (2.11.3)\n",
      "Requirement already satisfied: numexpr in c:\\users\\lgpc\\anaconda3\\lib\\site-packages (from pyLDAvis) (2.8.1)\n",
      "Requirement already satisfied: funcy in c:\\users\\lgpc\\anaconda3\\lib\\site-packages (from pyLDAvis) (2.0)\n",
      "Requirement already satisfied: setuptools in c:\\users\\lgpc\\anaconda3\\lib\\site-packages (from pyLDAvis) (61.2.0)\n",
      "Requirement already satisfied: scikit-learn>=1.0.0 in c:\\users\\lgpc\\anaconda3\\lib\\site-packages (from pyLDAvis) (1.0.2)\n",
      "Requirement already satisfied: pytz>=2020.1 in c:\\users\\lgpc\\anaconda3\\lib\\site-packages (from pandas) (2021.3)\n",
      "Requirement already satisfied: python-dateutil>=2.8.2 in c:\\users\\lgpc\\anaconda3\\lib\\site-packages (from pandas) (2.8.2)\n",
      "Requirement already satisfied: tzdata>=2022.1 in c:\\users\\lgpc\\anaconda3\\lib\\site-packages (from pandas) (2023.3)\n",
      "Requirement already satisfied: six>=1.5 in c:\\users\\lgpc\\anaconda3\\lib\\site-packages (from python-dateutil>=2.8.2->pandas) (1.16.0)\n",
      "Requirement already satisfied: threadpoolctl>=2.0.0 in c:\\users\\lgpc\\anaconda3\\lib\\site-packages (from scikit-learn>=1.0.0->pyLDAvis) (2.2.0)\n",
      "Requirement already satisfied: MarkupSafe>=0.23 in c:\\users\\lgpc\\anaconda3\\lib\\site-packages (from jinja2->pyLDAvis) (2.0.1)\n",
      "Requirement already satisfied: packaging in c:\\users\\lgpc\\anaconda3\\lib\\site-packages (from numexpr->pyLDAvis) (21.3)\n",
      "Requirement already satisfied: pyparsing!=3.0.5,>=2.0.2 in c:\\users\\lgpc\\anaconda3\\lib\\site-packages (from packaging->numexpr->pyLDAvis) (3.0.4)\n",
      "Installing collected packages: gensim\n",
      "  Attempting uninstall: gensim\n",
      "    Found existing installation: gensim 4.1.2\n",
      "    Uninstalling gensim-4.1.2:\n",
      "      Successfully uninstalled gensim-4.1.2\n",
      "Successfully installed gensim-4.3.1\n"
     ]
    }
   ],
   "source": [
    "!pip install --upgrade gensim pyLDAvis pandas\n"
   ]
  },
  {
   "cell_type": "code",
   "execution_count": 25,
   "id": "e7ec670a",
   "metadata": {},
   "outputs": [
    {
     "data": {
      "text/html": [
       "\n",
       "<link rel=\"stylesheet\" type=\"text/css\" href=\"https://cdn.jsdelivr.net/gh/bmabey/pyLDAvis@3.4.0/pyLDAvis/js/ldavis.v1.0.0.css\">\n",
       "\n",
       "\n",
       "<div id=\"ldavis_el1891224874560362247220071080\" style=\"background-color:white;\"></div>\n",
       "<script type=\"text/javascript\">\n",
       "\n",
       "var ldavis_el1891224874560362247220071080_data = {\"mdsDat\": {\"x\": [-0.07764174232456715, -0.19303636975326058, -0.07488967250491782, -0.064673810376276, -0.09688491690852381, -0.18509953647872773, 0.0426178808742768, 0.0965735108618488, 0.3439498320971362, 0.2090848245130106], \"y\": [-0.07029247777731606, 0.09656819122642528, -0.13132601218251583, -0.09477358780013889, 0.04098914031597391, 0.1618863888859748, -0.11368060053078853, -0.17114074188709555, -0.04734914729171415, 0.32911884704119476], \"topics\": [1, 2, 3, 4, 5, 6, 7, 8, 9, 10], \"cluster\": [1, 1, 1, 1, 1, 1, 1, 1, 1, 1], \"Freq\": [15.948394118669457, 15.476751896384494, 12.673034741325907, 11.289656974987887, 10.651303131764402, 10.534433212014113, 6.659373426134618, 6.194324177002182, 5.703366362839593, 4.869361958877335]}, \"tinfo\": {\"Term\": [\"coffee\", \"food\", \"chocolate\", \"flavor\", \"treat\", \"store\", \"price\", \"cookie\", \"amazon\", \"dog\", \"water\", \"snack\", \"sugar\", \"product\", \"taste\", \"calorie\", \"sweet\", \"time\", \"cat\", \"butter\", \"chicken\", \"chip\", \"drink\", \"peanut\", \"fruit\", \"cereal\", \"milk\", \"salt\", \"strong\", \"candy\", \"water\", \"bottle\", \"coconut\", \"energy\", \"juice\", \"lemon\", \"soda\", \"sweetener\", \"artificial\", \"glass\", \"stash\", \"banana\", \"pleasant\", \"beverage\", \"refreshing\", \"orange\", \"stevia\", \"yogurt\", \"fridge\", \"wine\", \"raspberry\", \"unique\", \"system\", \"bitterness\", \"sleep\", \"everyday\", \"salsa\", \"vegan\", \"scent\", \"leaf\", \"drink\", \"tea\", \"body\", \"morning\", \"green\", \"mint\", \"mild\", \"light\", \"taste\", \"benefit\", \"flavor\", \"aftertaste\", \"powder\", \"good\", \"sugar\", \"stuff\", \"sweet\", \"natural\", \"product\", \"milk\", \"great\", \"little\", \"wonderful\", \"work\", \"love\", \"thing\", \"time\", \"brand\", \"much\", \"nice\", \"store\", \"local\", \"grocery\", \"shipping\", \"deal\", \"cost\", \"hair\", \"carb\", \"supermarket\", \"reasonable\", \"pricey\", \"quantity\", \"pleased\", \"summer\", \"dollar\", \"mustard\", \"prime\", \"biscuit\", \"diabetic\", \"splenda\", \"bonus\", \"muffin\", \"travel\", \"purse\", \"cent\", \"terrific\", \"nature\", \"sized\", \"gallon\", \"shampoo\", \"price\", \"amazon\", \"online\", \"value\", \"item\", \"cheap\", \"thank\", \"pack\", \"area\", \"bag\", \"product\", \"purchase\", \"size\", \"order\", \"available\", \"great\", \"expensive\", \"worth\", \"free\", \"good\", \"large\", \"small\", \"quality\", \"year\", \"love\", \"time\", \"well\", \"package\", \"salt\", \"sauce\", \"cheese\", \"soup\", \"pasta\", \"popcorn\", \"syrup\", \"potato\", \"spicy\", \"cold\", \"salty\", \"dish\", \"pepper\", \"salad\", \"heat\", \"caffeine\", \"seasoning\", \"cherry\", \"cook\", \"chili\", \"sour\", \"vinegar\", \"tomato\", \"pocket\", \"maple\", \"ball\", \"brownie\", \"herbal\", \"bacon\", \"gluten\", \"chip\", \"corn\", \"spice\", \"sodium\", \"flavor\", \"good\", \"great\", \"snack\", \"favorite\", \"taste\", \"little\", \"love\", \"sweet\", \"delicious\", \"tasty\", \"nice\", \"time\", \"thing\", \"product\", \"coffee\", \"dark\", \"bean\", \"blend\", \"roast\", \"bold\", \"cup\", \"kcup\", \"keurig\", \"french\", \"starbuck\", \"brew\", \"espresso\", \"pod\", \"maker\", \"aroma\", \"chai\", \"decaf\", \"combination\", \"weak\", \"strawberry\", \"italian\", \"pumpkin\", \"creamer\", \"subtle\", \"iced\", \"latte\", \"mountain\", \"hazelnut\", \"tuna\", \"vanilla\", \"rich\", \"machine\", \"strong\", \"ground\", \"smooth\", \"bitter\", \"black\", \"flavor\", \"medium\", \"good\", \"taste\", \"favorite\", \"great\", \"nice\", \"brand\", \"love\", \"food\", \"baby\", \"meat\", \"beef\", \"can\", \"picky\", \"formula\", \"allergy\", \"blue\", \"fish\", \"wellness\", \"supply\", \"moist\", \"subscription\", \"jerky\", \"smoothie\", \"newman\", \"adult\", \"satisfied\", \"eater\", \"salmon\", \"kibble\", \"steak\", \"allergic\", \"tart\", \"grape\", \"busy\", \"tree\", \"digestive\", \"gravy\", \"grain\", \"organic\", \"ingredient\", \"weight\", \"daughter\", \"vegetable\", \"diet\", \"health\", \"healthy\", \"year\", \"product\", \"brand\", \"quality\", \"month\", \"good\", \"happy\", \"natural\", \"stuff\", \"problem\", \"time\", \"great\", \"many\", \"candy\", \"bread\", \"bone\", \"service\", \"subscribe\", \"drinker\", \"date\", \"customer\", \"door\", \"chew\", \"mess\", \"egg\", \"skeptical\", \"ship\", \"steep\", \"mini\", \"find\", \"basis\", \"cranberry\", \"greenie\", \"costco\", \"expiration\", \"helpful\", \"toy\", \"inch\", \"internet\", \"feeding\", \"workout\", \"rawhide\", \"rock\", \"gift\", \"last\", \"open\", \"hard\", \"time\", \"tooth\", \"minute\", \"day\", \"month\", \"long\", \"week\", \"piece\", \"order\", \"couple\", \"first\", \"year\", \"condition\", \"size\", \"package\", \"fresh\", \"small\", \"product\", \"great\", \"problem\", \"happy\", \"good\", \"thing\", \"perfect\", \"cookie\", \"calorie\", \"fruit\", \"oatmeal\", \"fiber\", \"noodle\", \"pouch\", \"content\", \"chewy\", \"gram\", \"start\", \"crispy\", \"crisp\", \"cool\", \"pizza\", \"fruity\", \"tangy\", \"delicate\", \"crust\", \"german\", \"breast\", \"crumb\", \"temperature\", \"throat\", \"peach\", \"mushy\", \"lemonade\", \"fake\", \"wellbr\", \"ordering\", \"soft\", \"sugar\", \"yummy\", \"sweet\", \"texture\", \"kid\", \"little\", \"good\", \"taste\", \"flavor\", \"healthy\", \"tasty\", \"delicious\", \"nice\", \"high\", \"protein\", \"package\", \"great\", \"love\", \"tooth\", \"chocolate\", \"rice\", \"bar\", \"almond\", \"cracker\", \"ginger\", \"seed\", \"flour\", \"olive\", \"granola\", \"puppy\", \"coat\", \"crunch\", \"substitute\", \"pancake\", \"blueberry\", \"ready\", \"garlic\", \"afternoon\", \"glutenfree\", \"craving\", \"yeast\", \"golden\", \"toast\", \"shiny\", \"enjoyable\", \"flax\", \"additional\", \"asian\", \"eye\", \"snack\", \"wheat\", \"protein\", \"amazing\", \"white\", \"brown\", \"perfect\", \"free\", \"recipe\", \"great\", \"whole\", \"healthy\", \"good\", \"milk\", \"taste\", \"love\", \"butter\", \"peanut\", \"cereal\", \"honey\", \"cake\", \"vitamin\", \"licorice\", \"overall\", \"individual\", \"pretzel\", \"homemade\", \"mother\", \"onion\", \"oats\", \"jar\", \"supplement\", \"baking\", \"beautiful\", \"care\", \"holiday\", \"flake\", \"oil\", \"raisin\", \"earth\", \"crystal\", \"alot\", \"breath\", \"square\", \"mill\", \"flower\", \"breakfast\", \"cinnamon\", \"milk\", \"blood\", \"crunchy\", \"creamy\", \"sugar\", \"delicious\", \"organic\", \"natural\", \"ingredient\", \"bulk\", \"morning\", \"treat\", \"dog\", \"cat\", \"chicken\", \"pill\", \"training\", \"dessert\", \"sick\", \"plant\", \"waffle\", \"animal\", \"fabulous\", \"nutritious\", \"bill\", \"liver\", \"greasy\", \"straight\", \"messy\", \"impressed\", \"intense\", \"science\", \"kitten\", \"kitty\", \"head\", \"human\", \"owner\", \"trick\", \"filler\", \"shell\", \"nutrient\", \"dinner\", \"crazy\", \"sensitive\", \"night\", \"small\", \"issue\", \"little\", \"meal\", \"soft\", \"house\", \"smell\", \"fast\", \"piece\", \"large\", \"problem\"], \"Freq\": [31028.0, 23782.0, 9605.0, 32276.0, 8194.0, 13057.0, 14135.0, 7303.0, 12449.0, 6171.0, 9824.0, 8303.0, 9382.0, 28163.0, 23250.0, 5281.0, 10488.0, 18169.0, 4462.0, 4634.0, 4181.0, 6855.0, 7772.0, 4067.0, 4292.0, 3903.0, 6613.0, 4990.0, 6845.0, 4524.0, 9823.297600725378, 4408.499127881306, 3532.506295348399, 2722.7219450594935, 2658.006867104065, 1837.9048833630814, 1563.6186746744918, 1486.7339278410127, 1390.7632244067363, 1185.2591819061008, 1120.8730721892691, 1095.9604747523047, 1058.8470586763922, 961.7911689418219, 956.1442153898784, 955.0401459409735, 929.5901965427482, 923.1339439523038, 850.4935193131163, 830.947676266226, 807.0613110474748, 804.303404889908, 741.4398419587185, 699.7267436477248, 614.6947359627554, 610.7264125449137, 590.7955837299841, 589.9048418202101, 574.0989030017629, 564.0816900360511, 7283.076975091038, 2529.122092209783, 1259.3136123979696, 3457.2612600336756, 3649.842612348069, 1078.8609659108997, 1698.7149646583227, 2578.718161634818, 10483.530387739425, 1224.4041720059997, 9851.461742535566, 1228.8595542747269, 1587.8763837015576, 7878.443321588348, 3231.78427334926, 2635.9320203191874, 3205.1135358276442, 2107.7415085451157, 4969.126725755194, 2461.1153989476607, 4098.122612924617, 2908.1223481981665, 1949.773413693298, 1962.9119219126808, 2654.298633038253, 2079.0835798330604, 2190.1740352287784, 1851.9261416084757, 1788.8241603402962, 1787.4910397856022, 13056.733005355398, 5425.4875045729095, 4474.276560372475, 3681.9680374172394, 2788.5924967277374, 2178.148852382511, 1569.4640922744882, 1292.674871873299, 1200.3888564379247, 1007.7286274245541, 936.863917382081, 927.5180232219379, 845.8035657820573, 777.3445880518806, 743.9291061945186, 709.8270967571225, 634.8948045908688, 632.3562541538516, 630.5384278156722, 621.8687445642785, 569.955038226188, 553.6655192795852, 553.5478154390192, 523.2866738630817, 518.5341152671876, 511.4944660787707, 472.85510525136976, 442.0924147329778, 441.23378631833145, 434.6904916644494, 13714.683261641747, 11187.840442918792, 870.175872029699, 1545.403017634693, 2580.147544215168, 2762.3731455973684, 2294.1245422914326, 3439.2420126831585, 996.3632628965768, 3183.8427869382444, 11841.958380473385, 1962.225683935095, 3112.6652581077274, 3562.395941469573, 2014.139173839522, 9395.193708551098, 2177.8951921291064, 2218.915287180691, 2990.241720790445, 8960.656091197503, 2155.710308772031, 2682.6130119926647, 2310.2003690677893, 2999.0852002734805, 3187.9062568224217, 3056.6040334795384, 2356.315456842909, 2023.4286509580945, 4989.496862297029, 4662.688289541211, 2581.7284606449807, 2534.212715105947, 2333.965188173391, 2308.0931362364813, 2294.103210738958, 2258.8240421535716, 2239.245849848216, 1857.5377365904583, 1724.933663949567, 1667.5641941140884, 1519.5851215161151, 1459.1331137082836, 1407.6205841704473, 1301.6655189937253, 1275.1799132166302, 1104.7547892024184, 1084.3763657860336, 1078.309827084292, 988.4128470807179, 908.3486197181616, 898.554561258284, 834.483968150366, 797.5367554448692, 648.8917294056859, 584.6723261568641, 520.9272958462944, 502.0271082996334, 489.04905040769574, 6532.110397424312, 1819.1718947767192, 1641.075634582708, 1026.6047127670406, 11595.020577634312, 8551.539271147301, 6372.934705681532, 2801.3923141480473, 2797.895541674695, 4583.567373147273, 2975.6463307674735, 2845.598673385601, 2337.1226333544246, 1812.3581743909162, 1745.990033049561, 1798.51274655304, 1700.97777149275, 1576.980584389306, 1593.1063105355922, 31027.832878238136, 3933.6750452395295, 3698.000951193886, 3671.493615034667, 2881.371564494394, 2447.1751588086304, 2406.96556629011, 2373.1202015800877, 2157.90602741071, 1924.33362523951, 1829.6290822313688, 1752.9045932013687, 1676.620798476171, 1668.3574908153805, 1591.0296915978647, 1581.3339958802183, 1432.0359855758418, 1242.315771695935, 1161.1142411208968, 1067.3362402587254, 993.4999987611069, 956.8074351881256, 915.5482597683659, 859.9502578542575, 852.79031737695, 787.1034471692244, 785.9433486195393, 776.9377968131871, 768.7930566552291, 733.2734851242516, 3280.5115644691664, 2804.28826799244, 1857.5733323263803, 4982.151526958485, 1311.2513283294732, 2538.591387637016, 1956.9786847544126, 2249.502449372562, 7784.1269655614515, 1190.8717898744073, 6307.7503125281855, 4046.7256069016653, 2183.288630027747, 2880.4916494267686, 1811.7577546006987, 1686.6345687553444, 1584.5789458245836, 23781.11402750852, 2812.4609216214753, 2144.3689371637747, 1942.6068467800533, 1653.370526598035, 1642.1534119417702, 1496.483349446779, 1370.980360238138, 1291.9871866672454, 1207.8525707411584, 998.837090458781, 944.6387450815147, 911.942087198993, 831.6954785205517, 825.4042223320987, 808.7780473673939, 808.2838726941742, 754.0048447243246, 751.343014280641, 728.7330706941716, 647.6491008317806, 641.7571365876694, 627.7401125400446, 627.1194772124803, 584.3998566947537, 528.5981868376713, 522.8755815617457, 520.9461008045878, 514.3402073304728, 506.4333132573047, 1520.137797464126, 3787.5366161832635, 3572.9517034238033, 1707.775518713967, 1587.0267947177729, 878.0304735992316, 2362.8115205160693, 1921.0540189343176, 3236.6209787762973, 3548.2577657090255, 5366.569528580357, 2935.116336645599, 2149.6271582622035, 2129.192069815998, 5222.8065543199045, 2003.9268087632272, 1716.4364102338864, 1704.386353317204, 1476.1638481239788, 1874.6785584322804, 1800.3089690992626, 1236.6665340144384, 4523.445651295958, 3053.9815963190017, 1659.560605247255, 1575.2816774282162, 1506.8751965527085, 1245.526372204359, 1169.2221669920732, 1124.9929464645352, 1026.4974273547427, 871.0481343315811, 857.8012891093636, 838.470402014178, 657.3968409763684, 652.0746793066281, 636.788411156905, 626.1947652502139, 585.4067486544574, 585.3866151782522, 533.4818751427862, 526.3628743807928, 522.6277708024554, 496.7467273071322, 475.100490448351, 472.1466148528141, 451.5279709771295, 449.1865950125857, 444.93764583666047, 413.93057019345906, 412.1307847388346, 386.0893609184233, 2190.7482953294807, 3187.3202075615563, 1638.7697955969963, 1889.1928207873088, 8725.20274469288, 1869.3722482659819, 2062.8887395529478, 2150.898940679241, 3277.0728873943485, 2411.524334853311, 2243.0472095442124, 1880.2682891640668, 3020.515044686199, 1648.2516807688453, 2532.847091072457, 3941.345408706865, 885.4254005836601, 2213.4798738738396, 2106.6687380309127, 2250.2369230031213, 2573.806045791799, 4392.096423926632, 4357.231528712321, 1915.1710942408913, 1702.4639627076224, 2710.619596815289, 1745.9076830269212, 1677.411043462846, 7302.911043191941, 5280.9451998622535, 4291.626238746124, 1879.9935792807241, 1831.2245235971511, 1545.949264340855, 1380.3694048806276, 1317.2940890112343, 1268.7189870525258, 823.9137469273631, 815.457016846944, 722.3363195251974, 694.0664465951463, 664.9644476169655, 633.0684968057667, 578.2362763281694, 498.4870554987667, 475.9265866955578, 470.30670922404676, 450.7898362768005, 441.13216385421924, 417.9677315953506, 412.0961612939419, 387.4008356459227, 355.8269821217267, 330.8166679259804, 324.2640866104752, 322.8224715364191, 320.0533847696011, 303.05303656844666, 2081.120363542027, 4992.83228089128, 1388.103340702125, 4446.653624868402, 1933.6276202012925, 1703.665057695553, 2482.1266432257967, 3874.400982373453, 2685.183031126276, 3044.8609011284248, 1569.6755663852623, 1261.4120722680377, 1311.7513832682785, 1543.9457794812604, 1106.2053844948603, 997.908366968007, 1079.4658461884271, 1652.8642063654015, 959.2136675816721, 816.3078925829449, 9604.698565481287, 3514.200321104477, 3341.6392656699595, 2181.42029421547, 1878.28882941097, 1826.7481610121074, 1540.0951480003541, 1434.6190580662685, 1263.4782919786126, 1224.1341865413842, 1115.5127164509126, 956.0408568329714, 950.842311386313, 940.1963782227017, 933.288796306538, 907.9082129732515, 864.4295952363079, 857.1088739370651, 789.0717936744271, 754.5092828387591, 609.8914992004185, 543.6865194309568, 533.3952832328014, 452.0024935593871, 403.2905940969311, 390.9439403809466, 379.7515244130192, 369.65285367095504, 364.0456155469064, 360.8497335187701, 5501.4069906526, 1488.0752748767516, 1998.855190470979, 1382.3083588407387, 1089.254399614213, 781.5164364633238, 1912.8513979960626, 1580.440397461214, 1006.5306589536833, 2807.5148382030575, 1316.5889362327152, 1514.4882446723393, 2278.300959802689, 1322.0366704462153, 1450.8174251500507, 1169.9692687930838, 4633.8229402380475, 4066.213048815131, 3903.000203441248, 2495.997506883719, 1861.3329475215737, 1168.5361293456333, 983.1108974823444, 951.1260903522721, 909.3677991366242, 902.5703656270283, 875.2319619904596, 814.3858981150806, 763.4739516786813, 754.5241588468579, 724.5663308843201, 685.0091047677017, 669.4755245083672, 661.7055174578524, 656.80223884674, 608.5128538987892, 595.3097068115833, 578.3691357662742, 577.9113759054808, 577.6196197948788, 553.2176002392087, 548.0832350495148, 540.1762031225607, 536.0404658740401, 534.3482591636498, 500.31887285280965, 1977.8563076398532, 1026.8232687170605, 2829.5865625340402, 607.6501873891466, 1093.2788981394235, 720.8566628383246, 1157.3796351567662, 849.8713000221696, 827.9031868282091, 803.4980301100594, 765.1125607656915, 654.0518512803094, 712.1971372942317, 8193.968593858624, 6170.588534172033, 4461.261754477031, 4180.136449397089, 1631.1368669087567, 1045.2760775988654, 921.6022363056551, 766.9457662312996, 756.1568399108739, 571.3722461009826, 570.2025506748994, 567.9449649596498, 556.3272282148664, 533.9248778511043, 503.8625341618461, 492.8848477086232, 467.5878575306351, 465.5655637269508, 457.4210043462654, 455.6865266180825, 443.9173459572309, 443.90386309060256, 440.52520198347514, 399.82592065214766, 399.45067022941987, 397.0949819054703, 391.68658191005574, 383.59840542617997, 382.59590662566006, 382.2754956065925, 891.1689094982586, 761.128567535587, 603.602198934253, 994.878393254004, 1577.0056542229834, 705.3280670087631, 1394.9544505900653, 771.1908263606578, 744.4472653237027, 657.309359575664, 679.2639153386776, 564.1450664133147, 613.493810972603, 562.1448808791524, 529.0660522105824], \"Total\": [31028.0, 23782.0, 9605.0, 32276.0, 8194.0, 13057.0, 14135.0, 7303.0, 12449.0, 6171.0, 9824.0, 8303.0, 9382.0, 28163.0, 23250.0, 5281.0, 10488.0, 18169.0, 4462.0, 4634.0, 4181.0, 6855.0, 7772.0, 4067.0, 4292.0, 3903.0, 6613.0, 4990.0, 6845.0, 4524.0, 9824.228297270556, 4409.429814807546, 3533.4369775059554, 2723.6526529843586, 2658.9375434760323, 1838.835573877712, 1564.549308036468, 1487.6646164659815, 1391.693939216694, 1186.1898703476306, 1121.8037610333745, 1096.891289065166, 1059.7777599102942, 962.7218355391982, 957.0748585886726, 955.9708270023829, 930.5208343407072, 924.0648269046778, 851.4243884683809, 831.8783717415077, 807.9920488490417, 805.2341932621979, 742.3707278884659, 700.6575074783195, 615.6254089393136, 611.6572313735093, 591.7264142718187, 590.8356913932661, 575.0295591956025, 565.0123746980554, 7772.94916271947, 2800.4895831782896, 1360.7178755493483, 4465.850082728471, 4918.024360332161, 1196.070622108807, 2120.268881207085, 3715.7082816391053, 23250.349280930724, 1454.4906115297126, 32276.09039283306, 1487.2056938665778, 2252.4121806295666, 46098.118892652354, 9382.718465384194, 6419.006636189201, 10488.553137802917, 4628.400357772503, 28163.373790606856, 6613.472673736294, 33688.15560487468, 14581.176846851899, 4961.5768618276725, 5259.955161716269, 15241.750065053811, 8130.127935285277, 18169.902635949064, 9551.813494606798, 7138.976111175742, 8476.719768859939, 13057.676869903813, 5426.431342751901, 4475.220392885554, 3682.9118384853514, 2789.536359789589, 2179.0927003950806, 1570.4078917948877, 1293.6188561790868, 1201.3327616392971, 1008.6725090570375, 937.8077989429204, 928.4618849122594, 846.7475449297077, 778.2886180607575, 744.8729519627036, 710.7709891893002, 635.8386229813077, 633.3002236053717, 631.482477979913, 622.8126659048457, 570.8991371087042, 554.6095137591267, 554.4917824950192, 524.2306932051767, 519.4779341641835, 512.4385715557123, 473.79910736122537, 443.0363104881947, 442.177694021895, 435.6342377503612, 14135.775344473019, 12449.267391483265, 931.7406341334593, 1784.231191501361, 3333.670628097783, 3628.0471159316644, 3049.8589841696134, 5151.028098484264, 1140.6736555621244, 5068.266965657602, 28163.373790606856, 2900.4308463004804, 5592.910715506142, 6795.152858559029, 3227.0358586385755, 33688.15560487468, 3790.857795286807, 4015.927583358949, 6822.569138084256, 46098.118892652354, 4623.432921541384, 7950.963530049156, 5938.7056028365505, 12053.191080728244, 15241.750065053811, 18169.902635949064, 8213.17933314926, 5283.039949558005, 4990.4492249147725, 4663.640648031315, 2582.6808460217912, 2535.165086517441, 2334.9175524235447, 2309.0454783292707, 2295.055631185226, 2259.7764317368496, 2240.1982251677377, 1858.4902964932028, 1725.886022555587, 1668.516612325013, 1520.5374910997882, 1460.08551465905, 1408.5730141516453, 1302.6180645376699, 1276.1322838944043, 1105.7072216628278, 1085.3288453490209, 1079.2621725989216, 989.3652414371238, 909.3009612270399, 899.5069218265122, 835.4366980338095, 798.4891657223957, 649.8442403032019, 585.6248089440109, 521.8798296909589, 502.9794868113461, 490.0015588795963, 6855.220029823589, 2108.652077643377, 2039.4816994038738, 1208.6674234557772, 32276.09039283306, 46098.118892652354, 33688.15560487468, 8303.657010759769, 8320.521639447205, 23250.349280930724, 14581.176846851899, 15241.750065053811, 10488.553137802917, 5584.325516429927, 5015.265905426182, 8476.719768859939, 18169.902635949064, 8130.127935285277, 28163.373790606856, 31028.76649243807, 3934.608759079962, 3698.934651959459, 3672.4273255803614, 2882.3051716022096, 2448.10877594497, 2407.899270201906, 2374.053801431307, 2158.83962940674, 1925.2673047221256, 1830.5626979823035, 1753.8382354213948, 1677.5544005053691, 1669.2910858720213, 1591.9633945007713, 1582.2676878972536, 1432.9696423069668, 1243.2493875765413, 1162.0482333962066, 1068.269870798248, 994.4338460509878, 957.7412066615825, 916.4820523156103, 860.8839100619832, 853.7241318534997, 788.0371946423255, 786.8769703692465, 777.8714135296744, 769.7267017409768, 734.2074156924955, 3777.6478330582404, 3287.444954698293, 2115.9173236011616, 6845.015219208907, 1463.6872628505869, 3279.234821972773, 2720.11811028619, 3459.1387654412324, 32276.09039283306, 1429.9342546309042, 46098.118892652354, 23250.349280930724, 8320.521639447205, 33688.15560487468, 8476.719768859939, 9551.813494606798, 15241.750065053811, 23782.05467769879, 2813.401542582779, 2145.3096176435984, 1943.5475212665701, 1654.311180959019, 1643.0940854483565, 1497.423957217694, 1371.92101848236, 1292.9278994138729, 1208.793249205373, 999.7776798462882, 945.5795423866522, 912.8828926029104, 832.6362732875725, 826.344834849038, 809.7188441450336, 809.224550247344, 754.9456000015025, 752.2838010907585, 729.6737116876917, 648.589780769773, 642.6977552221056, 628.68080563238, 628.0601734350183, 585.3406363647906, 529.5389476461473, 523.8163224173256, 521.8868396741335, 515.2809348748068, 507.37402365117157, 1867.2739507719746, 5642.315325091224, 5399.254169643693, 2356.7200879439174, 2268.053480058628, 1036.8138668642546, 4270.009612703764, 3197.1440615941938, 7916.517645053152, 12053.191080728244, 28163.373790606856, 9551.813494606798, 5938.7056028365505, 6194.361477417261, 46098.118892652354, 5848.00734507956, 4628.400357772503, 6419.006636189201, 4980.307721471714, 18169.902635949064, 33688.15560487468, 7845.113068473723, 4524.374724604154, 3054.910717713068, 1660.4896136881798, 1576.2107457308432, 1507.8043721455356, 1246.4555548895748, 1170.1511928674254, 1125.9219951661335, 1027.426584298031, 871.9771708206956, 858.7303984984081, 839.3995935511194, 658.3260833363333, 653.0037713809983, 637.7175430404703, 627.1239173950443, 586.3358999061649, 586.3157725952202, 534.4110877832485, 527.2918825934536, 523.5568627925569, 497.67571656421023, 476.02965782097704, 473.0756369607974, 452.4570454149499, 450.11574550685197, 445.86689292201436, 414.8597311277508, 413.05977666376197, 387.01853045800107, 2762.3675936845693, 4330.536099634988, 2216.739385259838, 2674.606791075362, 18169.902635949064, 2686.5027116873216, 3163.839098273499, 3451.0929515531893, 6194.361477417261, 4097.419461550112, 3927.315852213653, 3128.2563594709377, 6795.152858559029, 2907.3236188355327, 5904.607659805282, 12053.191080728244, 1110.0138989579596, 5592.910715506142, 5283.039949558005, 5997.369842930139, 7950.963530049156, 28163.373790606856, 33688.15560487468, 4980.307721471714, 5848.00734507956, 46098.118892652354, 8130.127935285277, 6972.345095142386, 7303.849560158022, 5281.883764939614, 4292.564791464869, 1880.9321299195612, 1832.16310076882, 1546.8878009500163, 1381.307969945535, 1318.232672271707, 1269.6575233270767, 824.8522762920124, 816.3957246402249, 723.274893879349, 695.0050418428775, 665.9031034105037, 634.007057467986, 579.1748347639787, 499.4256611534741, 476.8652890314553, 471.2452375437967, 451.72849533726225, 442.070986118474, 418.90632011607113, 413.034864681796, 388.33949691749166, 356.76554457115066, 331.7552295017439, 325.20264967371367, 323.76105478624726, 320.99207732082255, 303.9917468802377, 2826.4044435584183, 9382.718465384194, 2031.5661386977426, 10488.553137802917, 3827.929196070599, 3515.344413598088, 14581.176846851899, 46098.118892652354, 23250.349280930724, 32276.09039283306, 7916.517645053152, 5015.265905426182, 5584.325516429927, 8476.719768859939, 4924.620182435664, 3668.9941866638032, 5283.039949558005, 33688.15560487468, 15241.750065053811, 2686.5027116873216, 9605.648872967107, 3515.150657828569, 3342.5895436053374, 2182.370607056851, 1879.2391296578126, 1827.6984785725601, 1541.0454618044075, 1435.569343452027, 1264.4286467109873, 1225.084476469189, 1116.4631657220352, 956.9913896971998, 951.7926797904673, 941.1467645584967, 934.239138600752, 908.8585474264261, 865.3801091236153, 858.0592447889927, 790.0222084950692, 755.4596004496236, 610.8418644433859, 544.636909226755, 534.345683648831, 452.9528943739296, 404.2410553274805, 391.8944022505842, 380.70180650210057, 370.60331855074253, 364.99601764124486, 361.80018791761876, 8303.657010759769, 1844.7334738384045, 3668.9941866638032, 2711.8088769574083, 2174.2259552339433, 1340.4336038142096, 6972.345095142386, 6822.569138084256, 2400.221722709594, 33688.15560487468, 5260.203037141825, 7916.517645053152, 46098.118892652354, 6613.472673736294, 23250.349280930724, 15241.750065053811, 4634.766036783141, 4067.1561184367633, 3903.94327691179, 2496.9406147213795, 1862.2760696609478, 1169.4792718137471, 984.0540142048957, 952.0692353307599, 910.310983030522, 903.5134544986931, 876.1751842283, 815.3291176761363, 764.4171459130474, 755.4672733441494, 725.5095331447395, 685.9523341642707, 670.4186748022039, 662.6487658777822, 657.7454333120379, 609.4560203975694, 596.2527984999497, 579.3123111441724, 578.8544711688529, 578.5628024188496, 554.1607741358373, 549.0264332019129, 541.1194188900228, 536.9836166927034, 535.2914184923114, 501.2619695967415, 3006.8760387794305, 1284.585925729646, 6613.472673736294, 665.3995752088487, 2277.921822092859, 1260.1207401539605, 9382.718465384194, 5584.325516429927, 5642.315325091224, 4628.400357772503, 5399.254169643693, 1483.325144375048, 4465.850082728471, 8194.911833331986, 6171.531748661662, 4462.204968231669, 4181.07972567126, 1632.0800822814438, 1046.2192849980456, 922.5456438727, 767.8890779468519, 757.1000796058694, 572.3155442120238, 571.1458724473125, 568.8884190602429, 557.270662807429, 534.8682570151975, 504.80572464006286, 493.8281804646469, 468.53123519392136, 466.5088573583628, 458.36437998860544, 456.62994090699726, 444.8605836219512, 444.84708342464586, 441.4684360842495, 400.76923276983325, 400.3939015554157, 398.0382394107508, 392.6298513975034, 384.5417382913375, 383.5392108981985, 383.2188949661688, 1336.1810272874156, 1071.1560281240545, 833.3088341400141, 2256.7765435121896, 7950.963530049156, 1742.4047631825301, 14581.176846851899, 2768.839596396809, 2826.4044435584183, 1967.4038796916361, 2348.779077091111, 1230.7133014851358, 3128.2563594709377, 4623.432921541384, 4980.307721471714], \"Category\": [\"Default\", \"Default\", \"Default\", \"Default\", \"Default\", \"Default\", \"Default\", \"Default\", \"Default\", \"Default\", \"Default\", \"Default\", \"Default\", \"Default\", \"Default\", \"Default\", \"Default\", \"Default\", \"Default\", \"Default\", \"Default\", \"Default\", \"Default\", \"Default\", \"Default\", \"Default\", \"Default\", \"Default\", \"Default\", \"Default\", \"Topic1\", \"Topic1\", \"Topic1\", \"Topic1\", \"Topic1\", \"Topic1\", \"Topic1\", \"Topic1\", \"Topic1\", \"Topic1\", \"Topic1\", \"Topic1\", \"Topic1\", \"Topic1\", \"Topic1\", \"Topic1\", \"Topic1\", \"Topic1\", \"Topic1\", \"Topic1\", \"Topic1\", \"Topic1\", \"Topic1\", \"Topic1\", \"Topic1\", \"Topic1\", \"Topic1\", \"Topic1\", \"Topic1\", \"Topic1\", \"Topic1\", \"Topic1\", \"Topic1\", \"Topic1\", \"Topic1\", \"Topic1\", \"Topic1\", \"Topic1\", \"Topic1\", \"Topic1\", \"Topic1\", \"Topic1\", \"Topic1\", \"Topic1\", \"Topic1\", \"Topic1\", \"Topic1\", \"Topic1\", \"Topic1\", \"Topic1\", \"Topic1\", \"Topic1\", \"Topic1\", \"Topic1\", \"Topic1\", \"Topic1\", \"Topic1\", \"Topic1\", \"Topic1\", \"Topic1\", \"Topic2\", \"Topic2\", \"Topic2\", \"Topic2\", \"Topic2\", \"Topic2\", \"Topic2\", \"Topic2\", \"Topic2\", \"Topic2\", \"Topic2\", \"Topic2\", \"Topic2\", \"Topic2\", \"Topic2\", \"Topic2\", \"Topic2\", \"Topic2\", \"Topic2\", \"Topic2\", \"Topic2\", \"Topic2\", \"Topic2\", \"Topic2\", \"Topic2\", \"Topic2\", \"Topic2\", \"Topic2\", \"Topic2\", \"Topic2\", \"Topic2\", \"Topic2\", \"Topic2\", \"Topic2\", \"Topic2\", \"Topic2\", \"Topic2\", \"Topic2\", \"Topic2\", \"Topic2\", \"Topic2\", \"Topic2\", \"Topic2\", \"Topic2\", \"Topic2\", \"Topic2\", \"Topic2\", \"Topic2\", \"Topic2\", \"Topic2\", \"Topic2\", \"Topic2\", \"Topic2\", \"Topic2\", \"Topic2\", \"Topic2\", \"Topic2\", \"Topic2\", \"Topic3\", \"Topic3\", \"Topic3\", \"Topic3\", \"Topic3\", \"Topic3\", \"Topic3\", \"Topic3\", \"Topic3\", \"Topic3\", \"Topic3\", \"Topic3\", \"Topic3\", \"Topic3\", \"Topic3\", \"Topic3\", \"Topic3\", \"Topic3\", \"Topic3\", \"Topic3\", \"Topic3\", \"Topic3\", \"Topic3\", \"Topic3\", \"Topic3\", \"Topic3\", \"Topic3\", \"Topic3\", \"Topic3\", \"Topic3\", \"Topic3\", \"Topic3\", \"Topic3\", \"Topic3\", \"Topic3\", \"Topic3\", \"Topic3\", \"Topic3\", \"Topic3\", \"Topic3\", \"Topic3\", \"Topic3\", \"Topic3\", \"Topic3\", \"Topic3\", \"Topic3\", \"Topic3\", \"Topic3\", \"Topic3\", \"Topic4\", \"Topic4\", \"Topic4\", \"Topic4\", \"Topic4\", \"Topic4\", \"Topic4\", \"Topic4\", \"Topic4\", \"Topic4\", \"Topic4\", \"Topic4\", \"Topic4\", \"Topic4\", \"Topic4\", \"Topic4\", \"Topic4\", \"Topic4\", \"Topic4\", \"Topic4\", \"Topic4\", \"Topic4\", \"Topic4\", \"Topic4\", \"Topic4\", \"Topic4\", \"Topic4\", \"Topic4\", \"Topic4\", \"Topic4\", \"Topic4\", \"Topic4\", \"Topic4\", \"Topic4\", \"Topic4\", \"Topic4\", \"Topic4\", \"Topic4\", \"Topic4\", \"Topic4\", \"Topic4\", \"Topic4\", \"Topic4\", \"Topic4\", \"Topic4\", \"Topic4\", \"Topic4\", \"Topic5\", \"Topic5\", \"Topic5\", \"Topic5\", \"Topic5\", \"Topic5\", \"Topic5\", \"Topic5\", \"Topic5\", \"Topic5\", \"Topic5\", \"Topic5\", \"Topic5\", \"Topic5\", \"Topic5\", \"Topic5\", \"Topic5\", \"Topic5\", \"Topic5\", \"Topic5\", \"Topic5\", \"Topic5\", \"Topic5\", \"Topic5\", \"Topic5\", \"Topic5\", \"Topic5\", \"Topic5\", \"Topic5\", \"Topic5\", \"Topic5\", \"Topic5\", \"Topic5\", \"Topic5\", \"Topic5\", \"Topic5\", \"Topic5\", \"Topic5\", \"Topic5\", \"Topic5\", \"Topic5\", \"Topic5\", \"Topic5\", \"Topic5\", \"Topic5\", \"Topic5\", \"Topic5\", \"Topic5\", \"Topic5\", \"Topic5\", \"Topic5\", \"Topic5\", \"Topic6\", \"Topic6\", \"Topic6\", \"Topic6\", \"Topic6\", \"Topic6\", \"Topic6\", \"Topic6\", \"Topic6\", \"Topic6\", \"Topic6\", \"Topic6\", \"Topic6\", \"Topic6\", \"Topic6\", \"Topic6\", \"Topic6\", \"Topic6\", \"Topic6\", \"Topic6\", \"Topic6\", \"Topic6\", \"Topic6\", \"Topic6\", \"Topic6\", \"Topic6\", \"Topic6\", \"Topic6\", \"Topic6\", \"Topic6\", \"Topic6\", \"Topic6\", \"Topic6\", \"Topic6\", \"Topic6\", \"Topic6\", \"Topic6\", \"Topic6\", \"Topic6\", \"Topic6\", \"Topic6\", \"Topic6\", \"Topic6\", \"Topic6\", \"Topic6\", \"Topic6\", \"Topic6\", \"Topic6\", \"Topic6\", \"Topic6\", \"Topic6\", \"Topic6\", \"Topic6\", \"Topic6\", \"Topic6\", \"Topic6\", \"Topic6\", \"Topic6\", \"Topic7\", \"Topic7\", \"Topic7\", \"Topic7\", \"Topic7\", \"Topic7\", \"Topic7\", \"Topic7\", \"Topic7\", \"Topic7\", \"Topic7\", \"Topic7\", \"Topic7\", \"Topic7\", \"Topic7\", \"Topic7\", \"Topic7\", \"Topic7\", \"Topic7\", \"Topic7\", \"Topic7\", \"Topic7\", \"Topic7\", \"Topic7\", \"Topic7\", \"Topic7\", \"Topic7\", \"Topic7\", \"Topic7\", \"Topic7\", \"Topic7\", \"Topic7\", \"Topic7\", \"Topic7\", \"Topic7\", \"Topic7\", \"Topic7\", \"Topic7\", \"Topic7\", \"Topic7\", \"Topic7\", \"Topic7\", \"Topic7\", \"Topic7\", \"Topic7\", \"Topic7\", \"Topic7\", \"Topic7\", \"Topic7\", \"Topic7\", \"Topic8\", \"Topic8\", \"Topic8\", \"Topic8\", \"Topic8\", \"Topic8\", \"Topic8\", \"Topic8\", \"Topic8\", \"Topic8\", \"Topic8\", \"Topic8\", \"Topic8\", \"Topic8\", \"Topic8\", \"Topic8\", \"Topic8\", \"Topic8\", \"Topic8\", \"Topic8\", \"Topic8\", \"Topic8\", \"Topic8\", \"Topic8\", \"Topic8\", \"Topic8\", \"Topic8\", \"Topic8\", \"Topic8\", \"Topic8\", \"Topic8\", \"Topic8\", \"Topic8\", \"Topic8\", \"Topic8\", \"Topic8\", \"Topic8\", \"Topic8\", \"Topic8\", \"Topic8\", \"Topic8\", \"Topic8\", \"Topic8\", \"Topic8\", \"Topic8\", \"Topic8\", \"Topic9\", \"Topic9\", \"Topic9\", \"Topic9\", \"Topic9\", \"Topic9\", \"Topic9\", \"Topic9\", \"Topic9\", \"Topic9\", \"Topic9\", \"Topic9\", \"Topic9\", \"Topic9\", \"Topic9\", \"Topic9\", \"Topic9\", \"Topic9\", \"Topic9\", \"Topic9\", \"Topic9\", \"Topic9\", \"Topic9\", \"Topic9\", \"Topic9\", \"Topic9\", \"Topic9\", \"Topic9\", \"Topic9\", \"Topic9\", \"Topic9\", \"Topic9\", \"Topic9\", \"Topic9\", \"Topic9\", \"Topic9\", \"Topic9\", \"Topic9\", \"Topic9\", \"Topic9\", \"Topic9\", \"Topic9\", \"Topic9\", \"Topic10\", \"Topic10\", \"Topic10\", \"Topic10\", \"Topic10\", \"Topic10\", \"Topic10\", \"Topic10\", \"Topic10\", \"Topic10\", \"Topic10\", \"Topic10\", \"Topic10\", \"Topic10\", \"Topic10\", \"Topic10\", \"Topic10\", \"Topic10\", \"Topic10\", \"Topic10\", \"Topic10\", \"Topic10\", \"Topic10\", \"Topic10\", \"Topic10\", \"Topic10\", \"Topic10\", \"Topic10\", \"Topic10\", \"Topic10\", \"Topic10\", \"Topic10\", \"Topic10\", \"Topic10\", \"Topic10\", \"Topic10\", \"Topic10\", \"Topic10\", \"Topic10\", \"Topic10\", \"Topic10\", \"Topic10\", \"Topic10\", \"Topic10\", \"Topic10\"], \"logprob\": [30.0, 29.0, 28.0, 27.0, 26.0, 25.0, 24.0, 23.0, 22.0, 21.0, 20.0, 19.0, 18.0, 17.0, 16.0, 15.0, 14.0, 13.0, 12.0, 11.0, 10.0, 9.0, 8.0, 7.0, 6.0, 5.0, 4.0, 3.0, 2.0, 1.0, -3.4814, -4.2826, -4.5041, -4.7645, -4.7886, -5.1575, -5.3191, -5.3696, -5.4363, -5.5962, -5.652, -5.6745, -5.709, -5.8051, -5.811, -5.8121, -5.8391, -5.8461, -5.9281, -5.9513, -5.9805, -5.9839, -6.0653, -6.1232, -6.2528, -6.2592, -6.2924, -6.2939, -6.3211, -6.3387, -3.7806, -4.8383, -5.5356, -4.5257, -4.4715, -5.6902, -5.2363, -4.8188, -3.4163, -5.5637, -3.4785, -5.56, -5.3037, -3.702, -4.5931, -4.7969, -4.6014, -5.0205, -4.1629, -4.8655, -4.3556, -4.6986, -5.0984, -5.0917, -4.79, -5.0342, -4.9822, -5.1499, -5.1846, -5.1853, -3.1668, -4.045, -4.2378, -4.4327, -4.7106, -4.9576, -5.2854, -5.4794, -5.5535, -5.7284, -5.8013, -5.8114, -5.9036, -5.988, -6.0319, -6.0788, -6.1904, -6.1944, -6.1973, -6.2111, -6.2983, -6.3273, -6.3275, -6.3837, -6.3929, -6.4065, -6.4851, -6.5524, -6.5543, -6.5692, -3.1176, -3.3213, -5.8752, -5.3008, -4.7883, -4.72, -4.9058, -4.5009, -5.7398, -4.578, -3.2645, -5.062, -4.6006, -4.4657, -5.0359, -3.4959, -4.9578, -4.9391, -4.6408, -3.5433, -4.968, -4.7493, -4.8988, -4.6378, -4.5768, -4.6188, -4.879, -5.0313, -3.9289, -3.9967, -4.5878, -4.6064, -4.6887, -4.6998, -4.7059, -4.7214, -4.7301, -4.917, -4.9911, -5.0249, -5.1178, -5.1584, -5.1944, -5.2726, -5.2932, -5.4366, -5.4552, -5.4609, -5.5479, -5.6324, -5.6432, -5.7172, -5.7625, -5.9687, -6.073, -6.1884, -6.2254, -6.2515, -3.6595, -4.9379, -5.0409, -5.51, -3.0857, -3.3901, -3.6842, -4.5061, -4.5074, -4.0138, -4.4458, -4.4905, -4.6873, -4.9416, -4.9789, -4.9493, -5.005, -5.0807, -5.0706, -1.9858, -4.0511, -4.1129, -4.1201, -4.3624, -4.5257, -4.5423, -4.5565, -4.6515, -4.7661, -4.8166, -4.8594, -4.9039, -4.9088, -4.9563, -4.9624, -5.0616, -5.2037, -5.2713, -5.3555, -5.4272, -5.4648, -5.5089, -5.5715, -5.5799, -5.6601, -5.6615, -5.6731, -5.6836, -5.7309, -4.2327, -4.3895, -4.8014, -3.8148, -5.1497, -4.4891, -4.7493, -4.61, -3.3686, -5.246, -3.5789, -4.0228, -4.6398, -4.3627, -4.8264, -4.8979, -4.9603, -2.1936, -4.3284, -4.5996, -4.6984, -4.8596, -4.8665, -4.9593, -5.0469, -5.1063, -5.1736, -5.3636, -5.4194, -5.4546, -5.5467, -5.5543, -5.5747, -5.5753, -5.6448, -5.6484, -5.6789, -5.7969, -5.806, -5.8281, -5.8291, -5.8996, -6.0, -6.0109, -6.0146, -6.0273, -6.0428, -4.9437, -4.0307, -4.0891, -4.8273, -4.9006, -5.4925, -4.5026, -4.7096, -4.1879, -4.096, -3.6823, -4.2857, -4.5972, -4.6067, -3.7094, -4.6674, -4.8222, -4.8293, -4.973, -4.734, -4.7745, -5.15, -3.8422, -4.235, -4.8449, -4.897, -4.9414, -5.1319, -5.1951, -5.2336, -5.3253, -5.4895, -5.5048, -5.5276, -5.7709, -5.779, -5.8027, -5.8195, -5.8869, -5.8869, -5.9798, -5.9932, -6.0003, -6.0511, -6.0957, -6.1019, -6.1465, -6.1517, -6.1612, -6.2335, -6.2378, -6.3031, -4.5672, -4.1922, -4.8575, -4.7153, -3.1852, -4.7258, -4.6273, -4.5855, -4.1645, -4.4712, -4.5436, -4.72, -4.246, -4.8517, -4.4221, -3.9799, -5.4731, -4.5569, -4.6063, -4.5404, -4.406, -3.8716, -3.8796, -4.7016, -4.8193, -4.3542, -4.7942, -4.8342, -2.9045, -3.2287, -3.4361, -4.2615, -4.2878, -4.4572, -4.5705, -4.6172, -4.6548, -5.0865, -5.0968, -5.2181, -5.258, -5.3008, -5.35, -5.4406, -5.589, -5.6353, -5.6472, -5.6896, -5.7112, -5.7652, -5.7793, -5.8411, -5.9261, -5.999, -6.019, -6.0235, -6.0321, -6.0866, -4.1599, -3.2848, -4.5649, -3.4007, -4.2334, -4.36, -3.9837, -3.5384, -3.9051, -3.7793, -4.4419, -4.6606, -4.6214, -4.4585, -4.7919, -4.8949, -4.8163, -4.3903, -4.9344, -5.0958, -2.5582, -3.5636, -3.6139, -4.0404, -4.19, -4.2179, -4.3886, -4.4595, -4.5865, -4.6182, -4.7111, -4.8654, -4.8708, -4.8821, -4.8895, -4.917, -4.9661, -4.9746, -5.0573, -5.1021, -5.3149, -5.4298, -5.4489, -5.6145, -5.7285, -5.7596, -5.7886, -5.8156, -5.8309, -5.8397, -3.1154, -4.4229, -4.1278, -4.4967, -4.7349, -5.0669, -4.1718, -4.3627, -4.8139, -3.7881, -4.5454, -4.4053, -3.997, -4.5412, -4.4483, -4.6634, -3.2045, -3.3351, -3.3761, -3.8231, -4.1165, -4.5821, -4.7549, -4.7879, -4.8328, -4.8403, -4.8711, -4.9432, -5.0077, -5.0195, -5.06, -5.1162, -5.1391, -5.1508, -5.1582, -5.2346, -5.2565, -5.2854, -5.2862, -5.2867, -5.3298, -5.3392, -5.3537, -5.3614, -5.3645, -5.4303, -4.0558, -4.7114, -3.6977, -5.236, -4.6487, -5.0651, -4.5917, -4.9005, -4.9267, -4.9566, -5.0056, -5.1624, -5.0772, -2.4763, -2.7599, -3.0843, -3.1494, -4.0905, -4.5355, -4.6614, -4.8451, -4.8592, -5.1395, -5.1415, -5.1455, -5.1661, -5.2072, -5.2652, -5.2872, -5.3399, -5.3442, -5.3619, -5.3657, -5.3919, -5.3919, -5.3995, -5.4965, -5.4974, -5.5033, -5.517, -5.5379, -5.5405, -5.5414, -4.695, -4.8527, -5.0846, -4.5849, -4.1242, -4.9288, -4.2469, -4.8396, -4.8749, -4.9993, -4.9665, -5.1522, -5.0683, -5.1557, -5.2164], \"loglift\": [30.0, 29.0, 28.0, 27.0, 26.0, 25.0, 24.0, 23.0, 22.0, 21.0, 20.0, 19.0, 18.0, 17.0, 16.0, 15.0, 14.0, 13.0, 12.0, 11.0, 10.0, 9.0, 8.0, 7.0, 6.0, 5.0, 4.0, 3.0, 2.0, 1.0, 1.8357, 1.8356, 1.8355, 1.8355, 1.8355, 1.8353, 1.8352, 1.8352, 1.8351, 1.835, 1.835, 1.835, 1.8349, 1.8348, 1.8348, 1.8348, 1.8348, 1.8348, 1.8347, 1.8347, 1.8347, 1.8347, 1.8346, 1.8345, 1.8343, 1.8343, 1.8342, 1.8342, 1.8342, 1.8342, 1.7707, 1.7339, 1.7584, 1.5798, 1.5376, 1.7327, 1.6141, 1.4705, 1.0393, 1.6636, 0.6491, 1.645, 1.4862, 0.0692, 0.77, 0.9458, 0.6503, 1.0492, 0.101, 0.8473, -0.2708, 0.2236, 0.9018, 0.8501, 0.088, 0.4722, -0.28, 0.1953, 0.4518, 0.2793, 1.8658, 1.8657, 1.8656, 1.8656, 1.8655, 1.8654, 1.8652, 1.8651, 1.865, 1.8649, 1.8648, 1.8648, 1.8647, 1.8646, 1.8646, 1.8645, 1.8643, 1.8643, 1.8643, 1.8643, 1.8642, 1.8641, 1.8641, 1.864, 1.864, 1.864, 1.8638, 1.8637, 1.8637, 1.8637, 1.8356, 1.759, 1.7975, 1.7221, 1.6096, 1.5932, 1.5811, 1.4619, 1.7306, 1.4009, 0.9995, 1.4751, 1.2798, 1.2201, 1.3945, 0.5889, 1.3116, 1.2726, 1.0409, 0.2279, 1.1028, 0.7793, 0.9217, 0.4748, 0.3012, 0.0834, 0.6172, 0.9061, 2.0655, 2.0655, 2.0653, 2.0653, 2.0653, 2.0653, 2.0653, 2.0653, 2.0653, 2.0652, 2.0651, 2.0651, 2.0651, 2.065, 2.065, 2.065, 2.0649, 2.0648, 2.0648, 2.0648, 2.0647, 2.0646, 2.0646, 2.0646, 2.0645, 2.0642, 2.0641, 2.0639, 2.0638, 2.0637, 2.0174, 1.918, 1.8483, 1.9024, 1.0419, 0.381, 0.4006, 0.9791, 0.9758, 0.4419, 0.4764, 0.3874, 0.5643, 0.9404, 1.0105, 0.5153, -0.3029, 0.4256, -0.8066, 2.1813, 2.181, 2.181, 2.181, 2.181, 2.1809, 2.1809, 2.1809, 2.1809, 2.1808, 2.1808, 2.1808, 2.1807, 2.1807, 2.1807, 2.1807, 2.1806, 2.1805, 2.1805, 2.1804, 2.1803, 2.1803, 2.1803, 2.1802, 2.1802, 2.1801, 2.1801, 2.1801, 2.1801, 2.18, 2.0402, 2.0223, 2.0511, 1.8636, 2.0713, 1.9253, 1.852, 1.751, 0.759, 1.9983, 0.1923, 0.4329, 0.8434, -0.2779, 0.6383, 0.4473, -0.0824, 2.2394, 2.2392, 2.239, 2.239, 2.2389, 2.2389, 2.2389, 2.2388, 2.2388, 2.2387, 2.2385, 2.2385, 2.2385, 2.2384, 2.2383, 2.2383, 2.2383, 2.2382, 2.2382, 2.2382, 2.238, 2.238, 2.238, 2.238, 2.2379, 2.2377, 2.2377, 2.2377, 2.2377, 2.2376, 2.0338, 1.8409, 1.8266, 1.9174, 1.8824, 2.0733, 1.6477, 1.7301, 1.3451, 1.0166, 0.5817, 1.0595, 1.2233, 1.1716, 0.0618, 1.1685, 1.2475, 0.9134, 1.0234, -0.0318, -0.6897, 0.392, 2.2503, 2.2502, 2.25, 2.2499, 2.2499, 2.2498, 2.2497, 2.2497, 2.2496, 2.2495, 2.2494, 2.2494, 2.2491, 2.2491, 2.2491, 2.249, 2.2489, 2.2489, 2.2488, 2.2488, 2.2487, 2.2487, 2.2486, 2.2486, 2.2485, 2.2485, 2.2484, 2.2483, 2.2483, 2.2481, 2.0187, 1.944, 1.9484, 1.9029, 1.517, 1.8879, 1.8228, 1.7777, 1.6138, 1.7204, 1.6904, 1.7415, 1.4397, 1.683, 1.4041, 1.1327, 2.0245, 1.3236, 1.3311, 1.2702, 1.1226, 0.3923, 0.2052, 1.2948, 1.0165, -0.5831, 0.7122, 0.8258, 2.709, 2.709, 2.7089, 2.7086, 2.7086, 2.7085, 2.7085, 2.7084, 2.7084, 2.708, 2.708, 2.7078, 2.7078, 2.7077, 2.7077, 2.7075, 2.7073, 2.7072, 2.7072, 2.7071, 2.707, 2.7069, 2.7069, 2.7067, 2.7065, 2.7063, 2.7063, 2.7062, 2.7062, 2.7061, 2.403, 2.0783, 2.3283, 1.851, 2.0262, 1.9848, 0.9385, 0.2328, 0.5506, 0.3483, 1.0911, 1.3289, 1.2605, 1.0062, 1.2158, 1.4071, 1.1211, -0.3055, -0.0565, 1.5179, 2.7814, 2.7813, 2.7813, 2.7811, 2.781, 2.781, 2.7809, 2.7809, 2.7808, 2.7808, 2.7807, 2.7805, 2.7805, 2.7805, 2.7805, 2.7805, 2.7804, 2.7804, 2.7803, 2.7803, 2.78, 2.7798, 2.7798, 2.7794, 2.7792, 2.7791, 2.779, 2.779, 2.7789, 2.7789, 2.3698, 2.5667, 2.1742, 2.1077, 2.0904, 2.242, 1.4882, 1.319, 1.9125, 0.2967, 1.3964, 1.1277, -0.2258, 1.1716, 0.0073, 0.2145, 2.8639, 2.8639, 2.8639, 2.8637, 2.8636, 2.8633, 2.8632, 2.8631, 2.8631, 2.8631, 2.863, 2.863, 2.8629, 2.8629, 2.8628, 2.8627, 2.8627, 2.8627, 2.8627, 2.8626, 2.8625, 2.8625, 2.8625, 2.8625, 2.8624, 2.8624, 2.8624, 2.8624, 2.8624, 2.8622, 2.4452, 2.6401, 2.0151, 2.7733, 2.13, 2.3056, 0.7714, 0.9815, 0.945, 1.1131, 0.9101, 2.0453, 1.0283, 3.0221, 3.0221, 3.022, 3.022, 3.0216, 3.0213, 3.0212, 3.021, 3.021, 3.0206, 3.0206, 3.0205, 3.0205, 3.0204, 3.0203, 3.0203, 3.0202, 3.0202, 3.0201, 3.0201, 3.0201, 3.0201, 3.0201, 3.0199, 3.0198, 3.0198, 3.0198, 3.0198, 3.0197, 3.0197, 2.6172, 2.6805, 2.6997, 2.2031, 1.4044, 2.1178, 0.6753, 1.744, 1.6881, 1.9259, 1.7816, 2.2422, 1.3931, 0.9151, 0.7801]}, \"token.table\": {\"Topic\": [8, 5, 8, 1, 4, 5, 5, 8, 9, 2, 8, 2, 6, 10, 2, 5, 10, 4, 1, 8, 1, 2, 3, 4, 5, 5, 3, 2, 3, 6, 9, 3, 1, 8, 6, 4, 9, 5, 1, 8, 1, 10, 2, 1, 4, 1, 1, 3, 4, 4, 9, 10, 5, 8, 1, 10, 4, 6, 2, 1, 1, 2, 3, 4, 5, 6, 4, 9, 7, 9, 4, 3, 4, 8, 9, 3, 3, 4, 7, 9, 5, 9, 3, 9, 7, 5, 6, 2, 9, 10, 2, 9, 4, 1, 2, 4, 5, 10, 3, 3, 6, 7, 10, 3, 3, 7, 8, 4, 9, 8, 1, 4, 3, 4, 5, 6, 7, 3, 7, 7, 3, 10, 2, 6, 1, 2, 4, 5, 6, 8, 6, 8, 1, 4, 10, 4, 1, 9, 7, 7, 7, 8, 3, 9, 7, 9, 4, 6, 4, 6, 5, 7, 9, 1, 2, 5, 6, 10, 2, 4, 7, 1, 2, 3, 7, 9, 10, 2, 1, 3, 5, 7, 8, 10, 5, 5, 10, 3, 10, 2, 6, 1, 4, 6, 9, 5, 6, 1, 8, 4, 1, 1, 2, 4, 5, 6, 10, 6, 8, 10, 7, 1, 9, 10, 1, 2, 3, 4, 6, 9, 6, 7, 10, 6, 1, 3, 4, 5, 6, 5, 9, 1, 3, 4, 7, 8, 8, 9, 5, 5, 2, 3, 5, 8, 4, 1, 2, 3, 4, 6, 8, 1, 7, 7, 2, 8, 7, 2, 6, 8, 1, 3, 8, 8, 1, 2, 3, 4, 5, 6, 7, 8, 9, 5, 9, 7, 8, 5, 5, 10, 1, 2, 3, 4, 5, 6, 7, 8, 10, 1, 4, 6, 2, 4, 10, 2, 2, 4, 5, 6, 6, 7, 4, 10, 1, 3, 5, 8, 3, 5, 7, 8, 10, 3, 6, 3, 1, 2, 3, 4, 5, 7, 9, 9, 9, 9, 1, 3, 4, 7, 10, 10, 4, 10, 6, 9, 1, 3, 5, 8, 9, 10, 6, 2, 6, 10, 4, 2, 6, 9, 5, 1, 4, 4, 5, 3, 7, 8, 9, 10, 10, 2, 4, 6, 10, 2, 5, 6, 4, 1, 1, 7, 9, 1, 3, 7, 1, 2, 3, 4, 5, 6, 7, 8, 10, 10, 2, 1, 2, 3, 5, 6, 1, 2, 3, 4, 5, 6, 7, 8, 10, 2, 4, 4, 1, 2, 3, 4, 5, 6, 7, 8, 3, 3, 8, 10, 5, 4, 6, 6, 10, 1, 3, 1, 8, 9, 9, 6, 1, 6, 1, 3, 6, 5, 2, 5, 6, 1, 9, 10, 9, 4, 1, 2, 3, 4, 5, 6, 7, 10, 2, 7, 2, 1, 5, 9, 2, 5, 1, 2, 3, 4, 5, 6, 7, 8, 1, 10, 7, 10, 10, 7, 9, 9, 8, 9, 2, 5, 4, 6, 7, 1, 2, 4, 6, 7, 4, 5, 9, 9, 10, 2, 3, 4, 6, 2, 4, 6, 7, 8, 3, 7, 9, 3, 1, 2, 4, 6, 8, 5, 6, 7, 10, 10, 7, 10, 1, 2, 3, 4, 3, 3, 7, 1, 3, 8, 9, 2, 4, 2, 2, 1, 2, 5, 6, 10, 1, 2, 3, 5, 6, 5, 7, 8, 4, 8, 1, 2, 4, 6, 2, 2, 3, 4, 5, 6, 2, 9, 1, 6, 8, 2, 3, 8, 10, 1, 8, 1, 4, 4, 6, 3, 5, 1, 3, 3, 5, 3, 1, 10, 3, 8, 1, 10, 6, 2, 10, 8, 6, 2, 10, 2, 4, 6, 2, 6, 1, 2, 3, 4, 6, 7, 10, 1, 4, 5, 10, 1, 4, 5, 3, 8, 1, 3, 9, 7, 10, 3, 3, 3, 4, 3, 2, 9, 4, 7, 1, 5, 6, 1, 2, 10, 4, 1, 3, 4, 1, 2, 3, 5, 6, 5, 8, 4, 1, 7, 9, 2, 2, 9, 5, 1, 3, 7, 8, 1, 3, 1, 7, 5, 1, 3, 4, 7, 8, 1, 2, 3, 4, 6, 7, 8, 9, 1, 4, 7, 2, 3, 7, 8, 2, 5, 1, 2, 3, 5, 6, 7, 8, 10, 7, 1, 2, 3, 4, 5, 6, 8, 3, 6, 7, 6, 10, 2, 10, 5, 10, 4, 1, 1, 2, 9, 4, 8, 1, 5, 8, 3, 9, 10, 1, 4, 2, 5, 6, 10, 2, 5, 1, 2, 3, 4, 5, 7, 8, 7, 5, 8, 9, 10, 1, 3, 6, 8, 1, 2, 5, 6, 7, 8, 1, 1, 2, 3, 8, 1, 2, 3, 4, 6, 8, 6, 1, 2, 3, 4, 5, 6, 7, 1, 2, 3, 4, 5, 6, 8, 1, 3, 7], \"Freq\": [0.9983720638198766, 0.9987474594176049, 0.9987061015702122, 0.8263819894373385, 0.17347970160686196, 0.9983119874816772, 0.9993286650835199, 0.9993719641144272, 0.9981304484814569, 0.4900787851580122, 0.5096229353561872, 0.8986874205669229, 0.10129110094162404, 0.9979937306691852, 0.8731682327748429, 0.07890074392543761, 0.047340446355262564, 0.9991988157838587, 0.9995013708135536, 0.9972711547712725, 0.10412031806233227, 0.6241021445760035, 0.056398505617096646, 0.15029272101259272, 0.06445543499096759, 0.9995018334348775, 0.9980526306996026, 0.6282226294657862, 0.1331816189979289, 0.23834577148073796, 0.9978838972488013, 0.9987008574503823, 0.9991874408393511, 0.9998236266829514, 0.9977558635521672, 0.9997473186072741, 0.9990209505982813, 0.9997182876875512, 0.8415317295948018, 0.15744343633758956, 0.9992502138078192, 0.9983766899534424, 0.9979469080273341, 0.2801348945542031, 0.7194540533367132, 0.9990615850521806, 0.26596215485522706, 0.08354680734039198, 0.6504509222002836, 0.9996113400065348, 0.9137366819165271, 0.08566281392967441, 0.9992823270235769, 0.9990553563820715, 0.9252469028465707, 0.07422552596306882, 0.9995470887748678, 0.9997051389637468, 0.9984250508535399, 0.9996757370300476, 0.19388988290503026, 0.18038459408497146, 0.14185787869131533, 0.1766156762747225, 0.3072714936966867, 0.9997018840165156, 0.34188306625945647, 0.6578255885809386, 0.9975773435667479, 0.9979312904860835, 0.9995220565930966, 0.09623751570605955, 0.10593587000201904, 0.5833933122646401, 0.2141098217646441, 0.9989330900356878, 0.24539461316376449, 0.09842750967557586, 0.21505736703088152, 0.4409013104645658, 0.9984415865210949, 0.9998347194276773, 0.9995255212909325, 0.9993147795422297, 0.9998326799719676, 0.9992074157666885, 0.9996961514711242, 0.9995216085664407, 0.99886668416946, 0.999729961254526, 0.999079972155213, 0.9997583784279428, 0.9993233336713221, 0.05016472889803233, 0.7612911055844246, 0.04906220738378986, 0.1350588854947024, 0.004410086056969875, 0.9997363801172569, 0.9993603897587245, 0.9988793619220835, 0.999482125443282, 0.9997417591287172, 0.9988305227117502, 0.9528505243569976, 0.04697150472182383, 0.999932448814683, 0.20006446813125697, 0.7994794115595366, 0.9989640557816163, 0.9998763307485778, 0.99997529736033, 0.9997361856049892, 0.9990979432986675, 0.2017992749552803, 0.7972873139974244, 0.9990649053861009, 0.9987756288292572, 0.9998836832342967, 0.9986437915578432, 0.8626363824006986, 0.13705437851226054, 0.9994985525880187, 0.9989363852675205, 0.1362077470270095, 0.12864064996995342, 0.024421085956862813, 0.14377484408406557, 0.5668443613649284, 0.9993406216174106, 0.9973595462079544, 0.9986217964216434, 0.2221898525995471, 0.06628352745616742, 0.7104473858330056, 0.9989732528954809, 0.426943214928966, 0.5721673939847295, 0.9985539071195619, 0.9982373314902292, 0.9978364611070561, 0.9991671717935026, 0.519772008203596, 0.47982331500551556, 0.9973575594094339, 0.9979053477077163, 0.9996265332968723, 0.999181119855468, 0.9998452809117152, 0.9990162016033122, 0.6997189501717468, 0.18694444541450578, 0.11287211798611668, 0.03737946262558434, 0.12285962909494388, 0.11416673080992427, 0.6232808070359064, 0.10228643648706413, 0.9998077243955947, 0.9989950627854507, 0.9981854644249475, 0.17352140328300275, 0.11478557224396777, 0.3244796519595469, 0.23494332415613994, 0.1522117572657919, 0.9994085453914134, 0.999235959829865, 0.1831377610189591, 0.10772809471703476, 0.5533945387312025, 0.11077258435034226, 0.04215447184579621, 0.0028102981230530804, 0.9975141038837038, 0.33229030418233485, 0.6668258131226584, 0.9996903762772291, 0.9999138384629104, 0.9988280525418416, 0.9986114975806221, 0.9369674042036247, 0.06291048478038892, 0.9996345197485881, 0.9990272405752726, 0.9990766945870457, 0.9983326254124113, 0.9997603758380704, 0.9977177468076915, 0.999669518612808, 0.9989254907163716, 0.08309464955178249, 0.5745401483294674, 0.0635740017205701, 0.16434275133574758, 0.01978444036947202, 0.09470152123520607, 0.9986422553045683, 0.9977883153620668, 0.9984383245809249, 0.9976493318915405, 0.32176462180276744, 0.2193849694109778, 0.45827082499182026, 0.14746671581056292, 0.1367702710614675, 0.3362769933479666, 0.26236335828399254, 0.0799228736870614, 0.03713709469067966, 0.9980557136316331, 0.9993651761852796, 0.9985912106869215, 0.9977216133169082, 0.2652166054419342, 0.10127683911511919, 0.055888556702323296, 0.1483587141552582, 0.4289870125060149, 0.9993437676741704, 0.9978988803019433, 0.3052104477371096, 0.35924425352875705, 0.2411692341067568, 0.0943422813277331, 0.9981565453850908, 0.9996034023332806, 0.9974824150378758, 0.9999556523726363, 0.9990490620837003, 0.43825133017846957, 0.17207594034432216, 0.1578584222749872, 0.23158431494380666, 0.9993417512887601, 0.17290912969498512, 0.23693719700730362, 0.13505920448692182, 0.057525216725911155, 0.37516445690811623, 0.022176387897235313, 0.9983270523047346, 0.999868425640076, 0.9979715369289872, 0.9973366046324429, 0.9987655342035815, 0.9983873159546458, 0.2067067400100704, 0.7931601880246308, 0.9996178370881472, 0.9989968972275224, 0.997956008789265, 0.999391628024384, 0.9974816234321537, 0.17089634434639991, 0.1943897108007222, 0.1855173314103087, 0.1368385554883334, 0.11330180331572058, 0.058809341142814185, 0.08403813632875771, 0.04941633313291432, 0.006789864912468034, 0.8140208882427759, 0.1852968600868424, 0.9989667528156148, 0.9991147741318912, 0.9989822322823599, 0.9972918920025038, 0.9983229380229625, 0.12164512798103494, 0.2788814000443688, 0.1891762812647964, 0.08548998745372881, 0.0534312421585805, 0.12933329004718624, 0.04906769071562976, 0.08335273776738558, 0.009587939565123056, 0.7421679382965644, 0.2576237747456841, 0.9975499668473948, 0.9997272999364468, 0.8956831375623078, 0.10384732029707917, 0.9991034865513325, 0.3257519848368253, 0.040355626467974165, 0.342680828143306, 0.2910393061376781, 0.7062720420449176, 0.2935010868212071, 0.9990558964118913, 0.99808060922113, 0.2861929216738995, 0.022832877904037884, 0.6008487459405037, 0.08976761586929963, 0.1637083447682126, 0.40889190741875325, 0.1983195225972946, 0.1912457052307669, 0.03776913201056757, 0.9995931952792732, 0.9978369880866451, 0.9983141143977917, 0.0485316615588805, 0.264791994446779, 0.1612307082751093, 0.020915318579768586, 0.24732871873939938, 0.224585848050719, 0.032286753924108784, 0.9992517583183903, 0.9986587337219153, 0.9996232931148487, 0.10826450135565702, 0.1341869875957439, 0.26735740710364125, 0.15604320148444462, 0.3339426168575899, 0.9965186743604215, 0.9986838252694452, 0.9970233725652081, 0.9989898589941709, 0.9985598514628949, 0.027781614883653234, 0.06315687116883835, 0.66175806652862, 0.10538492579199127, 0.14168623590663149, 0.9986204564121529, 0.9975212031172214, 0.2703160654472219, 0.32426449464475665, 0.4046132189815105, 0.9992260887842905, 0.773921688079955, 0.22587714384659152, 0.99929768924947, 0.9983725500634567, 0.9996473992108869, 0.999556117291583, 0.999611073747534, 0.9989143338117551, 0.2503310903466459, 0.48473202039850527, 0.19002405494495395, 0.07481485995587259, 0.9980957873925471, 0.998938913756996, 0.46632016438582213, 0.07202440386849665, 0.3400070957395698, 0.12155469962190726, 0.22768543600943722, 0.03625417185951485, 0.7359365969189416, 0.998885505101471, 0.9982082256187815, 0.9995455961970814, 0.9963018454034113, 0.9989289061477511, 0.6940803218444074, 0.1595927223162984, 0.14613633763532888, 0.199435205439391, 0.10088348940899043, 0.20409875219657073, 0.07982894743172322, 0.0333306429998432, 0.10355817063737291, 0.1702194566370593, 0.012961916722161244, 0.09567129009214252, 0.9984038916344751, 0.9997362276123123, 0.1825539237608397, 0.1271532009082854, 0.01952448382468874, 0.0820028320636927, 0.5886631873143655, 0.17412698598732926, 0.20916233282878888, 0.1867239646269552, 0.10399068304066197, 0.07177653454036859, 0.08935981722484644, 0.0629192839343816, 0.07676283858522051, 0.02519395727925186, 0.12193293051776702, 0.878106143031051, 0.9993948387858043, 0.1428915033111297, 0.20063445692392345, 0.16558078751218333, 0.13320394376461245, 0.15767777840844555, 0.1518142555250272, 0.0326317795251108, 0.015551082429935616, 0.999387385899027, 0.4785398192528994, 0.24270094983996104, 0.27845600048602676, 0.9993895437596384, 0.832905426345928, 0.16644121869885042, 0.9991494437605967, 0.9989092225145645, 0.801313463145649, 0.19855972218029325, 0.3721191757203789, 0.19989498183760296, 0.42791437110470226, 0.9975874477944204, 0.9982078224671883, 0.9021206440950801, 0.09698423977296505, 0.13496261558718745, 0.21271625360697224, 0.6520559155886831, 0.9990328522858031, 0.12705102904781393, 0.3436996707024089, 0.5290295072295886, 0.7740967421566243, 0.1594321320264728, 0.06628077398853363, 0.9983698390658184, 0.9988797460421893, 0.25059616002908347, 0.1680913314896032, 0.18952297625452763, 0.09231015620970709, 0.11920476924804362, 0.053789226076673025, 0.09413114563417779, 0.03221750520217395, 0.9989010037801274, 0.9977235339955962, 0.9989152776336868, 0.45544893203977516, 0.37075444372877336, 0.17349406661666958, 0.9983134046712837, 0.9984867608787082, 0.2108126785746439, 0.08659009853037976, 0.21222832051247026, 0.21376193261178217, 0.015218150831633498, 0.04341301942667541, 0.18214592933365986, 0.035744958930115894, 0.5587615679652197, 0.4408943379265612, 0.9994260728221717, 0.9968193244587368, 0.9977198462215334, 0.9995044319224846, 0.9993814777150029, 0.9977347086900664, 0.9988701246885671, 0.9981461092014692, 0.9337362438948694, 0.06546886307768625, 0.11548493327734718, 0.7393742407873908, 0.1448072796172986, 0.9989844595933675, 0.5241971849850856, 0.031198709493778252, 0.44458161028634013, 0.9967375861666783, 0.1818402448082626, 0.6713556016897649, 0.1467482677400014, 0.9988769353203726, 0.9973916088758512, 0.667633710057213, 0.125994265143103, 0.14929058535446257, 0.05688184851606961, 0.38292347196224596, 0.013817802003580798, 0.39882340851431153, 0.2042384707104614, 0.9986736387402824, 0.999607030054405, 0.9978542082249818, 0.9997157427934663, 0.9996465124319958, 0.1207628120109286, 0.1820047606197962, 0.18229160815426396, 0.24052165765122002, 0.27436966671841617, 0.9993341309800541, 0.6009737642850833, 0.20266881199826745, 0.1959558071844447, 0.9993382173502577, 0.9984115989623084, 0.9985469825779941, 0.9992661103679322, 0.9991171572516696, 0.9982803029395395, 0.9992265663652383, 0.999547224886178, 0.9996564121450489, 0.9990530931740106, 0.7050219376615792, 0.0692590820372836, 0.22553598509576966, 0.999431713500074, 0.9702333027924401, 0.029711847405966083, 0.9991386305980491, 0.998681075746271, 0.05320956350899754, 0.1596286905269926, 0.29636722920483155, 0.3845143929046426, 0.10621833621230074, 0.1764348276220116, 0.4204751919299379, 0.056562825599087235, 0.19056665724438243, 0.1559472253805343, 0.18288390928472326, 0.27200915270663756, 0.5448359681969625, 0.999474018815325, 0.9995851491242564, 0.02585822726842911, 0.6764512253421054, 0.07826423453244544, 0.21927776723627884, 0.9976523823936133, 0.38897365090747327, 0.049674124250088575, 0.09732760615780067, 0.36203175300912016, 0.10204243829001247, 0.9995025267921439, 0.9985238583937557, 0.9987722046888273, 0.9974343261589844, 0.9984051989304296, 0.9993332731377143, 0.5441163987657214, 0.4195445739334467, 0.03624665137260165, 0.9988769336285173, 0.9996726576068635, 0.14661842453396634, 0.8529420381602523, 0.9995471778578241, 0.9973682643650273, 0.9992565403545535, 0.9990906721208695, 0.9987723815359626, 0.9997096003086181, 0.9994866274226643, 0.9982934617375822, 0.9998626292033058, 0.9982095543104902, 0.9980654981501293, 0.9991127221615702, 0.9993215892520242, 0.2748080790915064, 0.7248213090448465, 0.9992318630398108, 0.9985441049040672, 0.9985941179340289, 0.9969299127064787, 0.9984628398410694, 0.9997524137081364, 0.9988421791995934, 0.5565974781913325, 0.047560208544456944, 0.3956794793567038, 0.9976608903973293, 0.9979856740149002, 0.9989841079815222, 0.3374433790143938, 0.025279954969024656, 0.02905308257634177, 0.3237343487078083, 0.08615308036707409, 0.19834074122463624, 0.5619941070127287, 0.08685363472014898, 0.0617342011491255, 0.2890863626224566, 0.22566239997257023, 0.7742659912572376, 0.999112229942243, 0.33732125452321804, 0.662479193549526, 0.999648903339993, 0.8496961033860245, 0.14975169884408027, 0.7362711323012354, 0.2632319665699756, 0.9995404297244241, 0.9986200834838904, 0.8046161926727035, 0.19514762016071663, 0.9994651253829789, 0.9986951679865645, 0.9981682556746115, 0.9996926092818762, 0.998290382227516, 0.9992835101278016, 0.9989170885665974, 0.9988748262482332, 0.9994402765403139, 0.9999481630683194, 0.9988661690960657, 0.9985581282689827, 0.23111709022362628, 0.04090567968559757, 0.7278289149773111, 0.4106554408494778, 0.11699629593245744, 0.206729806527791, 0.26546163551119506, 0.9994665275148453, 0.999235832850447, 0.9987815241982639, 0.9991517964334362, 0.3444630691972552, 0.5321485471849924, 0.12331181035310157, 0.9983442928100782, 0.9988905974415627, 0.9986116613110866, 0.999387103505656, 0.30557122206384374, 0.22281433571394782, 0.42398602949076847, 0.04757567544769361, 0.9995532484549103, 0.9995400411341311, 0.9981535803649415, 0.9971453986761886, 0.9977096475428111, 0.4509179571163982, 0.1971583284453996, 0.17406190122568327, 0.11548213609858157, 0.06240766461044389, 0.046458154840386345, 0.0608143228597332, 0.3481370744691612, 0.02073668713905657, 0.019739731026601925, 0.2514323315610609, 0.17426792845707154, 0.07836075043893491, 0.903056385280257, 0.09676879415221418, 0.997494485888998, 0.9971926946261189, 0.267507560236784, 0.5052340053690824, 0.22701569320875517, 0.7521659237056786, 0.2475524291184775, 0.25571553320545015, 0.08905148919708797, 0.19396988738094992, 0.10356540594467965, 0.21475676814656852, 0.09790743839900833, 0.001352992239182276, 0.043664749537246174, 0.9965507064614232, 0.12052898927851687, 0.16824526037645027, 0.09361635194646446, 0.03423243439782534, 0.10319262780694938, 0.4801896947283377, 0.9978962616515638, 0.9994364447741182, 0.6957000236289098, 0.3037406202681597, 0.9977262896738719, 0.9988345798863305, 0.9991130932674849, 0.9998887317703313, 0.9983007050442444, 0.9983958137791573, 0.9983554842042058, 0.998467286570137, 0.06333259979886065, 0.8659191742410594, 0.07005818561820869, 0.8685298749364434, 0.13129863394345503, 0.9985855773348841, 0.8468250937416838, 0.1523899371425809, 0.9985692732301917, 0.999590183575461, 0.9977013655747633, 0.9998749726458518, 0.9988112827732387, 0.16066953200220283, 0.20853937671918243, 0.5711279877669428, 0.05958267906262355, 0.2749584065222345, 0.7247360468209516, 0.20686264491299444, 0.28685602790760145, 0.18884282652151524, 0.11542424212920467, 0.12443415132494427, 0.045536568097386654, 0.0321434598334494, 0.9969093401647076, 0.9992221472213625, 0.8066205883410702, 0.1317263460798925, 0.061255461345793634, 0.2345662366748468, 0.11130397897120181, 0.15269802073735125, 0.5008679053704082, 0.09068091034356383, 0.14029876694664592, 0.22052380712480932, 0.14429100828252608, 0.1539864515268065, 0.2503705637787706, 0.9989441103755722, 0.39302021399738785, 0.25919179241058504, 0.23702142136457854, 0.11065030640234151, 0.3731970976268728, 0.14562861782077666, 0.07737708544785392, 0.049430079155877195, 0.29182758270873654, 0.062357946012029694, 0.9979276582824422, 0.088647016812549, 0.5525498042332759, 0.11603794897372986, 0.08267081343192771, 0.06050905922879046, 0.04980169483851067, 0.04980169483851067, 0.05052603878268598, 0.24881377719092818, 0.0413998248810514, 0.03783230490132152, 0.2943618811181771, 0.3269673544212897, 0.9988305801241798, 0.9988476707762542, 0.3165045861672859, 0.6832167427685736], \"Term\": [\"additional\", \"adult\", \"afternoon\", \"aftertaste\", \"aftertaste\", \"allergic\", \"allergy\", \"almond\", \"alot\", \"amazing\", \"amazing\", \"amazon\", \"amazon\", \"animal\", \"area\", \"area\", \"area\", \"aroma\", \"artificial\", \"asian\", \"available\", \"available\", \"available\", \"available\", \"available\", \"baby\", \"bacon\", \"bag\", \"bag\", \"bag\", \"baking\", \"ball\", \"banana\", \"bar\", \"basis\", \"bean\", \"beautiful\", \"beef\", \"benefit\", \"benefit\", \"beverage\", \"bill\", \"biscuit\", \"bitter\", \"bitter\", \"bitterness\", \"black\", \"black\", \"black\", \"blend\", \"blood\", \"blood\", \"blue\", \"blueberry\", \"body\", \"body\", \"bold\", \"bone\", \"bonus\", \"bottle\", \"brand\", \"brand\", \"brand\", \"brand\", \"brand\", \"bread\", \"breakfast\", \"breakfast\", \"breast\", \"breath\", \"brew\", \"brown\", \"brown\", \"brown\", \"brown\", \"brownie\", \"bulk\", \"bulk\", \"bulk\", \"bulk\", \"busy\", \"butter\", \"caffeine\", \"cake\", \"calorie\", \"can\", \"candy\", \"carb\", \"care\", \"cat\", \"cent\", \"cereal\", \"chai\", \"cheap\", \"cheap\", \"cheap\", \"cheap\", \"cheap\", \"cheese\", \"cherry\", \"chew\", \"chewy\", \"chicken\", \"chili\", \"chip\", \"chip\", \"chocolate\", \"cinnamon\", \"cinnamon\", \"coat\", \"coconut\", \"coffee\", \"cold\", \"combination\", \"condition\", \"condition\", \"content\", \"cook\", \"cookie\", \"cool\", \"corn\", \"corn\", \"cost\", \"costco\", \"couple\", \"couple\", \"couple\", \"couple\", \"couple\", \"cracker\", \"cranberry\", \"craving\", \"crazy\", \"crazy\", \"crazy\", \"creamer\", \"creamy\", \"creamy\", \"crisp\", \"crispy\", \"crumb\", \"crunch\", \"crunchy\", \"crunchy\", \"crust\", \"crystal\", \"cup\", \"customer\", \"dark\", \"date\", \"daughter\", \"daughter\", \"daughter\", \"day\", \"day\", \"day\", \"day\", \"day\", \"deal\", \"decaf\", \"delicate\", \"delicious\", \"delicious\", \"delicious\", \"delicious\", \"delicious\", \"dessert\", \"diabetic\", \"diet\", \"diet\", \"diet\", \"diet\", \"diet\", \"diet\", \"digestive\", \"dinner\", \"dinner\", \"dish\", \"dog\", \"dollar\", \"door\", \"drink\", \"drink\", \"drinker\", \"earth\", \"eater\", \"egg\", \"energy\", \"enjoyable\", \"espresso\", \"everyday\", \"expensive\", \"expensive\", \"expensive\", \"expensive\", \"expensive\", \"expensive\", \"expiration\", \"eye\", \"fabulous\", \"fake\", \"fast\", \"fast\", \"fast\", \"favorite\", \"favorite\", \"favorite\", \"favorite\", \"favorite\", \"favorite\", \"feeding\", \"fiber\", \"filler\", \"find\", \"first\", \"first\", \"first\", \"first\", \"first\", \"fish\", \"flake\", \"flavor\", \"flavor\", \"flavor\", \"flavor\", \"flax\", \"flour\", \"flower\", \"food\", \"formula\", \"free\", \"free\", \"free\", \"free\", \"french\", \"fresh\", \"fresh\", \"fresh\", \"fresh\", \"fresh\", \"fresh\", \"fridge\", \"fruit\", \"fruity\", \"gallon\", \"garlic\", \"german\", \"gift\", \"gift\", \"ginger\", \"glass\", \"gluten\", \"glutenfree\", \"golden\", \"good\", \"good\", \"good\", \"good\", \"good\", \"good\", \"good\", \"good\", \"good\", \"grain\", \"grain\", \"gram\", \"granola\", \"grape\", \"gravy\", \"greasy\", \"great\", \"great\", \"great\", \"great\", \"great\", \"great\", \"great\", \"great\", \"great\", \"green\", \"green\", \"greenie\", \"grocery\", \"ground\", \"ground\", \"hair\", \"happy\", \"happy\", \"happy\", \"happy\", \"hard\", \"hard\", \"hazelnut\", \"head\", \"health\", \"health\", \"health\", \"health\", \"healthy\", \"healthy\", \"healthy\", \"healthy\", \"healthy\", \"heat\", \"helpful\", \"herbal\", \"high\", \"high\", \"high\", \"high\", \"high\", \"high\", \"high\", \"holiday\", \"homemade\", \"honey\", \"house\", \"house\", \"house\", \"house\", \"house\", \"human\", \"iced\", \"impressed\", \"inch\", \"individual\", \"ingredient\", \"ingredient\", \"ingredient\", \"ingredient\", \"ingredient\", \"intense\", \"internet\", \"issue\", \"issue\", \"issue\", \"italian\", \"item\", \"item\", \"jar\", \"jerky\", \"juice\", \"kcup\", \"keurig\", \"kibble\", \"kid\", \"kid\", \"kid\", \"kid\", \"kitten\", \"kitty\", \"large\", \"large\", \"large\", \"large\", \"last\", \"last\", \"last\", \"latte\", \"leaf\", \"lemon\", \"lemonade\", \"licorice\", \"light\", \"light\", \"light\", \"little\", \"little\", \"little\", \"little\", \"little\", \"little\", \"little\", \"little\", \"little\", \"liver\", \"local\", \"long\", \"long\", \"long\", \"long\", \"long\", \"love\", \"love\", \"love\", \"love\", \"love\", \"love\", \"love\", \"love\", \"love\", \"machine\", \"machine\", \"maker\", \"many\", \"many\", \"many\", \"many\", \"many\", \"many\", \"many\", \"many\", \"maple\", \"meal\", \"meal\", \"meal\", \"meat\", \"medium\", \"medium\", \"mess\", \"messy\", \"mild\", \"mild\", \"milk\", \"milk\", \"milk\", \"mill\", \"mini\", \"mint\", \"mint\", \"minute\", \"minute\", \"minute\", \"moist\", \"month\", \"month\", \"month\", \"morning\", \"morning\", \"morning\", \"mother\", \"mountain\", \"much\", \"much\", \"much\", \"much\", \"much\", \"much\", \"much\", \"much\", \"muffin\", \"mushy\", \"mustard\", \"natural\", \"natural\", \"natural\", \"nature\", \"newman\", \"nice\", \"nice\", \"nice\", \"nice\", \"nice\", \"nice\", \"nice\", \"nice\", \"night\", \"night\", \"noodle\", \"nutrient\", \"nutritious\", \"oatmeal\", \"oats\", \"oil\", \"olive\", \"onion\", \"online\", \"online\", \"open\", \"open\", \"open\", \"orange\", \"order\", \"order\", \"order\", \"ordering\", \"organic\", \"organic\", \"organic\", \"overall\", \"owner\", \"pack\", \"pack\", \"pack\", \"pack\", \"package\", \"package\", \"package\", \"package\", \"pancake\", \"pasta\", \"peach\", \"peanut\", \"pepper\", \"perfect\", \"perfect\", \"perfect\", \"perfect\", \"perfect\", \"picky\", \"piece\", \"piece\", \"piece\", \"pill\", \"pizza\", \"plant\", \"pleasant\", \"pleased\", \"pocket\", \"pod\", \"popcorn\", \"potato\", \"pouch\", \"powder\", \"powder\", \"powder\", \"pretzel\", \"price\", \"price\", \"pricey\", \"prime\", \"problem\", \"problem\", \"problem\", \"problem\", \"problem\", \"product\", \"product\", \"product\", \"product\", \"product\", \"protein\", \"protein\", \"protein\", \"pumpkin\", \"puppy\", \"purchase\", \"purchase\", \"purchase\", \"purchase\", \"purse\", \"quality\", \"quality\", \"quality\", \"quality\", \"quality\", \"quantity\", \"raisin\", \"raspberry\", \"rawhide\", \"ready\", \"reasonable\", \"recipe\", \"recipe\", \"recipe\", \"refreshing\", \"rice\", \"rich\", \"rich\", \"roast\", \"rock\", \"salad\", \"salmon\", \"salsa\", \"salt\", \"salty\", \"satisfied\", \"sauce\", \"scent\", \"science\", \"seasoning\", \"seed\", \"sensitive\", \"sensitive\", \"service\", \"shampoo\", \"shell\", \"shiny\", \"ship\", \"shipping\", \"sick\", \"size\", \"size\", \"size\", \"sized\", \"skeptical\", \"sleep\", \"small\", \"small\", \"small\", \"small\", \"small\", \"small\", \"smell\", \"smell\", \"smell\", \"smell\", \"smooth\", \"smooth\", \"smoothie\", \"snack\", \"snack\", \"soda\", \"sodium\", \"sodium\", \"soft\", \"soft\", \"soup\", \"sour\", \"spice\", \"spice\", \"spicy\", \"splenda\", \"square\", \"starbuck\", \"start\", \"stash\", \"steak\", \"steep\", \"stevia\", \"store\", \"straight\", \"strawberry\", \"strong\", \"strong\", \"strong\", \"stuff\", \"stuff\", \"stuff\", \"stuff\", \"subscribe\", \"subscription\", \"substitute\", \"subtle\", \"sugar\", \"sugar\", \"sugar\", \"summer\", \"supermarket\", \"supplement\", \"supply\", \"sweet\", \"sweet\", \"sweet\", \"sweet\", \"sweetener\", \"syrup\", \"system\", \"tangy\", \"tart\", \"taste\", \"taste\", \"taste\", \"taste\", \"taste\", \"tasty\", \"tasty\", \"tasty\", \"tasty\", \"tasty\", \"tasty\", \"tasty\", \"tasty\", \"tea\", \"tea\", \"temperature\", \"terrific\", \"texture\", \"texture\", \"texture\", \"thank\", \"thank\", \"thing\", \"thing\", \"thing\", \"thing\", \"thing\", \"thing\", \"thing\", \"thing\", \"throat\", \"time\", \"time\", \"time\", \"time\", \"time\", \"time\", \"toast\", \"tomato\", \"tooth\", \"tooth\", \"toy\", \"training\", \"travel\", \"treat\", \"tree\", \"trick\", \"tuna\", \"unique\", \"value\", \"value\", \"value\", \"vanilla\", \"vanilla\", \"vegan\", \"vegetable\", \"vegetable\", \"vinegar\", \"vitamin\", \"waffle\", \"water\", \"weak\", \"week\", \"week\", \"week\", \"week\", \"weight\", \"weight\", \"well\", \"well\", \"well\", \"well\", \"well\", \"well\", \"well\", \"wellbr\", \"wellness\", \"wheat\", \"wheat\", \"wheat\", \"white\", \"white\", \"white\", \"white\", \"whole\", \"whole\", \"whole\", \"whole\", \"whole\", \"whole\", \"wine\", \"wonderful\", \"wonderful\", \"wonderful\", \"wonderful\", \"work\", \"work\", \"work\", \"work\", \"work\", \"work\", \"workout\", \"worth\", \"worth\", \"worth\", \"worth\", \"worth\", \"worth\", \"worth\", \"year\", \"year\", \"year\", \"year\", \"year\", \"year\", \"yeast\", \"yogurt\", \"yummy\", \"yummy\"]}, \"R\": 30, \"lambda.step\": 0.01, \"plot.opts\": {\"xlab\": \"PC1\", \"ylab\": \"PC2\"}, \"topic.order\": [10, 9, 8, 3, 6, 1, 7, 5, 2, 4]};\n",
       "\n",
       "function LDAvis_load_lib(url, callback){\n",
       "  var s = document.createElement('script');\n",
       "  s.src = url;\n",
       "  s.async = true;\n",
       "  s.onreadystatechange = s.onload = callback;\n",
       "  s.onerror = function(){console.warn(\"failed to load library \" + url);};\n",
       "  document.getElementsByTagName(\"head\")[0].appendChild(s);\n",
       "}\n",
       "\n",
       "if(typeof(LDAvis) !== \"undefined\"){\n",
       "   // already loaded: just create the visualization\n",
       "   !function(LDAvis){\n",
       "       new LDAvis(\"#\" + \"ldavis_el1891224874560362247220071080\", ldavis_el1891224874560362247220071080_data);\n",
       "   }(LDAvis);\n",
       "}else if(typeof define === \"function\" && define.amd){\n",
       "   // require.js is available: use it to load d3/LDAvis\n",
       "   require.config({paths: {d3: \"https://d3js.org/d3.v5\"}});\n",
       "   require([\"d3\"], function(d3){\n",
       "      window.d3 = d3;\n",
       "      LDAvis_load_lib(\"https://cdn.jsdelivr.net/gh/bmabey/pyLDAvis@3.4.0/pyLDAvis/js/ldavis.v3.0.0.js\", function(){\n",
       "        new LDAvis(\"#\" + \"ldavis_el1891224874560362247220071080\", ldavis_el1891224874560362247220071080_data);\n",
       "      });\n",
       "    });\n",
       "}else{\n",
       "    // require.js not available: dynamically load d3 & LDAvis\n",
       "    LDAvis_load_lib(\"https://d3js.org/d3.v5.js\", function(){\n",
       "         LDAvis_load_lib(\"https://cdn.jsdelivr.net/gh/bmabey/pyLDAvis@3.4.0/pyLDAvis/js/ldavis.v3.0.0.js\", function(){\n",
       "                 new LDAvis(\"#\" + \"ldavis_el1891224874560362247220071080\", ldavis_el1891224874560362247220071080_data);\n",
       "            })\n",
       "         });\n",
       "}\n",
       "</script>"
      ],
      "text/plain": [
       "PreparedData(topic_coordinates=              x         y  topics  cluster       Freq\n",
       "topic                                                \n",
       "9     -0.077642 -0.070292       1        1  15.948394\n",
       "8     -0.193036  0.096568       2        1  15.476752\n",
       "7     -0.074890 -0.131326       3        1  12.673035\n",
       "2     -0.064674 -0.094774       4        1  11.289657\n",
       "5     -0.096885  0.040989       5        1  10.651303\n",
       "0     -0.185100  0.161886       6        1  10.534433\n",
       "6      0.042618 -0.113681       7        1   6.659373\n",
       "4      0.096574 -0.171141       8        1   6.194324\n",
       "1      0.343950 -0.047349       9        1   5.703366\n",
       "3      0.209085  0.329119      10        1   4.869362, topic_info=          Term          Freq         Total Category  logprob  loglift\n",
       "64      coffee  31028.000000  31028.000000  Default  30.0000  30.0000\n",
       "136       food  23782.000000  23782.000000  Default  29.0000  29.0000\n",
       "339  chocolate   9605.000000   9605.000000  Default  28.0000  28.0000\n",
       "185     flavor  32276.000000  32276.000000  Default  27.0000  27.0000\n",
       "466      treat   8194.000000   8194.000000  Default  26.0000  26.0000\n",
       "..         ...           ...           ...      ...      ...      ...\n",
       "80       smell    679.263915   2348.779077  Topic10  -4.9665   1.7816\n",
       "134       fast    564.145066   1230.713301  Topic10  -5.1522   2.2422\n",
       "352      piece    613.493811   3128.256359  Topic10  -5.0683   1.3931\n",
       "68       large    562.144881   4623.432922  Topic10  -5.1557   0.9151\n",
       "219    problem    529.066052   4980.307721  Topic10  -5.2164   0.7801\n",
       "\n",
       "[538 rows x 6 columns], token_table=      Topic      Freq        Term\n",
       "term                             \n",
       "2506      8  0.998372  additional\n",
       "98        5  0.998747       adult\n",
       "1044      8  0.998706   afternoon\n",
       "366       1  0.826382  aftertaste\n",
       "366       4  0.173480  aftertaste\n",
       "...     ...       ...         ...\n",
       "124       6  0.326967        year\n",
       "1246      8  0.998831       yeast\n",
       "1788      1  0.998848      yogurt\n",
       "1135      3  0.316505       yummy\n",
       "1135      7  0.683217       yummy\n",
       "\n",
       "[769 rows x 3 columns], R=30, lambda_step=0.01, plot_opts={'xlab': 'PC1', 'ylab': 'PC2'}, topic_order=[10, 9, 8, 3, 6, 1, 7, 5, 2, 4])"
      ]
     },
     "execution_count": 25,
     "metadata": {},
     "output_type": "execute_result"
    }
   ],
   "source": [
    "pyLDAvis.enable_notebook()\n",
    "vis = pyLDAvis.gensim.prepare(lda_model, doc_term_matrix, dictionary, n_jobs=1)\n",
    "vis"
   ]
  },
  {
   "cell_type": "code",
   "execution_count": 26,
   "id": "3209805c",
   "metadata": {},
   "outputs": [
    {
     "name": "stdout",
     "output_type": "stream",
     "text": [
      "\n",
      "Perplexity:  -8.828342780116756\n",
      "\n",
      "Coherence Score:  0.4357555299288306\n"
     ]
    }
   ],
   "source": [
    "\n",
    "print('\\nPerplexity: ', lda_model.log_perplexity(doc_term_matrix,total_docs=10000))  # a measure of how good the model is. lower the better.\n",
    "\n",
    "# Compute Coherence Score\n",
    "from gensim.models.coherencemodel import CoherenceModel\n",
    "coherence_model_lda = CoherenceModel(model=lda_model, texts=tokenized_reviews, dictionary=dictionary , coherence='c_v')\n",
    "coherence_lda = coherence_model_lda.get_coherence()\n",
    "print('\\nCoherence Score: ', coherence_lda)\n"
   ]
  },
  {
   "cell_type": "markdown",
   "id": "0218f8b1",
   "metadata": {},
   "source": [
    "Perplexity (퍼플렉서티):\n",
    "\n",
    "Perplexity는 LDA 모델의 학습 및 성능을 측정하는 지표 중 하나로, 모델이 주어진 데이터를 얼마나 잘 설명할 수 있는지를 나타냅니다. Perplexity는 확률 모델에서 말뭉치에 대한 예측의 \"혼란도\"를 측정합니다. Perplexity가 낮을수록 모델이 더 좋은 예측을 제공하며, 말뭉치의 \"혼란\" 정도가 낮다는 것을 의미합니다. 하지만 Perplexity는 특정 말뭉치에 특화되기 쉽고, 모델의 복잡성이나 토픽의 수에 따라 달라질 수 있습니다.\n",
    "\n",
    "Coherence Score (일관성 점수):\n",
    "\n",
    "Coherence Score는 LDA 토픽 모델의 주제들이 얼마나 일관성 있는지를 측정하는 지표입니다. 주제의 일관성은 해당 주제 내의 단어들이 함께 자주 등장하는 정도를 나타내며, 높은 일관성 점수는 모델이 의미 있는 주제를 잘 추출하고 있는 것을 나타냅니다. Coherence Score를 계산하기 위해서는 주제 내의 단어 간의 관련성을 측정하고, 주제 간의 관련성도 고려합니다. 높은 Coherence Score를 가진 모델은 보다 해석 가능하고 의미 있는 주제를 생성하는 경향이 있습니다.\n",
    "\n",
    "이러한 평가 지표들은 LDA 모델의 성능과 일관성을 평가하며, 모델을 조정하거나 비교할 때 유용한 도구입니다. 하지만 어떤 평가 지표도 모델의 완전한 해석을 대신하지 못하므로, 다양한 평가 지표를 고려하여 종합적으로 모델을 평가하는 것이 중요합니다."
   ]
  },
  {
   "cell_type": "code",
   "execution_count": 27,
   "id": "5a28bdac",
   "metadata": {},
   "outputs": [],
   "source": [
    "def compute_coherence_values(dictionary, corpus, texts, limit, start=2, step=3):\n",
    "    \"\"\"\n",
    "    Compute c_v coherence for various number of topics\n",
    "\n",
    "    Parameters:\n",
    "    ----------\n",
    "    dictionary : Gensim dictionary\n",
    "    corpus : Gensim corpus\n",
    "    texts : List of input texts\n",
    "    limit : Max num of topics\n",
    "\n",
    "    Returns:\n",
    "    -------\n",
    "    model_list : List of LDA topic models\n",
    "    coherence_values : Coherence values corresponding to the LDA model with respective number of topics\n",
    "    \"\"\"\n",
    "    coherence_values = []\n",
    "    model_list = []\n",
    "    for num_topics in range(start, limit, step):\n",
    "        model = gensim.models.ldamodel.LdaModel(corpus=corpus, num_topics=num_topics, id2word=dictionary)\n",
    "        model_list.append(model)\n",
    "        coherencemodel = CoherenceModel(model=model, texts=texts, dictionary=dictionary, coherence='c_v')\n",
    "        coherence_values.append(coherencemodel.get_coherence())\n",
    "\n",
    "    return model_list, coherence_values"
   ]
  },
  {
   "cell_type": "code",
   "execution_count": 29,
   "id": "c24ee341",
   "metadata": {},
   "outputs": [
    {
     "ename": "KeyboardInterrupt",
     "evalue": "",
     "output_type": "error",
     "traceback": [
      "\u001b[1;31m---------------------------------------------------------------------------\u001b[0m",
      "\u001b[1;31mKeyboardInterrupt\u001b[0m                         Traceback (most recent call last)",
      "Input \u001b[1;32mIn [29]\u001b[0m, in \u001b[0;36m<cell line: 1>\u001b[1;34m()\u001b[0m\n\u001b[1;32m----> 1\u001b[0m model_list, coherence_values \u001b[38;5;241m=\u001b[39m \u001b[43mcompute_coherence_values\u001b[49m\u001b[43m(\u001b[49m\u001b[43mdictionary\u001b[49m\u001b[38;5;241;43m=\u001b[39;49m\u001b[43mdictionary\u001b[49m\u001b[43m,\u001b[49m\u001b[43m \u001b[49m\u001b[43mcorpus\u001b[49m\u001b[38;5;241;43m=\u001b[39;49m\u001b[43mdoc_term_matrix\u001b[49m\u001b[43m,\u001b[49m\u001b[43m \u001b[49m\u001b[43mtexts\u001b[49m\u001b[38;5;241;43m=\u001b[39;49m\u001b[43mtokenized_reviews\u001b[49m\u001b[43m,\u001b[49m\u001b[43m \u001b[49m\u001b[43mstart\u001b[49m\u001b[38;5;241;43m=\u001b[39;49m\u001b[38;5;241;43m2\u001b[39;49m\u001b[43m,\u001b[49m\u001b[43m \u001b[49m\u001b[43mlimit\u001b[49m\u001b[38;5;241;43m=\u001b[39;49m\u001b[38;5;241;43m50\u001b[39;49m\u001b[43m,\u001b[49m\u001b[43m \u001b[49m\u001b[43mstep\u001b[49m\u001b[38;5;241;43m=\u001b[39;49m\u001b[38;5;241;43m1\u001b[39;49m\u001b[43m)\u001b[49m\n",
      "Input \u001b[1;32mIn [27]\u001b[0m, in \u001b[0;36mcompute_coherence_values\u001b[1;34m(dictionary, corpus, texts, limit, start, step)\u001b[0m\n\u001b[0;32m     18\u001b[0m model_list \u001b[38;5;241m=\u001b[39m []\n\u001b[0;32m     19\u001b[0m \u001b[38;5;28;01mfor\u001b[39;00m num_topics \u001b[38;5;129;01min\u001b[39;00m \u001b[38;5;28mrange\u001b[39m(start, limit, step):\n\u001b[1;32m---> 20\u001b[0m     model \u001b[38;5;241m=\u001b[39m \u001b[43mgensim\u001b[49m\u001b[38;5;241;43m.\u001b[39;49m\u001b[43mmodels\u001b[49m\u001b[38;5;241;43m.\u001b[39;49m\u001b[43mldamodel\u001b[49m\u001b[38;5;241;43m.\u001b[39;49m\u001b[43mLdaModel\u001b[49m\u001b[43m(\u001b[49m\u001b[43mcorpus\u001b[49m\u001b[38;5;241;43m=\u001b[39;49m\u001b[43mcorpus\u001b[49m\u001b[43m,\u001b[49m\u001b[43m \u001b[49m\u001b[43mnum_topics\u001b[49m\u001b[38;5;241;43m=\u001b[39;49m\u001b[43mnum_topics\u001b[49m\u001b[43m,\u001b[49m\u001b[43m \u001b[49m\u001b[43mid2word\u001b[49m\u001b[38;5;241;43m=\u001b[39;49m\u001b[43mdictionary\u001b[49m\u001b[43m)\u001b[49m\n\u001b[0;32m     21\u001b[0m     model_list\u001b[38;5;241m.\u001b[39mappend(model)\n\u001b[0;32m     22\u001b[0m     coherencemodel \u001b[38;5;241m=\u001b[39m CoherenceModel(model\u001b[38;5;241m=\u001b[39mmodel, texts\u001b[38;5;241m=\u001b[39mtexts, dictionary\u001b[38;5;241m=\u001b[39mdictionary, coherence\u001b[38;5;241m=\u001b[39m\u001b[38;5;124m'\u001b[39m\u001b[38;5;124mc_v\u001b[39m\u001b[38;5;124m'\u001b[39m)\n",
      "File \u001b[1;32m~\\anaconda3\\lib\\site-packages\\gensim\\models\\ldamodel.py:520\u001b[0m, in \u001b[0;36m__init__\u001b[1;34m(self, corpus, num_topics, id2word, distributed, chunksize, passes, update_every, alpha, eta, decay, offset, eval_every, iterations, gamma_threshold, minimum_probability, random_state, ns_conf, minimum_phi_value, per_word_topics, callbacks, dtype)\u001b[0m\n\u001b[0;32m    518\u001b[0m \u001b[38;5;28;01mif\u001b[39;00m corpus \u001b[38;5;129;01mis\u001b[39;00m \u001b[38;5;129;01mnot\u001b[39;00m \u001b[38;5;28;01mNone\u001b[39;00m:\n\u001b[0;32m    519\u001b[0m     use_numpy \u001b[38;5;241m=\u001b[39m \u001b[38;5;28mself\u001b[39m\u001b[38;5;241m.\u001b[39mdispatcher \u001b[38;5;129;01mis\u001b[39;00m \u001b[38;5;129;01mnot\u001b[39;00m \u001b[38;5;28;01mNone\u001b[39;00m\n\u001b[1;32m--> 520\u001b[0m     start \u001b[38;5;241m=\u001b[39m time\u001b[38;5;241m.\u001b[39mtime()\n\u001b[0;32m    521\u001b[0m     \u001b[38;5;28mself\u001b[39m\u001b[38;5;241m.\u001b[39mupdate(corpus, chunks_as_numpy\u001b[38;5;241m=\u001b[39muse_numpy)\n\u001b[0;32m    522\u001b[0m     \u001b[38;5;28mself\u001b[39m\u001b[38;5;241m.\u001b[39madd_lifecycle_event(\n\u001b[0;32m    523\u001b[0m         \u001b[38;5;124m\"\u001b[39m\u001b[38;5;124mcreated\u001b[39m\u001b[38;5;124m\"\u001b[39m,\n\u001b[0;32m    524\u001b[0m         msg\u001b[38;5;241m=\u001b[39m\u001b[38;5;124mf\u001b[39m\u001b[38;5;124m\"\u001b[39m\u001b[38;5;124mtrained \u001b[39m\u001b[38;5;132;01m{\u001b[39;00m\u001b[38;5;28mself\u001b[39m\u001b[38;5;132;01m}\u001b[39;00m\u001b[38;5;124m in \u001b[39m\u001b[38;5;132;01m{\u001b[39;00mtime\u001b[38;5;241m.\u001b[39mtime() \u001b[38;5;241m-\u001b[39m start\u001b[38;5;132;01m:\u001b[39;00m\u001b[38;5;124m.2f\u001b[39m\u001b[38;5;132;01m}\u001b[39;00m\u001b[38;5;124ms\u001b[39m\u001b[38;5;124m\"\u001b[39m,\n\u001b[0;32m    525\u001b[0m     )\n",
      "File \u001b[1;32m~\\anaconda3\\lib\\site-packages\\gensim\\models\\ldamodel.py:1005\u001b[0m, in \u001b[0;36mupdate\u001b[1;34m(self, corpus, chunksize, decay, offset, passes, update_every, eval_every, iterations, gamma_threshold, chunks_as_numpy)\u001b[0m\n\u001b[0;32m   1000\u001b[0m     \u001b[38;5;28mself\u001b[39m\u001b[38;5;241m.\u001b[39mdispatcher\u001b[38;5;241m.\u001b[39mputjob(chunk)\n\u001b[0;32m   1001\u001b[0m \u001b[38;5;28;01melse\u001b[39;00m:\n\u001b[0;32m   1002\u001b[0m     logger\u001b[38;5;241m.\u001b[39minfo(\n\u001b[0;32m   1003\u001b[0m         \u001b[38;5;124m\"\u001b[39m\u001b[38;5;124mPROGRESS: pass \u001b[39m\u001b[38;5;132;01m%i\u001b[39;00m\u001b[38;5;124m, at document #\u001b[39m\u001b[38;5;132;01m%i\u001b[39;00m\u001b[38;5;124m/\u001b[39m\u001b[38;5;132;01m%i\u001b[39;00m\u001b[38;5;124m\"\u001b[39m,\n\u001b[0;32m   1004\u001b[0m         pass_, chunk_no \u001b[38;5;241m*\u001b[39m chunksize \u001b[38;5;241m+\u001b[39m \u001b[38;5;28mlen\u001b[39m(chunk), lencorpus\n\u001b[1;32m-> 1005\u001b[0m     )\n\u001b[0;32m   1006\u001b[0m     gammat \u001b[38;5;241m=\u001b[39m \u001b[38;5;28mself\u001b[39m\u001b[38;5;241m.\u001b[39mdo_estep(chunk, other)\n\u001b[0;32m   1008\u001b[0m     \u001b[38;5;28;01mif\u001b[39;00m \u001b[38;5;28mself\u001b[39m\u001b[38;5;241m.\u001b[39moptimize_alpha:\n",
      "File \u001b[1;32m~\\anaconda3\\lib\\site-packages\\gensim\\models\\ldamodel.py:767\u001b[0m, in \u001b[0;36mdo_estep\u001b[1;34m(self, chunk, state)\u001b[0m\n\u001b[0;32m    750\u001b[0m \u001b[38;5;124;03m\"\"\"Perform inference on a chunk of documents, and accumulate the collected sufficient statistics.\u001b[39;00m\n\u001b[0;32m    751\u001b[0m \n\u001b[0;32m    752\u001b[0m \u001b[38;5;124;03mParameters\u001b[39;00m\n\u001b[1;32m   (...)\u001b[0m\n\u001b[0;32m    764\u001b[0m \n\u001b[0;32m    765\u001b[0m \u001b[38;5;124;03m\"\"\"\u001b[39;00m\n\u001b[0;32m    766\u001b[0m \u001b[38;5;28;01mif\u001b[39;00m state \u001b[38;5;129;01mis\u001b[39;00m \u001b[38;5;28;01mNone\u001b[39;00m:\n\u001b[1;32m--> 767\u001b[0m     state \u001b[38;5;241m=\u001b[39m \u001b[38;5;28mself\u001b[39m\u001b[38;5;241m.\u001b[39mstate\n\u001b[0;32m    768\u001b[0m gamma, sstats \u001b[38;5;241m=\u001b[39m \u001b[38;5;28mself\u001b[39m\u001b[38;5;241m.\u001b[39minference(chunk, collect_sstats\u001b[38;5;241m=\u001b[39m\u001b[38;5;28;01mTrue\u001b[39;00m)\n\u001b[0;32m    769\u001b[0m state\u001b[38;5;241m.\u001b[39msstats \u001b[38;5;241m+\u001b[39m\u001b[38;5;241m=\u001b[39m sstats\n",
      "File \u001b[1;32m~\\anaconda3\\lib\\site-packages\\gensim\\models\\ldamodel.py:721\u001b[0m, in \u001b[0;36minference\u001b[1;34m(self, chunk, collect_sstats)\u001b[0m\n\u001b[0;32m    719\u001b[0m gammad \u001b[38;5;241m=\u001b[39m \u001b[38;5;28mself\u001b[39m\u001b[38;5;241m.\u001b[39malpha \u001b[38;5;241m+\u001b[39m expElogthetad \u001b[38;5;241m*\u001b[39m np\u001b[38;5;241m.\u001b[39mdot(cts \u001b[38;5;241m/\u001b[39m phinorm, expElogbetad\u001b[38;5;241m.\u001b[39mT)\n\u001b[0;32m    720\u001b[0m Elogthetad \u001b[38;5;241m=\u001b[39m dirichlet_expectation(gammad)\n\u001b[1;32m--> 721\u001b[0m expElogthetad \u001b[38;5;241m=\u001b[39m np\u001b[38;5;241m.\u001b[39mexp(Elogthetad)\n\u001b[0;32m    722\u001b[0m phinorm \u001b[38;5;241m=\u001b[39m np\u001b[38;5;241m.\u001b[39mdot(expElogthetad, expElogbetad) \u001b[38;5;241m+\u001b[39m epsilon\n\u001b[0;32m    723\u001b[0m \u001b[38;5;66;03m# If gamma hasn't changed much, we're done.\u001b[39;00m\n",
      "File \u001b[1;32m<__array_function__ internals>:200\u001b[0m, in \u001b[0;36mdot\u001b[1;34m(*args, **kwargs)\u001b[0m\n",
      "\u001b[1;31mKeyboardInterrupt\u001b[0m: "
     ]
    }
   ],
   "source": [
    "model_list, coherence_values = compute_coherence_values(dictionary=dictionary, corpus=doc_term_matrix, texts=tokenized_reviews, start=2, limit=50, step=1)\n"
   ]
  },
  {
   "cell_type": "code",
   "execution_count": 30,
   "id": "816b5dfd",
   "metadata": {},
   "outputs": [
    {
     "ename": "NameError",
     "evalue": "name 'coherence_values' is not defined",
     "output_type": "error",
     "traceback": [
      "\u001b[1;31m---------------------------------------------------------------------------\u001b[0m",
      "\u001b[1;31mNameError\u001b[0m                                 Traceback (most recent call last)",
      "Input \u001b[1;32mIn [30]\u001b[0m, in \u001b[0;36m<cell line: 4>\u001b[1;34m()\u001b[0m\n\u001b[0;32m      2\u001b[0m limit\u001b[38;5;241m=\u001b[39m\u001b[38;5;241m50\u001b[39m; start\u001b[38;5;241m=\u001b[39m\u001b[38;5;241m2\u001b[39m; step\u001b[38;5;241m=\u001b[39m\u001b[38;5;241m1\u001b[39m;\n\u001b[0;32m      3\u001b[0m x \u001b[38;5;241m=\u001b[39m \u001b[38;5;28mrange\u001b[39m(start, limit, step)\n\u001b[1;32m----> 4\u001b[0m plt\u001b[38;5;241m.\u001b[39mplot(x, \u001b[43mcoherence_values\u001b[49m)\n\u001b[0;32m      5\u001b[0m plt\u001b[38;5;241m.\u001b[39mxlabel(\u001b[38;5;124m\"\u001b[39m\u001b[38;5;124mNum Topics\u001b[39m\u001b[38;5;124m\"\u001b[39m)\n\u001b[0;32m      6\u001b[0m plt\u001b[38;5;241m.\u001b[39mylabel(\u001b[38;5;124m\"\u001b[39m\u001b[38;5;124mCoherence score\u001b[39m\u001b[38;5;124m\"\u001b[39m)\n",
      "\u001b[1;31mNameError\u001b[0m: name 'coherence_values' is not defined"
     ]
    }
   ],
   "source": [
    "# Show graph\n",
    "limit=50; start=2; step=1;\n",
    "x = range(start, limit, step)\n",
    "plt.plot(x, coherence_values)\n",
    "plt.xlabel(\"Num Topics\")\n",
    "plt.ylabel(\"Coherence score\")\n",
    "plt.legend((\"coherence_values\"), loc='best')\n",
    "plt.show()# Print the coherence scores"
   ]
  },
  {
   "cell_type": "code",
   "execution_count": null,
   "id": "2acb4a38",
   "metadata": {},
   "outputs": [],
   "source": [
    "# Print the coherence scores\n",
    "for m, cv in zip(x, coherence_values):\n",
    "    print(\"Num Topics =\", m, \" has Coherence Value of\", round(cv, 4))"
   ]
  },
  {
   "cell_type": "code",
   "execution_count": null,
   "id": "bc9f0ad1",
   "metadata": {},
   "outputs": [],
   "source": [
    "\n",
    "# Select the model and print the topics\n",
    "optimal_model = model_list[7]\n",
    "model_topics = optimal_model.show_topics(formatted=False)\n",
    "optimal_model.print_topics(num_words=10)"
   ]
  },
  {
   "cell_type": "code",
   "execution_count": null,
   "id": "31ca001e",
   "metadata": {},
   "outputs": [],
   "source": [
    "# Visualize the topics\n",
    "pyLDAvis.enable_notebook()\n",
    "vis = pyLDAvis.gensim.prepare(optimal_model, doc_term_matrix, dictionary, n_jobs=1)\n",
    "vis"
   ]
  },
  {
   "cell_type": "code",
   "execution_count": null,
   "id": "9838eed5",
   "metadata": {},
   "outputs": [],
   "source": []
  },
  {
   "cell_type": "code",
   "execution_count": null,
   "id": "60048070",
   "metadata": {},
   "outputs": [],
   "source": []
  }
 ],
 "metadata": {
  "kernelspec": {
   "display_name": "Python 3 (ipykernel)",
   "language": "python",
   "name": "python3"
  },
  "language_info": {
   "codemirror_mode": {
    "name": "ipython",
    "version": 3
   },
   "file_extension": ".py",
   "mimetype": "text/x-python",
   "name": "python",
   "nbconvert_exporter": "python",
   "pygments_lexer": "ipython3",
   "version": "3.9.12"
  }
 },
 "nbformat": 4,
 "nbformat_minor": 5
}
